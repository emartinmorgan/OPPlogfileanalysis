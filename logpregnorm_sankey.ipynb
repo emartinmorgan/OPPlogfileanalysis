{
  "nbformat": 4,
  "nbformat_minor": 0,
  "metadata": {
    "colab": {
      "name": "logpregnorm_sankey.ipynb",
      "provenance": [],
      "collapsed_sections": [],
      "include_colab_link": true
    },
    "kernelspec": {
      "name": "python3",
      "display_name": "Python 3"
    },
    "language_info": {
      "name": "python"
    }
  },
  "cells": [
    {
      "cell_type": "markdown",
      "metadata": {
        "id": "view-in-github",
        "colab_type": "text"
      },
      "source": [
        "<a href=\"https://colab.research.google.com/github/emartinmorgan/OPPlogfileanalysis/blob/main/logpregnorm_sankey.ipynb\" target=\"_parent\"><img src=\"https://colab.research.google.com/assets/colab-badge.svg\" alt=\"Open In Colab\"/></a>"
      ]
    },
    {
      "cell_type": "markdown",
      "metadata": {
        "id": "RjCY1x_Md1gH"
      },
      "source": [
        "[Sankey Tutorial](https://towardsdatascience.com/visualizing-in-app-user-journey-using-sankey-diagrams-in-python-8373a7bb2d22)"
      ]
    },
    {
      "cell_type": "code",
      "metadata": {
        "id": "ha-jj-1aDV65",
        "colab": {
          "base_uri": "https://localhost:8080/"
        },
        "outputId": "23c44f7c-4201-40d9-b807-4b6252fcb2b5"
      },
      "source": [
        "# Load data\n",
        "from google.colab import drive\n",
        "drive.mount('/content/drive')"
      ],
      "execution_count": null,
      "outputs": [
        {
          "output_type": "stream",
          "text": [
            "Mounted at /content/drive\n"
          ],
          "name": "stdout"
        }
      ]
    },
    {
      "cell_type": "code",
      "metadata": {
        "colab": {
          "base_uri": "https://localhost:8080/"
        },
        "id": "bX9ssfs8L0wx",
        "outputId": "bbca2fe1-275b-479f-e0bd-911fa800d075"
      },
      "source": [
        "# !pip install chart_studio\n",
        "import pandas as pd\n",
        "import numpy as np\n",
        "# import chart_studio.plotly as cspy\n",
        "import plotly.graph_objects as go\n",
        "import matplotlib.pyplot as plt\n",
        "\n",
        "# import chart_studio.plotly as py\n",
        "import plotly.graph_objects as go\n",
        "\n",
        "import plotly.express as px\n",
        "# import chart_studio.plotly as py\n",
        "import plotly\n",
        "\n",
        "import seaborn as se\n",
        "from google.colab import files\n",
        "print(\"hello world\")"
      ],
      "execution_count": null,
      "outputs": [
        {
          "output_type": "stream",
          "text": [
            "hello world\n"
          ],
          "name": "stdout"
        }
      ]
    },
    {
      "cell_type": "code",
      "metadata": {
        "colab": {
          "base_uri": "https://localhost:8080/",
          "height": 424
        },
        "id": "luqqpA4fMni-",
        "outputId": "da285259-ed6d-4f51-b09c-24d4258e04f0"
      },
      "source": [
        "norm = pd.read_csv(\"/content/drive/MyDrive/OSU - BMI/Fareed Lab/Thesis/Data_Final/Sankey/sank_norm_fin.csv\")\n",
        "norm"
      ],
      "execution_count": null,
      "outputs": [
        {
          "output_type": "execute_result",
          "data": {
            "text/html": [
              "<div>\n",
              "<style scoped>\n",
              "    .dataframe tbody tr th:only-of-type {\n",
              "        vertical-align: middle;\n",
              "    }\n",
              "\n",
              "    .dataframe tbody tr th {\n",
              "        vertical-align: top;\n",
              "    }\n",
              "\n",
              "    .dataframe thead th {\n",
              "        text-align: right;\n",
              "    }\n",
              "</style>\n",
              "<table border=\"1\" class=\"dataframe\">\n",
              "  <thead>\n",
              "    <tr style=\"text-align: right;\">\n",
              "      <th></th>\n",
              "      <th>pat_epi</th>\n",
              "      <th>clus_norm_id</th>\n",
              "      <th>clus_norm</th>\n",
              "      <th>tri</th>\n",
              "    </tr>\n",
              "  </thead>\n",
              "  <tbody>\n",
              "    <tr>\n",
              "      <th>0</th>\n",
              "      <td>1.1</td>\n",
              "      <td>1.0</td>\n",
              "      <td>Average Users</td>\n",
              "      <td>1</td>\n",
              "    </tr>\n",
              "    <tr>\n",
              "      <th>1</th>\n",
              "      <td>3.1</td>\n",
              "      <td>2.0</td>\n",
              "      <td>Intense Digital Engagers</td>\n",
              "      <td>1</td>\n",
              "    </tr>\n",
              "    <tr>\n",
              "      <th>2</th>\n",
              "      <td>5.1</td>\n",
              "      <td>3.0</td>\n",
              "      <td>Average Users</td>\n",
              "      <td>1</td>\n",
              "    </tr>\n",
              "    <tr>\n",
              "      <th>3</th>\n",
              "      <td>8.1</td>\n",
              "      <td>4.0</td>\n",
              "      <td>Resulters</td>\n",
              "      <td>1</td>\n",
              "    </tr>\n",
              "    <tr>\n",
              "      <th>4</th>\n",
              "      <td>13.1</td>\n",
              "      <td>5.0</td>\n",
              "      <td>Average Users</td>\n",
              "      <td>1</td>\n",
              "    </tr>\n",
              "    <tr>\n",
              "      <th>...</th>\n",
              "      <td>...</td>\n",
              "      <td>...</td>\n",
              "      <td>...</td>\n",
              "      <td>...</td>\n",
              "    </tr>\n",
              "    <tr>\n",
              "      <th>24927</th>\n",
              "      <td>17404.1</td>\n",
              "      <td>6226.0</td>\n",
              "      <td>Average Users</td>\n",
              "      <td>4</td>\n",
              "    </tr>\n",
              "    <tr>\n",
              "      <th>24928</th>\n",
              "      <td>17405.1</td>\n",
              "      <td>6227.0</td>\n",
              "      <td>Average Users</td>\n",
              "      <td>4</td>\n",
              "    </tr>\n",
              "    <tr>\n",
              "      <th>24929</th>\n",
              "      <td>17406.1</td>\n",
              "      <td>6228.0</td>\n",
              "      <td>Prepared Engagers</td>\n",
              "      <td>4</td>\n",
              "    </tr>\n",
              "    <tr>\n",
              "      <th>24930</th>\n",
              "      <td>17407.1</td>\n",
              "      <td>6229.0</td>\n",
              "      <td>Average Users</td>\n",
              "      <td>4</td>\n",
              "    </tr>\n",
              "    <tr>\n",
              "      <th>24931</th>\n",
              "      <td>17411.1</td>\n",
              "      <td>6230.0</td>\n",
              "      <td>Prepared Engagers</td>\n",
              "      <td>4</td>\n",
              "    </tr>\n",
              "  </tbody>\n",
              "</table>\n",
              "<p>24932 rows × 4 columns</p>\n",
              "</div>"
            ],
            "text/plain": [
              "       pat_epi  clus_norm_id                 clus_norm  tri\n",
              "0          1.1           1.0             Average Users    1\n",
              "1          3.1           2.0  Intense Digital Engagers    1\n",
              "2          5.1           3.0             Average Users    1\n",
              "3          8.1           4.0                 Resulters    1\n",
              "4         13.1           5.0             Average Users    1\n",
              "...        ...           ...                       ...  ...\n",
              "24927  17404.1        6226.0             Average Users    4\n",
              "24928  17405.1        6227.0             Average Users    4\n",
              "24929  17406.1        6228.0         Prepared Engagers    4\n",
              "24930  17407.1        6229.0             Average Users    4\n",
              "24931  17411.1        6230.0         Prepared Engagers    4\n",
              "\n",
              "[24932 rows x 4 columns]"
            ]
          },
          "metadata": {
            "tags": []
          },
          "execution_count": 148
        }
      ]
    },
    {
      "cell_type": "code",
      "metadata": {
        "colab": {
          "base_uri": "https://localhost:8080/",
          "height": 366
        },
        "id": "M20jRazln534",
        "outputId": "aa843f2e-10c1-4f09-dee9-cc3e8d47cde6"
      },
      "source": [
        "plt.hist(norm.clus_norm,bins=10)\n",
        "plt.xticks(rotation = 45)"
      ],
      "execution_count": null,
      "outputs": [
        {
          "output_type": "execute_result",
          "data": {
            "text/plain": [
              "([0, 1, 2, 3, 4, 5], <a list of 6 Text major ticklabel objects>)"
            ]
          },
          "metadata": {
            "tags": []
          },
          "execution_count": 149
        },
        {
          "output_type": "display_data",
          "data": {
            "image/png": "[encoded data removed]",
            "text/plain": [
              "<Figure size 432x288 with 1 Axes>"
            ]
          },
          "metadata": {
            "tags": [],
            "needs_background": "light"
          }
        }
      ]
    },
    {
      "cell_type": "code",
      "metadata": {
        "colab": {
          "base_uri": "https://localhost:8080/",
          "height": 206
        },
        "id": "dub0G2Hw9cSI",
        "outputId": "55dd6356-ac46-4f3c-86ab-1d231488a3b3"
      },
      "source": [
        "# Based on the tri, we can compute the rank of each cluster at the pat_epi level:\n",
        "\n",
        "# a) Sort ascendingly per pat_epi and tri\n",
        "\n",
        "norm.sort_values(['pat_epi', 'tri'],\n",
        "                 ascending=[True, True], inplace=True)\n",
        "norm.head()"
      ],
      "execution_count": null,
      "outputs": [
        {
          "output_type": "execute_result",
          "data": {
            "text/html": [
              "<div>\n",
              "<style scoped>\n",
              "    .dataframe tbody tr th:only-of-type {\n",
              "        vertical-align: middle;\n",
              "    }\n",
              "\n",
              "    .dataframe tbody tr th {\n",
              "        vertical-align: top;\n",
              "    }\n",
              "\n",
              "    .dataframe thead th {\n",
              "        text-align: right;\n",
              "    }\n",
              "</style>\n",
              "<table border=\"1\" class=\"dataframe\">\n",
              "  <thead>\n",
              "    <tr style=\"text-align: right;\">\n",
              "      <th></th>\n",
              "      <th>pat_epi</th>\n",
              "      <th>clus_norm_id</th>\n",
              "      <th>clus_norm</th>\n",
              "      <th>tri</th>\n",
              "    </tr>\n",
              "  </thead>\n",
              "  <tbody>\n",
              "    <tr>\n",
              "      <th>0</th>\n",
              "      <td>1.1</td>\n",
              "      <td>1.0</td>\n",
              "      <td>Average Users</td>\n",
              "      <td>1</td>\n",
              "    </tr>\n",
              "    <tr>\n",
              "      <th>6233</th>\n",
              "      <td>1.1</td>\n",
              "      <td>1.0</td>\n",
              "      <td>Intense Digital Engagers</td>\n",
              "      <td>2</td>\n",
              "    </tr>\n",
              "    <tr>\n",
              "      <th>12466</th>\n",
              "      <td>1.1</td>\n",
              "      <td>1.0</td>\n",
              "      <td>Average Users</td>\n",
              "      <td>3</td>\n",
              "    </tr>\n",
              "    <tr>\n",
              "      <th>18699</th>\n",
              "      <td>1.1</td>\n",
              "      <td>1.0</td>\n",
              "      <td>Average Users</td>\n",
              "      <td>4</td>\n",
              "    </tr>\n",
              "    <tr>\n",
              "      <th>1</th>\n",
              "      <td>3.1</td>\n",
              "      <td>2.0</td>\n",
              "      <td>Intense Digital Engagers</td>\n",
              "      <td>1</td>\n",
              "    </tr>\n",
              "  </tbody>\n",
              "</table>\n",
              "</div>"
            ],
            "text/plain": [
              "       pat_epi  clus_norm_id                 clus_norm  tri\n",
              "0          1.1           1.0             Average Users    1\n",
              "6233       1.1           1.0  Intense Digital Engagers    2\n",
              "12466      1.1           1.0             Average Users    3\n",
              "18699      1.1           1.0             Average Users    4\n",
              "1          3.1           2.0  Intense Digital Engagers    1"
            ]
          },
          "metadata": {
            "tags": []
          },
          "execution_count": 150
        }
      ]
    },
    {
      "cell_type": "code",
      "metadata": {
        "id": "NVSakPpHzoWs"
      },
      "source": [
        "norm=norm[norm.tri!=4]"
      ],
      "execution_count": null,
      "outputs": []
    },
    {
      "cell_type": "code",
      "metadata": {
        "colab": {
          "base_uri": "https://localhost:8080/",
          "height": 365
        },
        "id": "l66iTmwDOzEi",
        "outputId": "6ae8b8e7-cad1-4c67-f523-056e4c0a5f49"
      },
      "source": [
        "# b) Define a ranking function based on tri, using the method = 'first' param to ensure no clusters have the same rank\n",
        "\n",
        "# def rank(x): return x['tri'].rank(method='first').astype(int)\n",
        "\n",
        "# c) Group by user_id \n",
        "grouped = norm.groupby('pat_epi')\n",
        "\n",
        "# d) Apply the ranking function to the all DF into a new \"rank_clus\" column\n",
        "# norm[\"rank_clus\"] = grouped.apply(rank).reset_index(0, drop=True)\n",
        "\n",
        "# e) The shift function allows to access the next row's data. Here, we'll want the cluster name\n",
        "def get_next_clus(x): return x['clus_norm'].shift(-1)\n",
        "\n",
        "# f) Apply the function into a new \"next_clus\" column\n",
        "norm[\"next_clus\"] = grouped.apply(\n",
        "     lambda x: get_next_clus(x)).reset_index(0, drop=True)\n",
        "\n",
        "# g) Regroup by user_id \n",
        "grouped = norm.groupby('pat_epi')\n",
        "norm.head()"
      ],
      "execution_count": null,
      "outputs": [
        {
          "output_type": "stream",
          "text": [
            "/usr/local/lib/python3.7/dist-packages/ipykernel_launcher.py:16: SettingWithCopyWarning:\n",
            "\n",
            "\n",
            "A value is trying to be set on a copy of a slice from a DataFrame.\n",
            "Try using .loc[row_indexer,col_indexer] = value instead\n",
            "\n",
            "See the caveats in the documentation: https://pandas.pydata.org/pandas-docs/stable/user_guide/indexing.html#returning-a-view-versus-a-copy\n",
            "\n"
          ],
          "name": "stderr"
        },
        {
          "output_type": "execute_result",
          "data": {
            "text/html": [
              "<div>\n",
              "<style scoped>\n",
              "    .dataframe tbody tr th:only-of-type {\n",
              "        vertical-align: middle;\n",
              "    }\n",
              "\n",
              "    .dataframe tbody tr th {\n",
              "        vertical-align: top;\n",
              "    }\n",
              "\n",
              "    .dataframe thead th {\n",
              "        text-align: right;\n",
              "    }\n",
              "</style>\n",
              "<table border=\"1\" class=\"dataframe\">\n",
              "  <thead>\n",
              "    <tr style=\"text-align: right;\">\n",
              "      <th></th>\n",
              "      <th>pat_epi</th>\n",
              "      <th>clus_norm_id</th>\n",
              "      <th>clus_norm</th>\n",
              "      <th>tri</th>\n",
              "      <th>next_clus</th>\n",
              "    </tr>\n",
              "  </thead>\n",
              "  <tbody>\n",
              "    <tr>\n",
              "      <th>0</th>\n",
              "      <td>1.1</td>\n",
              "      <td>1.0</td>\n",
              "      <td>Average Users</td>\n",
              "      <td>1</td>\n",
              "      <td>Intense Digital Engagers</td>\n",
              "    </tr>\n",
              "    <tr>\n",
              "      <th>6233</th>\n",
              "      <td>1.1</td>\n",
              "      <td>1.0</td>\n",
              "      <td>Intense Digital Engagers</td>\n",
              "      <td>2</td>\n",
              "      <td>Average Users</td>\n",
              "    </tr>\n",
              "    <tr>\n",
              "      <th>12466</th>\n",
              "      <td>1.1</td>\n",
              "      <td>1.0</td>\n",
              "      <td>Average Users</td>\n",
              "      <td>3</td>\n",
              "      <td>NaN</td>\n",
              "    </tr>\n",
              "    <tr>\n",
              "      <th>1</th>\n",
              "      <td>3.1</td>\n",
              "      <td>2.0</td>\n",
              "      <td>Intense Digital Engagers</td>\n",
              "      <td>1</td>\n",
              "      <td>Intense Digital Engagers</td>\n",
              "    </tr>\n",
              "    <tr>\n",
              "      <th>6234</th>\n",
              "      <td>3.1</td>\n",
              "      <td>2.0</td>\n",
              "      <td>Intense Digital Engagers</td>\n",
              "      <td>2</td>\n",
              "      <td>Schedulers</td>\n",
              "    </tr>\n",
              "  </tbody>\n",
              "</table>\n",
              "</div>"
            ],
            "text/plain": [
              "       pat_epi  clus_norm_id  ... tri                 next_clus\n",
              "0          1.1           1.0  ...   1  Intense Digital Engagers\n",
              "6233       1.1           1.0  ...   2             Average Users\n",
              "12466      1.1           1.0  ...   3                       NaN\n",
              "1          3.1           2.0  ...   1  Intense Digital Engagers\n",
              "6234       3.1           2.0  ...   2                Schedulers\n",
              "\n",
              "[5 rows x 5 columns]"
            ]
          },
          "metadata": {
            "tags": []
          },
          "execution_count": 152
        }
      ]
    },
    {
      "cell_type": "markdown",
      "metadata": {
        "id": "M2_WkQIvGp6s"
      },
      "source": [
        "We attribute a unique color to each event, and name this dict nodes_dict."
      ]
    },
    {
      "cell_type": "code",
      "metadata": {
        "id": "droDtNTo7RJc"
      },
      "source": [
        "# Working on the nodes_dict\n",
        "\n",
        "norm_clus = list(norm.clus_norm.unique())\n",
        "\n",
        "# Create a set of colors that you'd like to use in your plot.\n",
        "palette = ['50BE97', 'E4655C', 'FBEEAC', '3E5066',\n",
        "           'BFD6DE', 'FCC865', '353A3E', 'E6E6E6']\n",
        "#  Here, I passed the colors as HEX, but we need to pass it as RGB. This loop will convert from HEX to RGB:\n",
        "for i, col in enumerate(palette):\n",
        "    palette[i] = tuple(int(col[i:i+2], 16) for i in (0, 2, 4))\n",
        "\n",
        "# Append a Seaborn complementary palette to your palette in case you did not provide enough colors to style every event\n",
        "# complementary_palette = se.color_palette(\"deep\", len(all_events) - len(palette))\n",
        "# if len(complementary_palette) > 0:\n",
        "#     palette.extend(complementary_palette)\n",
        "\n",
        "output = dict()\n",
        "output.update({'nodes_dict': dict()})\n",
        "\n",
        "i = 0\n",
        "for tri in norm.tri.unique(): # For each tri of clus...\n",
        "    # Create a new key equal to the tri...\n",
        "    output['nodes_dict'].update(\n",
        "        {tri: dict()}\n",
        "    )\n",
        "    \n",
        "    # Look at all the events that were done at this step of the funnel...\n",
        "    norm_clus_at_this_tri = norm[norm.tri ==\n",
        "                                   tri].clus_norm.unique()\n",
        "    \n",
        "    # Read the colors for these events and store them in a list...\n",
        "    tri_palette = []\n",
        "    for clus in norm_clus_at_this_tri:\n",
        "        tri_palette.append(palette[list(norm_clus).index(clus)])\n",
        "    \n",
        "    # Keep trace of the events' names, colors and indices.\n",
        "    output['nodes_dict'][tri].update(\n",
        "        {\n",
        "            'sources': list(norm_clus_at_this_tri),\n",
        "            'color': tri_palette,\n",
        "            'sources_index': list(range(i, i+len(norm_clus_at_this_tri)))\n",
        "        }\n",
        "    )\n",
        "    # Finally, increment by the length of this rank's available clus to make sure next indices will not be chosen from existing ones\n",
        "    i += len(output['nodes_dict'][tri]['sources_index'])"
      ],
      "execution_count": null,
      "outputs": []
    },
    {
      "cell_type": "code",
      "metadata": {
        "colab": {
          "base_uri": "https://localhost:8080/"
        },
        "id": "8trJUbSXoUzJ",
        "outputId": "1da0302f-3692-4a1a-a740-95a1f3015737"
      },
      "source": [
        "norm_clus_at_this_tri"
      ],
      "execution_count": null,
      "outputs": [
        {
          "output_type": "execute_result",
          "data": {
            "text/plain": [
              "array(['Average Users', 'Schedulers', 'Intense Digital Engagers',\n",
              "       'Resulters', 'Non-Users'], dtype=object)"
            ]
          },
          "metadata": {
            "tags": []
          },
          "execution_count": 154
        }
      ]
    },
    {
      "cell_type": "code",
      "metadata": {
        "colab": {
          "base_uri": "https://localhost:8080/",
          "height": 32
        },
        "id": "VR0sPo7mZIGJ",
        "outputId": "4ce1eebe-6184-433a-93bc-41ac0f39391b"
      },
      "source": [
        "# Working on the links_dict\n",
        "\n",
        "output.update({'links_dict': dict()})\n",
        "\n",
        "# Group the DataFrame by pat_epi and tri\n",
        "grouped = norm.groupby(['pat_epi', 'tri'])\n",
        "\n",
        "# Define a function to read the souces, targets, values clus_norm to next_clus:\n",
        "def update_source_target(user):\n",
        "    try:\n",
        "        # user.name[0] is the user's pat_epi; user.name[1] is the tri\n",
        "        # 1st we retrieve the source and target's indices from nodes_dict\n",
        "        source_index = output['nodes_dict'][user.name[1]]['sources_index'][output['nodes_dict']\n",
        "                                                                           [user.name[1]]['sources'].index(user['clus_norm'].values[0])]\n",
        "        target_index = output['nodes_dict'][user.name[1] + 1]['sources_index'][output['nodes_dict']\n",
        "                                                                               [user.name[1] + 1]['sources'].index(user['next_clus'].values[0])]\n",
        "\n",
        "         # If this source is already in links_dict...\n",
        "        if source_index in output['links_dict']:\n",
        "            # ...and if this target is already associated to this source...\n",
        "            if target_index in output['links_dict'][source_index]:\n",
        "                # ...then we increment the count of users with this source/target pair by 1\n",
        "                output['links_dict'][source_index][target_index]['unique_users'] += 1\n",
        "            # ...but if the target is not already associated to this source...\n",
        "            else:\n",
        "                # ...we create a new key for this target, for this source, and initiate it with 1 user and the time from source to target\n",
        "                output['links_dict'][source_index].update({target_index:\n",
        "                                                           dict(\n",
        "                                                               {'unique_users': 1}\n",
        "                                                            )\n",
        "                                                           })\n",
        "        # ...but if this source isn't already available in the links_dict, we create its key and the key of this source's target, and we initiate it with 1 user and the time from source to target\n",
        "        else:\n",
        "            output['links_dict'].update({source_index: dict({target_index: dict(\n",
        "                {'unique_users': 1})})})\n",
        "    except Exception as e:\n",
        "        pass\n",
        "\n",
        "# Apply the function to your grouped Pandas object:\n",
        "grouped.apply(lambda user: update_source_target(user)) \n",
        "\n"
      ],
      "execution_count": null,
      "outputs": [
        {
          "output_type": "execute_result",
          "data": {
            "text/html": [
              "<div>\n",
              "<style scoped>\n",
              "    .dataframe tbody tr th:only-of-type {\n",
              "        vertical-align: middle;\n",
              "    }\n",
              "\n",
              "    .dataframe tbody tr th {\n",
              "        vertical-align: top;\n",
              "    }\n",
              "\n",
              "    .dataframe thead th {\n",
              "        text-align: right;\n",
              "    }\n",
              "</style>\n",
              "<table border=\"1\" class=\"dataframe\">\n",
              "  <thead>\n",
              "    <tr style=\"text-align: right;\">\n",
              "      <th></th>\n",
              "    </tr>\n",
              "  </thead>\n",
              "  <tbody>\n",
              "  </tbody>\n",
              "</table>\n",
              "</div>"
            ],
            "text/plain": [
              "Empty DataFrame\n",
              "Columns: []\n",
              "Index: []"
            ]
          },
          "metadata": {
            "tags": []
          },
          "execution_count": 155
        }
      ]
    },
    {
      "cell_type": "code",
      "metadata": {
        "colab": {
          "base_uri": "https://localhost:8080/",
          "height": 206
        },
        "id": "eSNPeIbUus7Y",
        "outputId": "c0cf92fb-4a52-4064-a51c-abcfa4e02f8a"
      },
      "source": [
        "norm.head()"
      ],
      "execution_count": null,
      "outputs": [
        {
          "output_type": "execute_result",
          "data": {
            "text/html": [
              "<div>\n",
              "<style scoped>\n",
              "    .dataframe tbody tr th:only-of-type {\n",
              "        vertical-align: middle;\n",
              "    }\n",
              "\n",
              "    .dataframe tbody tr th {\n",
              "        vertical-align: top;\n",
              "    }\n",
              "\n",
              "    .dataframe thead th {\n",
              "        text-align: right;\n",
              "    }\n",
              "</style>\n",
              "<table border=\"1\" class=\"dataframe\">\n",
              "  <thead>\n",
              "    <tr style=\"text-align: right;\">\n",
              "      <th></th>\n",
              "      <th>pat_epi</th>\n",
              "      <th>clus_norm_id</th>\n",
              "      <th>clus_norm</th>\n",
              "      <th>tri</th>\n",
              "      <th>next_clus</th>\n",
              "    </tr>\n",
              "  </thead>\n",
              "  <tbody>\n",
              "    <tr>\n",
              "      <th>0</th>\n",
              "      <td>1.1</td>\n",
              "      <td>1.0</td>\n",
              "      <td>Average Users</td>\n",
              "      <td>1</td>\n",
              "      <td>Intense Digital Engagers</td>\n",
              "    </tr>\n",
              "    <tr>\n",
              "      <th>6233</th>\n",
              "      <td>1.1</td>\n",
              "      <td>1.0</td>\n",
              "      <td>Intense Digital Engagers</td>\n",
              "      <td>2</td>\n",
              "      <td>Average Users</td>\n",
              "    </tr>\n",
              "    <tr>\n",
              "      <th>12466</th>\n",
              "      <td>1.1</td>\n",
              "      <td>1.0</td>\n",
              "      <td>Average Users</td>\n",
              "      <td>3</td>\n",
              "      <td>NaN</td>\n",
              "    </tr>\n",
              "    <tr>\n",
              "      <th>1</th>\n",
              "      <td>3.1</td>\n",
              "      <td>2.0</td>\n",
              "      <td>Intense Digital Engagers</td>\n",
              "      <td>1</td>\n",
              "      <td>Intense Digital Engagers</td>\n",
              "    </tr>\n",
              "    <tr>\n",
              "      <th>6234</th>\n",
              "      <td>3.1</td>\n",
              "      <td>2.0</td>\n",
              "      <td>Intense Digital Engagers</td>\n",
              "      <td>2</td>\n",
              "      <td>Schedulers</td>\n",
              "    </tr>\n",
              "  </tbody>\n",
              "</table>\n",
              "</div>"
            ],
            "text/plain": [
              "       pat_epi  clus_norm_id  ... tri                 next_clus\n",
              "0          1.1           1.0  ...   1  Intense Digital Engagers\n",
              "6233       1.1           1.0  ...   2             Average Users\n",
              "12466      1.1           1.0  ...   3                       NaN\n",
              "1          3.1           2.0  ...   1  Intense Digital Engagers\n",
              "6234       3.1           2.0  ...   2                Schedulers\n",
              "\n",
              "[5 rows x 5 columns]"
            ]
          },
          "metadata": {
            "tags": []
          },
          "execution_count": 156
        }
      ]
    },
    {
      "cell_type": "code",
      "metadata": {
        "colab": {
          "base_uri": "https://localhost:8080/",
          "height": 489
        },
        "id": "gd38hYbVyZ-a",
        "outputId": "ac57e7a6-9a8e-4b24-a9f7-11724ab83d13"
      },
      "source": [
        "norm.groupby(['clus_norm','tri']).count()"
      ],
      "execution_count": null,
      "outputs": [
        {
          "output_type": "execute_result",
          "data": {
            "text/html": [
              "<div>\n",
              "<style scoped>\n",
              "    .dataframe tbody tr th:only-of-type {\n",
              "        vertical-align: middle;\n",
              "    }\n",
              "\n",
              "    .dataframe tbody tr th {\n",
              "        vertical-align: top;\n",
              "    }\n",
              "\n",
              "    .dataframe thead th {\n",
              "        text-align: right;\n",
              "    }\n",
              "</style>\n",
              "<table border=\"1\" class=\"dataframe\">\n",
              "  <thead>\n",
              "    <tr style=\"text-align: right;\">\n",
              "      <th></th>\n",
              "      <th></th>\n",
              "      <th>pat_epi</th>\n",
              "      <th>clus_norm_id</th>\n",
              "      <th>next_clus</th>\n",
              "    </tr>\n",
              "    <tr>\n",
              "      <th>clus_norm</th>\n",
              "      <th>tri</th>\n",
              "      <th></th>\n",
              "      <th></th>\n",
              "      <th></th>\n",
              "    </tr>\n",
              "  </thead>\n",
              "  <tbody>\n",
              "    <tr>\n",
              "      <th rowspan=\"3\" valign=\"top\">Average Users</th>\n",
              "      <th>1</th>\n",
              "      <td>2847</td>\n",
              "      <td>2847</td>\n",
              "      <td>2847</td>\n",
              "    </tr>\n",
              "    <tr>\n",
              "      <th>2</th>\n",
              "      <td>2255</td>\n",
              "      <td>2255</td>\n",
              "      <td>2255</td>\n",
              "    </tr>\n",
              "    <tr>\n",
              "      <th>3</th>\n",
              "      <td>2047</td>\n",
              "      <td>2047</td>\n",
              "      <td>0</td>\n",
              "    </tr>\n",
              "    <tr>\n",
              "      <th rowspan=\"3\" valign=\"top\">Intense Digital Engagers</th>\n",
              "      <th>1</th>\n",
              "      <td>1129</td>\n",
              "      <td>1129</td>\n",
              "      <td>1129</td>\n",
              "    </tr>\n",
              "    <tr>\n",
              "      <th>2</th>\n",
              "      <td>1860</td>\n",
              "      <td>1860</td>\n",
              "      <td>1860</td>\n",
              "    </tr>\n",
              "    <tr>\n",
              "      <th>3</th>\n",
              "      <td>1597</td>\n",
              "      <td>1597</td>\n",
              "      <td>0</td>\n",
              "    </tr>\n",
              "    <tr>\n",
              "      <th rowspan=\"3\" valign=\"top\">Non-Users</th>\n",
              "      <th>1</th>\n",
              "      <td>57</td>\n",
              "      <td>0</td>\n",
              "      <td>57</td>\n",
              "    </tr>\n",
              "    <tr>\n",
              "      <th>2</th>\n",
              "      <td>17</td>\n",
              "      <td>0</td>\n",
              "      <td>17</td>\n",
              "    </tr>\n",
              "    <tr>\n",
              "      <th>3</th>\n",
              "      <td>42</td>\n",
              "      <td>0</td>\n",
              "      <td>0</td>\n",
              "    </tr>\n",
              "    <tr>\n",
              "      <th>Prepared Engagers</th>\n",
              "      <th>2</th>\n",
              "      <td>2101</td>\n",
              "      <td>2101</td>\n",
              "      <td>2101</td>\n",
              "    </tr>\n",
              "    <tr>\n",
              "      <th rowspan=\"2\" valign=\"top\">Resulters</th>\n",
              "      <th>1</th>\n",
              "      <td>2200</td>\n",
              "      <td>2200</td>\n",
              "      <td>2200</td>\n",
              "    </tr>\n",
              "    <tr>\n",
              "      <th>3</th>\n",
              "      <td>463</td>\n",
              "      <td>463</td>\n",
              "      <td>0</td>\n",
              "    </tr>\n",
              "    <tr>\n",
              "      <th>Schedulers</th>\n",
              "      <th>3</th>\n",
              "      <td>2084</td>\n",
              "      <td>2084</td>\n",
              "      <td>0</td>\n",
              "    </tr>\n",
              "  </tbody>\n",
              "</table>\n",
              "</div>"
            ],
            "text/plain": [
              "                              pat_epi  clus_norm_id  next_clus\n",
              "clus_norm                tri                                  \n",
              "Average Users            1       2847          2847       2847\n",
              "                         2       2255          2255       2255\n",
              "                         3       2047          2047          0\n",
              "Intense Digital Engagers 1       1129          1129       1129\n",
              "                         2       1860          1860       1860\n",
              "                         3       1597          1597          0\n",
              "Non-Users                1         57             0         57\n",
              "                         2         17             0         17\n",
              "                         3         42             0          0\n",
              "Prepared Engagers        2       2101          2101       2101\n",
              "Resulters                1       2200          2200       2200\n",
              "                         3        463           463          0\n",
              "Schedulers               3       2084          2084          0"
            ]
          },
          "metadata": {
            "tags": []
          },
          "execution_count": 157
        }
      ]
    },
    {
      "cell_type": "code",
      "metadata": {
        "id": "nG1uoZ5Jebzs"
      },
      "source": [
        "targets = []\n",
        "sources = []\n",
        "values = []\n",
        "\n",
        "for source_key, source_value in output['links_dict'].items():\n",
        "    for target_key, target_value in output['links_dict'][source_key].items():\n",
        "        sources.append(source_key)\n",
        "        targets.append(target_key)\n",
        "        values.append(target_value['unique_users'])\n",
        "        \n",
        "labels = []\n",
        "colors = []\n",
        "\n",
        "for key, value in output['nodes_dict'].items():\n",
        "    labels = labels + list(output['nodes_dict'][key]['sources']) \n",
        "    colors = colors + list(output['nodes_dict'][key]['color'])\n",
        "for idx, color in enumerate(colors):\n",
        "    colors[idx] = \"rgb\" + str(color) + \"\"\n"
      ],
      "execution_count": null,
      "outputs": []
    },
    {
      "cell_type": "code",
      "metadata": {
        "colab": {
          "base_uri": "https://localhost:8080/",
          "height": 175
        },
        "id": "9xNPiv5Ppcqd",
        "outputId": "88435322-a888-4768-e023-9f3e6f983525"
      },
      "source": [
        "cc=norm.groupby(['clus_norm','tri']).count()\n",
        "cc=cc.reset_index()\n",
        "cc.groupby(by='tri').sum()"
      ],
      "execution_count": null,
      "outputs": [
        {
          "output_type": "execute_result",
          "data": {
            "text/html": [
              "<div>\n",
              "<style scoped>\n",
              "    .dataframe tbody tr th:only-of-type {\n",
              "        vertical-align: middle;\n",
              "    }\n",
              "\n",
              "    .dataframe tbody tr th {\n",
              "        vertical-align: top;\n",
              "    }\n",
              "\n",
              "    .dataframe thead th {\n",
              "        text-align: right;\n",
              "    }\n",
              "</style>\n",
              "<table border=\"1\" class=\"dataframe\">\n",
              "  <thead>\n",
              "    <tr style=\"text-align: right;\">\n",
              "      <th></th>\n",
              "      <th>pat_epi</th>\n",
              "      <th>clus_norm_id</th>\n",
              "      <th>next_clus</th>\n",
              "    </tr>\n",
              "    <tr>\n",
              "      <th>tri</th>\n",
              "      <th></th>\n",
              "      <th></th>\n",
              "      <th></th>\n",
              "    </tr>\n",
              "  </thead>\n",
              "  <tbody>\n",
              "    <tr>\n",
              "      <th>1</th>\n",
              "      <td>6233</td>\n",
              "      <td>6176</td>\n",
              "      <td>6233</td>\n",
              "    </tr>\n",
              "    <tr>\n",
              "      <th>2</th>\n",
              "      <td>6233</td>\n",
              "      <td>6216</td>\n",
              "      <td>6233</td>\n",
              "    </tr>\n",
              "    <tr>\n",
              "      <th>3</th>\n",
              "      <td>6233</td>\n",
              "      <td>6191</td>\n",
              "      <td>0</td>\n",
              "    </tr>\n",
              "  </tbody>\n",
              "</table>\n",
              "</div>"
            ],
            "text/plain": [
              "     pat_epi  clus_norm_id  next_clus\n",
              "tri                                  \n",
              "1       6233          6176       6233\n",
              "2       6233          6216       6233\n",
              "3       6233          6191          0"
            ]
          },
          "metadata": {
            "tags": []
          },
          "execution_count": 159
        }
      ]
    },
    {
      "cell_type": "code",
      "metadata": {
        "colab": {
          "base_uri": "https://localhost:8080/"
        },
        "id": "xQ8_RKKdpesq",
        "outputId": "738baa3c-f4ea-48c0-b432-a6787fb64b07"
      },
      "source": [
        "cc['tri'].sort_values()"
      ],
      "execution_count": null,
      "outputs": [
        {
          "output_type": "execute_result",
          "data": {
            "text/plain": [
              "0     1\n",
              "3     1\n",
              "6     1\n",
              "10    1\n",
              "1     2\n",
              "4     2\n",
              "7     2\n",
              "9     2\n",
              "2     3\n",
              "5     3\n",
              "8     3\n",
              "11    3\n",
              "12    3\n",
              "Name: tri, dtype: int64"
            ]
          },
          "metadata": {
            "tags": []
          },
          "execution_count": 160
        }
      ]
    },
    {
      "cell_type": "code",
      "metadata": {
        "colab": {
          "base_uri": "https://localhost:8080/"
        },
        "id": "TpuTbNs-rr6t",
        "outputId": "9b036cd3-2555-46a8-85f9-4107809b0ac8"
      },
      "source": [
        "labels"
      ],
      "execution_count": null,
      "outputs": [
        {
          "output_type": "execute_result",
          "data": {
            "text/plain": [
              "['Average Users',\n",
              " 'Intense Digital Engagers',\n",
              " 'Resulters',\n",
              " 'Non-Users',\n",
              " 'Intense Digital Engagers',\n",
              " 'Prepared Engagers',\n",
              " 'Average Users',\n",
              " 'Non-Users',\n",
              " 'Average Users',\n",
              " 'Schedulers',\n",
              " 'Intense Digital Engagers',\n",
              " 'Resulters',\n",
              " 'Non-Users']"
            ]
          },
          "metadata": {
            "tags": []
          },
          "execution_count": 161
        }
      ]
    },
    {
      "cell_type": "code",
      "metadata": {
        "id": "QRgxGgT2pl6l"
      },
      "source": [
        "cc=norm.groupby(['clus_norm','tri']).count()\n",
        "cc=cc.reset_index()\n",
        "# cc\n",
        "cc=cc.sort_values(['tri'])\n",
        "x=cc[cc.tri==1]['pat_epi']/6233\n",
        "x=np.append(x,cc[cc.tri==2]['pat_epi']/6233)\n",
        "x=np.append(x,cc[cc.tri==3]['pat_epi']/6233)\n",
        "cc['perc']=(np.round(x*100)).astype(int)\n",
        "\n",
        "cc['aa']=' ('\n",
        "cc['bb']='%)'\n",
        "cc=cc.iloc[[0,1,3,2,5,7,4,6,8,12,9,11,10],:]#4,0,1,2,5,3,8,7,9,6,10,15,11,14,13,16,12,18,19,17,21,20],:]\n",
        "a=np.char.array(cc['clus_norm'].values)\n",
        "b=np.char.array(cc['tri'].values)\n",
        "c=np.char.array(cc['pat_epi'].values)\n",
        "d=np.char.array(cc['perc'].values)\n",
        "e=np.char.array(cc['aa'].values)\n",
        "f=np.char.array(cc['bb'].values)\n",
        "labels=(a + b' : ' + c + e + d + f).astype(str)\n",
        "# cc['clus_all'].astype('str')+cc['tri'].astype('str')+cc['pat_epi'].astype('str')\n",
        "# np.array(cc[['clus_all','tri']]).to_list()"
      ],
      "execution_count": null,
      "outputs": []
    },
    {
      "cell_type": "code",
      "metadata": {
        "colab": {
          "base_uri": "https://localhost:8080/",
          "height": 457
        },
        "id": "-O9J_GS4po6r",
        "outputId": "4a4c3f9a-0225-46d3-d77d-5263f3105fd7"
      },
      "source": [
        "cc.reset_index()"
      ],
      "execution_count": null,
      "outputs": [
        {
          "output_type": "execute_result",
          "data": {
            "text/html": [
              "<div>\n",
              "<style scoped>\n",
              "    .dataframe tbody tr th:only-of-type {\n",
              "        vertical-align: middle;\n",
              "    }\n",
              "\n",
              "    .dataframe tbody tr th {\n",
              "        vertical-align: top;\n",
              "    }\n",
              "\n",
              "    .dataframe thead th {\n",
              "        text-align: right;\n",
              "    }\n",
              "</style>\n",
              "<table border=\"1\" class=\"dataframe\">\n",
              "  <thead>\n",
              "    <tr style=\"text-align: right;\">\n",
              "      <th></th>\n",
              "      <th>index</th>\n",
              "      <th>clus_norm</th>\n",
              "      <th>tri</th>\n",
              "      <th>pat_epi</th>\n",
              "      <th>clus_norm_id</th>\n",
              "      <th>next_clus</th>\n",
              "      <th>perc</th>\n",
              "      <th>aa</th>\n",
              "      <th>bb</th>\n",
              "    </tr>\n",
              "  </thead>\n",
              "  <tbody>\n",
              "    <tr>\n",
              "      <th>0</th>\n",
              "      <td>0</td>\n",
              "      <td>Average Users</td>\n",
              "      <td>1</td>\n",
              "      <td>2847</td>\n",
              "      <td>2847</td>\n",
              "      <td>2847</td>\n",
              "      <td>46</td>\n",
              "      <td>(</td>\n",
              "      <td>%)</td>\n",
              "    </tr>\n",
              "    <tr>\n",
              "      <th>1</th>\n",
              "      <td>3</td>\n",
              "      <td>Intense Digital Engagers</td>\n",
              "      <td>1</td>\n",
              "      <td>1129</td>\n",
              "      <td>1129</td>\n",
              "      <td>1129</td>\n",
              "      <td>18</td>\n",
              "      <td>(</td>\n",
              "      <td>%)</td>\n",
              "    </tr>\n",
              "    <tr>\n",
              "      <th>2</th>\n",
              "      <td>10</td>\n",
              "      <td>Resulters</td>\n",
              "      <td>1</td>\n",
              "      <td>2200</td>\n",
              "      <td>2200</td>\n",
              "      <td>2200</td>\n",
              "      <td>35</td>\n",
              "      <td>(</td>\n",
              "      <td>%)</td>\n",
              "    </tr>\n",
              "    <tr>\n",
              "      <th>3</th>\n",
              "      <td>6</td>\n",
              "      <td>Non-Users</td>\n",
              "      <td>1</td>\n",
              "      <td>57</td>\n",
              "      <td>0</td>\n",
              "      <td>57</td>\n",
              "      <td>1</td>\n",
              "      <td>(</td>\n",
              "      <td>%)</td>\n",
              "    </tr>\n",
              "    <tr>\n",
              "      <th>4</th>\n",
              "      <td>4</td>\n",
              "      <td>Intense Digital Engagers</td>\n",
              "      <td>2</td>\n",
              "      <td>1860</td>\n",
              "      <td>1860</td>\n",
              "      <td>1860</td>\n",
              "      <td>30</td>\n",
              "      <td>(</td>\n",
              "      <td>%)</td>\n",
              "    </tr>\n",
              "    <tr>\n",
              "      <th>5</th>\n",
              "      <td>9</td>\n",
              "      <td>Prepared Engagers</td>\n",
              "      <td>2</td>\n",
              "      <td>2101</td>\n",
              "      <td>2101</td>\n",
              "      <td>2101</td>\n",
              "      <td>34</td>\n",
              "      <td>(</td>\n",
              "      <td>%)</td>\n",
              "    </tr>\n",
              "    <tr>\n",
              "      <th>6</th>\n",
              "      <td>1</td>\n",
              "      <td>Average Users</td>\n",
              "      <td>2</td>\n",
              "      <td>2255</td>\n",
              "      <td>2255</td>\n",
              "      <td>2255</td>\n",
              "      <td>36</td>\n",
              "      <td>(</td>\n",
              "      <td>%)</td>\n",
              "    </tr>\n",
              "    <tr>\n",
              "      <th>7</th>\n",
              "      <td>7</td>\n",
              "      <td>Non-Users</td>\n",
              "      <td>2</td>\n",
              "      <td>17</td>\n",
              "      <td>0</td>\n",
              "      <td>17</td>\n",
              "      <td>0</td>\n",
              "      <td>(</td>\n",
              "      <td>%)</td>\n",
              "    </tr>\n",
              "    <tr>\n",
              "      <th>8</th>\n",
              "      <td>2</td>\n",
              "      <td>Average Users</td>\n",
              "      <td>3</td>\n",
              "      <td>2047</td>\n",
              "      <td>2047</td>\n",
              "      <td>0</td>\n",
              "      <td>33</td>\n",
              "      <td>(</td>\n",
              "      <td>%)</td>\n",
              "    </tr>\n",
              "    <tr>\n",
              "      <th>9</th>\n",
              "      <td>12</td>\n",
              "      <td>Schedulers</td>\n",
              "      <td>3</td>\n",
              "      <td>2084</td>\n",
              "      <td>2084</td>\n",
              "      <td>0</td>\n",
              "      <td>33</td>\n",
              "      <td>(</td>\n",
              "      <td>%)</td>\n",
              "    </tr>\n",
              "    <tr>\n",
              "      <th>10</th>\n",
              "      <td>5</td>\n",
              "      <td>Intense Digital Engagers</td>\n",
              "      <td>3</td>\n",
              "      <td>1597</td>\n",
              "      <td>1597</td>\n",
              "      <td>0</td>\n",
              "      <td>26</td>\n",
              "      <td>(</td>\n",
              "      <td>%)</td>\n",
              "    </tr>\n",
              "    <tr>\n",
              "      <th>11</th>\n",
              "      <td>11</td>\n",
              "      <td>Resulters</td>\n",
              "      <td>3</td>\n",
              "      <td>463</td>\n",
              "      <td>463</td>\n",
              "      <td>0</td>\n",
              "      <td>7</td>\n",
              "      <td>(</td>\n",
              "      <td>%)</td>\n",
              "    </tr>\n",
              "    <tr>\n",
              "      <th>12</th>\n",
              "      <td>8</td>\n",
              "      <td>Non-Users</td>\n",
              "      <td>3</td>\n",
              "      <td>42</td>\n",
              "      <td>0</td>\n",
              "      <td>0</td>\n",
              "      <td>1</td>\n",
              "      <td>(</td>\n",
              "      <td>%)</td>\n",
              "    </tr>\n",
              "  </tbody>\n",
              "</table>\n",
              "</div>"
            ],
            "text/plain": [
              "    index                 clus_norm  tri  pat_epi  ...  next_clus  perc  aa  bb\n",
              "0       0             Average Users    1     2847  ...       2847    46   (  %)\n",
              "1       3  Intense Digital Engagers    1     1129  ...       1129    18   (  %)\n",
              "2      10                 Resulters    1     2200  ...       2200    35   (  %)\n",
              "3       6                 Non-Users    1       57  ...         57     1   (  %)\n",
              "4       4  Intense Digital Engagers    2     1860  ...       1860    30   (  %)\n",
              "5       9         Prepared Engagers    2     2101  ...       2101    34   (  %)\n",
              "6       1             Average Users    2     2255  ...       2255    36   (  %)\n",
              "7       7                 Non-Users    2       17  ...         17     0   (  %)\n",
              "8       2             Average Users    3     2047  ...          0    33   (  %)\n",
              "9      12                Schedulers    3     2084  ...          0    33   (  %)\n",
              "10      5  Intense Digital Engagers    3     1597  ...          0    26   (  %)\n",
              "11     11                 Resulters    3      463  ...          0     7   (  %)\n",
              "12      8                 Non-Users    3       42  ...          0     1   (  %)\n",
              "\n",
              "[13 rows x 9 columns]"
            ]
          },
          "metadata": {
            "tags": []
          },
          "execution_count": 163
        }
      ]
    },
    {
      "cell_type": "code",
      "metadata": {
        "colab": {
          "base_uri": "https://localhost:8080/",
          "height": 542
        },
        "id": "V3GePETXeya7",
        "outputId": "59d239a1-5966-42b3-edde-2c3f7c8f2bf5"
      },
      "source": [
        "# label = [\"{} {}\".format(node1_name, node1_val), \"{} {}\".format(node2_name, node2_val) ...]\n",
        "fig = go.Figure(data=[go.Sankey(\n",
        "    node=dict(\n",
        "        thickness=20,  # default is 20\n",
        "        line=dict(color=\"black\", width=0.5),\n",
        "        label=labels,\n",
        "        color=colors\n",
        "    ),\n",
        "    link=dict(\n",
        "        source=sources,\n",
        "        target=targets,\n",
        "        value=values,\n",
        "        hovertemplate='%{value} unique pregnancy episodes went from %{source.label} to %{target.label}.<br />',\n",
        "    ))])\n",
        "\n",
        "fig.update_layout(autosize=True, title=dict(text=\"Movement of Clusters Among Normal Pregnancies\", font_size=16), font=dict(size=12, family=\"Arial\"), plot_bgcolor='white')\n",
        "fig.show()"
      ],
      "execution_count": null,
      "outputs": [
        {
          "output_type": "display_data",
          "data": {
            "text/html": [
              "<html>\n",
              "<head><meta charset=\"utf-8\" /></head>\n",
              "<body>\n",
              "    <div>\n",
              "            <script src=\"https://cdnjs.cloudflare.com/ajax/libs/mathjax/2.7.5/MathJax.js?config=TeX-AMS-MML_SVG\"></script><script type=\"text/javascript\">if (window.MathJax) {MathJax.Hub.Config({SVG: {font: \"STIX-Web\"}});}</script>\n",
              "                <script type=\"text/javascript\">window.PlotlyConfig = {MathJaxConfig: 'local'};</script>\n",
              "        <script src=\"https://cdn.plot.ly/plotly-latest.min.js\"></script>    \n",
              "            <div id=\"743ed7a4-e24f-4e6b-9825-c471938f944a\" class=\"plotly-graph-div\" style=\"height:525px; width:100%;\"></div>\n",
              "            <script type=\"text/javascript\">\n",
              "                \n",
              "                    window.PLOTLYENV=window.PLOTLYENV || {};\n",
              "                    \n",
              "                if (document.getElementById(\"743ed7a4-e24f-4e6b-9825-c471938f944a\")) {\n",
              "                    Plotly.newPlot(\n",
              "                        '743ed7a4-e24f-4e6b-9825-c471938f944a',\n",
              "                        [{\"link\": {\"hovertemplate\": \"%{value} unique pregnancy episodes went from %{source.label} to %{target.label}.<br />\", \"source\": [0, 0, 0, 0, 4, 4, 4, 4, 4, 1, 1, 1, 5, 5, 5, 5, 5, 2, 2, 2, 2, 6, 6, 6, 6, 6, 3, 3, 3, 3, 7, 7, 7, 7, 7], \"target\": [4, 5, 6, 7, 8, 9, 10, 11, 12, 4, 5, 6, 9, 8, 10, 11, 12, 4, 6, 5, 7, 8, 9, 10, 12, 11, 4, 6, 5, 7, 12, 9, 11, 10, 8], \"value\": [371, 1499, 972, 5, 538, 160, 1027, 120, 15, 824, 82, 223, 1454, 501, 89, 55, 2, 651, 1034, 509, 6, 1005, 467, 480, 21, 282, 14, 26, 11, 6, 4, 3, 6, 1, 3]}, \"node\": {\"color\": [\"rgb(80, 190, 151)\", \"rgb(228, 101, 92)\", \"rgb(191, 214, 222)\", \"rgb(252, 200, 101)\", \"rgb(228, 101, 92)\", \"rgb(62, 80, 102)\", \"rgb(80, 190, 151)\", \"rgb(252, 200, 101)\", \"rgb(80, 190, 151)\", \"rgb(251, 238, 172)\", \"rgb(228, 101, 92)\", \"rgb(191, 214, 222)\", \"rgb(252, 200, 101)\"], \"label\": [\"Average Users : 2847 (46%)\", \"Intense Digital Engagers : 1129 (18%)\", \"Resulters : 2200 (35%)\", \"Non-Users : 57 (1%)\", \"Intense Digital Engagers : 1860 (30%)\", \"Prepared Engagers : 2101 (34%)\", \"Average Users : 2255 (36%)\", \"Non-Users : 17 (0%)\", \"Average Users : 2047 (33%)\", \"Schedulers : 2084 (33%)\", \"Intense Digital Engagers : 1597 (26%)\", \"Resulters : 463 (7%)\", \"Non-Users : 42 (1%)\"], \"line\": {\"color\": \"black\", \"width\": 0.5}, \"thickness\": 20}, \"type\": \"sankey\"}],\n",
              "                        {\"autosize\": true, \"font\": {\"family\": \"Arial\", \"size\": 12}, \"plot_bgcolor\": \"white\", \"template\": {\"data\": {\"bar\": [{\"error_x\": {\"color\": \"#2a3f5f\"}, \"error_y\": {\"color\": \"#2a3f5f\"}, \"marker\": {\"line\": {\"color\": \"#E5ECF6\", \"width\": 0.5}}, \"type\": \"bar\"}], \"barpolar\": [{\"marker\": {\"line\": {\"color\": \"#E5ECF6\", \"width\": 0.5}}, \"type\": \"barpolar\"}], \"carpet\": [{\"aaxis\": {\"endlinecolor\": \"#2a3f5f\", \"gridcolor\": \"white\", \"linecolor\": \"white\", \"minorgridcolor\": \"white\", \"startlinecolor\": \"#2a3f5f\"}, \"baxis\": {\"endlinecolor\": \"#2a3f5f\", \"gridcolor\": \"white\", \"linecolor\": \"white\", \"minorgridcolor\": \"white\", \"startlinecolor\": \"#2a3f5f\"}, \"type\": \"carpet\"}], \"choropleth\": [{\"colorbar\": {\"outlinewidth\": 0, \"ticks\": \"\"}, \"type\": \"choropleth\"}], \"contour\": [{\"colorbar\": {\"outlinewidth\": 0, \"ticks\": \"\"}, \"colorscale\": [[0.0, \"#0d0887\"], [0.1111111111111111, \"#46039f\"], [0.2222222222222222, \"#7201a8\"], [0.3333333333333333, \"#9c179e\"], [0.4444444444444444, \"#bd3786\"], [0.5555555555555556, \"#d8576b\"], [0.6666666666666666, \"#ed7953\"], [0.7777777777777778, \"#fb9f3a\"], [0.8888888888888888, \"#fdca26\"], [1.0, \"#f0f921\"]], \"type\": \"contour\"}], \"contourcarpet\": [{\"colorbar\": {\"outlinewidth\": 0, \"ticks\": \"\"}, \"type\": \"contourcarpet\"}], \"heatmap\": [{\"colorbar\": {\"outlinewidth\": 0, \"ticks\": \"\"}, \"colorscale\": [[0.0, \"#0d0887\"], [0.1111111111111111, \"#46039f\"], [0.2222222222222222, \"#7201a8\"], [0.3333333333333333, \"#9c179e\"], [0.4444444444444444, \"#bd3786\"], [0.5555555555555556, \"#d8576b\"], [0.6666666666666666, \"#ed7953\"], [0.7777777777777778, \"#fb9f3a\"], [0.8888888888888888, \"#fdca26\"], [1.0, \"#f0f921\"]], \"type\": \"heatmap\"}], \"heatmapgl\": [{\"colorbar\": {\"outlinewidth\": 0, \"ticks\": \"\"}, \"colorscale\": [[0.0, \"#0d0887\"], [0.1111111111111111, \"#46039f\"], [0.2222222222222222, \"#7201a8\"], [0.3333333333333333, \"#9c179e\"], [0.4444444444444444, \"#bd3786\"], [0.5555555555555556, \"#d8576b\"], [0.6666666666666666, \"#ed7953\"], [0.7777777777777778, \"#fb9f3a\"], [0.8888888888888888, \"#fdca26\"], [1.0, \"#f0f921\"]], \"type\": \"heatmapgl\"}], \"histogram\": [{\"marker\": {\"colorbar\": {\"outlinewidth\": 0, \"ticks\": \"\"}}, \"type\": \"histogram\"}], \"histogram2d\": [{\"colorbar\": {\"outlinewidth\": 0, \"ticks\": \"\"}, \"colorscale\": [[0.0, \"#0d0887\"], [0.1111111111111111, \"#46039f\"], [0.2222222222222222, \"#7201a8\"], [0.3333333333333333, \"#9c179e\"], [0.4444444444444444, \"#bd3786\"], [0.5555555555555556, \"#d8576b\"], [0.6666666666666666, \"#ed7953\"], [0.7777777777777778, \"#fb9f3a\"], [0.8888888888888888, \"#fdca26\"], [1.0, \"#f0f921\"]], \"type\": \"histogram2d\"}], \"histogram2dcontour\": [{\"colorbar\": {\"outlinewidth\": 0, \"ticks\": \"\"}, \"colorscale\": [[0.0, \"#0d0887\"], [0.1111111111111111, \"#46039f\"], [0.2222222222222222, \"#7201a8\"], [0.3333333333333333, \"#9c179e\"], [0.4444444444444444, \"#bd3786\"], [0.5555555555555556, \"#d8576b\"], [0.6666666666666666, \"#ed7953\"], [0.7777777777777778, \"#fb9f3a\"], [0.8888888888888888, \"#fdca26\"], [1.0, \"#f0f921\"]], \"type\": \"histogram2dcontour\"}], \"mesh3d\": [{\"colorbar\": {\"outlinewidth\": 0, \"ticks\": \"\"}, \"type\": \"mesh3d\"}], \"parcoords\": [{\"line\": {\"colorbar\": {\"outlinewidth\": 0, \"ticks\": \"\"}}, \"type\": \"parcoords\"}], \"pie\": [{\"automargin\": true, \"type\": \"pie\"}], \"scatter\": [{\"marker\": {\"colorbar\": {\"outlinewidth\": 0, \"ticks\": \"\"}}, \"type\": \"scatter\"}], \"scatter3d\": [{\"line\": {\"colorbar\": {\"outlinewidth\": 0, \"ticks\": \"\"}}, \"marker\": {\"colorbar\": {\"outlinewidth\": 0, \"ticks\": \"\"}}, \"type\": \"scatter3d\"}], \"scattercarpet\": [{\"marker\": {\"colorbar\": {\"outlinewidth\": 0, \"ticks\": \"\"}}, \"type\": \"scattercarpet\"}], \"scattergeo\": [{\"marker\": {\"colorbar\": {\"outlinewidth\": 0, \"ticks\": \"\"}}, \"type\": \"scattergeo\"}], \"scattergl\": [{\"marker\": {\"colorbar\": {\"outlinewidth\": 0, \"ticks\": \"\"}}, \"type\": \"scattergl\"}], \"scattermapbox\": [{\"marker\": {\"colorbar\": {\"outlinewidth\": 0, \"ticks\": \"\"}}, \"type\": \"scattermapbox\"}], \"scatterpolar\": [{\"marker\": {\"colorbar\": {\"outlinewidth\": 0, \"ticks\": \"\"}}, \"type\": \"scatterpolar\"}], \"scatterpolargl\": [{\"marker\": {\"colorbar\": {\"outlinewidth\": 0, \"ticks\": \"\"}}, \"type\": \"scatterpolargl\"}], \"scatterternary\": [{\"marker\": {\"colorbar\": {\"outlinewidth\": 0, \"ticks\": \"\"}}, \"type\": \"scatterternary\"}], \"surface\": [{\"colorbar\": {\"outlinewidth\": 0, \"ticks\": \"\"}, \"colorscale\": [[0.0, \"#0d0887\"], [0.1111111111111111, \"#46039f\"], [0.2222222222222222, \"#7201a8\"], [0.3333333333333333, \"#9c179e\"], [0.4444444444444444, \"#bd3786\"], [0.5555555555555556, \"#d8576b\"], [0.6666666666666666, \"#ed7953\"], [0.7777777777777778, \"#fb9f3a\"], [0.8888888888888888, \"#fdca26\"], [1.0, \"#f0f921\"]], \"type\": \"surface\"}], \"table\": [{\"cells\": {\"fill\": {\"color\": \"#EBF0F8\"}, \"line\": {\"color\": \"white\"}}, \"header\": {\"fill\": {\"color\": \"#C8D4E3\"}, \"line\": {\"color\": \"white\"}}, \"type\": \"table\"}]}, \"layout\": {\"annotationdefaults\": {\"arrowcolor\": \"#2a3f5f\", \"arrowhead\": 0, \"arrowwidth\": 1}, \"coloraxis\": {\"colorbar\": {\"outlinewidth\": 0, \"ticks\": \"\"}}, \"colorscale\": {\"diverging\": [[0, \"#8e0152\"], [0.1, \"#c51b7d\"], [0.2, \"#de77ae\"], [0.3, \"#f1b6da\"], [0.4, \"#fde0ef\"], [0.5, \"#f7f7f7\"], [0.6, \"#e6f5d0\"], [0.7, \"#b8e186\"], [0.8, \"#7fbc41\"], [0.9, \"#4d9221\"], [1, \"#276419\"]], \"sequential\": [[0.0, \"#0d0887\"], [0.1111111111111111, \"#46039f\"], [0.2222222222222222, \"#7201a8\"], [0.3333333333333333, \"#9c179e\"], [0.4444444444444444, \"#bd3786\"], [0.5555555555555556, \"#d8576b\"], [0.6666666666666666, \"#ed7953\"], [0.7777777777777778, \"#fb9f3a\"], [0.8888888888888888, \"#fdca26\"], [1.0, \"#f0f921\"]], \"sequentialminus\": [[0.0, \"#0d0887\"], [0.1111111111111111, \"#46039f\"], [0.2222222222222222, \"#7201a8\"], [0.3333333333333333, \"#9c179e\"], [0.4444444444444444, \"#bd3786\"], [0.5555555555555556, \"#d8576b\"], [0.6666666666666666, \"#ed7953\"], [0.7777777777777778, \"#fb9f3a\"], [0.8888888888888888, \"#fdca26\"], [1.0, \"#f0f921\"]]}, \"colorway\": [\"#636efa\", \"#EF553B\", \"#00cc96\", \"#ab63fa\", \"#FFA15A\", \"#19d3f3\", \"#FF6692\", \"#B6E880\", \"#FF97FF\", \"#FECB52\"], \"font\": {\"color\": \"#2a3f5f\"}, \"geo\": {\"bgcolor\": \"white\", \"lakecolor\": \"white\", \"landcolor\": \"#E5ECF6\", \"showlakes\": true, \"showland\": true, \"subunitcolor\": \"white\"}, \"hoverlabel\": {\"align\": \"left\"}, \"hovermode\": \"closest\", \"mapbox\": {\"style\": \"light\"}, \"paper_bgcolor\": \"white\", \"plot_bgcolor\": \"#E5ECF6\", \"polar\": {\"angularaxis\": {\"gridcolor\": \"white\", \"linecolor\": \"white\", \"ticks\": \"\"}, \"bgcolor\": \"#E5ECF6\", \"radialaxis\": {\"gridcolor\": \"white\", \"linecolor\": \"white\", \"ticks\": \"\"}}, \"scene\": {\"xaxis\": {\"backgroundcolor\": \"#E5ECF6\", \"gridcolor\": \"white\", \"gridwidth\": 2, \"linecolor\": \"white\", \"showbackground\": true, \"ticks\": \"\", \"zerolinecolor\": \"white\"}, \"yaxis\": {\"backgroundcolor\": \"#E5ECF6\", \"gridcolor\": \"white\", \"gridwidth\": 2, \"linecolor\": \"white\", \"showbackground\": true, \"ticks\": \"\", \"zerolinecolor\": \"white\"}, \"zaxis\": {\"backgroundcolor\": \"#E5ECF6\", \"gridcolor\": \"white\", \"gridwidth\": 2, \"linecolor\": \"white\", \"showbackground\": true, \"ticks\": \"\", \"zerolinecolor\": \"white\"}}, \"shapedefaults\": {\"line\": {\"color\": \"#2a3f5f\"}}, \"ternary\": {\"aaxis\": {\"gridcolor\": \"white\", \"linecolor\": \"white\", \"ticks\": \"\"}, \"baxis\": {\"gridcolor\": \"white\", \"linecolor\": \"white\", \"ticks\": \"\"}, \"bgcolor\": \"#E5ECF6\", \"caxis\": {\"gridcolor\": \"white\", \"linecolor\": \"white\", \"ticks\": \"\"}}, \"title\": {\"x\": 0.05}, \"xaxis\": {\"automargin\": true, \"gridcolor\": \"white\", \"linecolor\": \"white\", \"ticks\": \"\", \"title\": {\"standoff\": 15}, \"zerolinecolor\": \"white\", \"zerolinewidth\": 2}, \"yaxis\": {\"automargin\": true, \"gridcolor\": \"white\", \"linecolor\": \"white\", \"ticks\": \"\", \"title\": {\"standoff\": 15}, \"zerolinecolor\": \"white\", \"zerolinewidth\": 2}}}, \"title\": {\"font\": {\"size\": 16}, \"text\": \"Movement of Clusters Among Normal Pregnancies\"}},\n",
              "                        {\"responsive\": true}\n",
              "                    ).then(function(){\n",
              "                            \n",
              "var gd = document.getElementById('743ed7a4-e24f-4e6b-9825-c471938f944a');\n",
              "var x = new MutationObserver(function (mutations, observer) {{\n",
              "        var display = window.getComputedStyle(gd).display;\n",
              "        if (!display || display === 'none') {{\n",
              "            console.log([gd, 'removed!']);\n",
              "            Plotly.purge(gd);\n",
              "            observer.disconnect();\n",
              "        }}\n",
              "}});\n",
              "\n",
              "// Listen for the removal of the full notebook cells\n",
              "var notebookContainer = gd.closest('#notebook-container');\n",
              "if (notebookContainer) {{\n",
              "    x.observe(notebookContainer, {childList: true});\n",
              "}}\n",
              "\n",
              "// Listen for the clearing of the current output cell\n",
              "var outputEl = gd.closest('.output');\n",
              "if (outputEl) {{\n",
              "    x.observe(outputEl, {childList: true});\n",
              "}}\n",
              "\n",
              "                        })\n",
              "                };\n",
              "                \n",
              "            </script>\n",
              "        </div>\n",
              "</body>\n",
              "</html>"
            ]
          },
          "metadata": {
            "tags": []
          }
        }
      ]
    }
  ]
}