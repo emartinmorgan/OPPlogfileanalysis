{
  "nbformat": 4,
  "nbformat_minor": 0,
  "metadata": {
    "colab": {
      "name": "logpreg_sankey.ipynb",
      "provenance": [],
      "collapsed_sections": [],
      "toc_visible": true,
      "include_colab_link": true
    },
    "kernelspec": {
      "name": "python3",
      "display_name": "Python 3"
    },
    "language_info": {
      "name": "python"
    }
  },
  "cells": [
    {
      "cell_type": "markdown",
      "metadata": {
        "id": "view-in-github",
        "colab_type": "text"
      },
      "source": [
        "<a href=\"https://colab.research.google.com/github/emartinmorgan/OPPlogfileanalysis/blob/main/logpreg_sankey.ipynb\" target=\"_parent\"><img src=\"https://colab.research.google.com/assets/colab-badge.svg\" alt=\"Open In Colab\"/></a>"
      ]
    },
    {
      "cell_type": "code",
      "metadata": {
        "id": "ha-jj-1aDV65",
        "colab": {
          "base_uri": "https://localhost:8080/"
        },
        "outputId": "6ccf75e5-f1fa-4e9f-cff8-131ae0b6d58f"
      },
      "source": [
        "# Load data\n",
        "from google.colab import drive\n",
        "drive.mount('/content/drive')"
      ],
      "execution_count": null,
      "outputs": [
        {
          "output_type": "stream",
          "text": [
            "Drive already mounted at /content/drive; to attempt to forcibly remount, call drive.mount(\"/content/drive\", force_remount=True).\n"
          ],
          "name": "stdout"
        }
      ]
    },
    {
      "cell_type": "markdown",
      "metadata": {
        "id": "Nu02d2DxIdLB"
      },
      "source": [
        "##load packages"
      ]
    },
    {
      "cell_type": "code",
      "metadata": {
        "id": "bX9ssfs8L0wx"
      },
      "source": [
        "# !pip install chart_studio\n",
        "import pandas as pd\n",
        "import numpy as np\n",
        "# import chart_studio.plotly as cspy\n",
        "import plotly.graph_objects as go\n",
        "import matplotlib.pyplot as plt\n",
        "import seaborn as sns\n",
        "# import chart_studio.plotly as py\n",
        "import plotly.graph_objects as go\n",
        "\n",
        "import plotly.express as px\n",
        "# import chart_studio.plotly as py\n",
        "import plotly\n",
        "\n",
        "import seaborn as se\n",
        "from google.colab import files\n",
        "# print(\"hello world\")"
      ],
      "execution_count": null,
      "outputs": []
    },
    {
      "cell_type": "markdown",
      "metadata": {
        "id": "jP14qebqImao"
      },
      "source": [
        "## prelim analysis"
      ]
    },
    {
      "cell_type": "code",
      "metadata": {
        "colab": {
          "base_uri": "https://localhost:8080/",
          "height": 424
        },
        "id": "luqqpA4fMni-",
        "outputId": "a387f7ae-04a9-454a-c594-b620cb009109"
      },
      "source": [
        "all = pd.read_csv(\"/content/drive/MyDrive/OSU - BMI/Fareed Lab/Thesis/Data_Final/Sankey/sank_all_fin.csv\")\n",
        "all"
      ],
      "execution_count": null,
      "outputs": [
        {
          "output_type": "execute_result",
          "data": {
            "text/html": [
              "<div>\n",
              "<style scoped>\n",
              "    .dataframe tbody tr th:only-of-type {\n",
              "        vertical-align: middle;\n",
              "    }\n",
              "\n",
              "    .dataframe tbody tr th {\n",
              "        vertical-align: top;\n",
              "    }\n",
              "\n",
              "    .dataframe thead th {\n",
              "        text-align: right;\n",
              "    }\n",
              "</style>\n",
              "<table border=\"1\" class=\"dataframe\">\n",
              "  <thead>\n",
              "    <tr style=\"text-align: right;\">\n",
              "      <th></th>\n",
              "      <th>pat_epi</th>\n",
              "      <th>clus_all_id</th>\n",
              "      <th>clus_all</th>\n",
              "      <th>tri</th>\n",
              "    </tr>\n",
              "  </thead>\n",
              "  <tbody>\n",
              "    <tr>\n",
              "      <th>0</th>\n",
              "      <td>1.1</td>\n",
              "      <td>1.0</td>\n",
              "      <td>Prepared Engagers</td>\n",
              "      <td>1</td>\n",
              "    </tr>\n",
              "    <tr>\n",
              "      <th>1</th>\n",
              "      <td>3.1</td>\n",
              "      <td>2.0</td>\n",
              "      <td>Intense Digital Engagers</td>\n",
              "      <td>1</td>\n",
              "    </tr>\n",
              "    <tr>\n",
              "      <th>2</th>\n",
              "      <td>5.1</td>\n",
              "      <td>3.0</td>\n",
              "      <td>Average Users</td>\n",
              "      <td>1</td>\n",
              "    </tr>\n",
              "    <tr>\n",
              "      <th>3</th>\n",
              "      <td>8.1</td>\n",
              "      <td>4.0</td>\n",
              "      <td>Average Users</td>\n",
              "      <td>1</td>\n",
              "    </tr>\n",
              "    <tr>\n",
              "      <th>4</th>\n",
              "      <td>13.1</td>\n",
              "      <td>5.0</td>\n",
              "      <td>Prepared Engagers</td>\n",
              "      <td>1</td>\n",
              "    </tr>\n",
              "    <tr>\n",
              "      <th>...</th>\n",
              "      <td>...</td>\n",
              "      <td>...</td>\n",
              "      <td>...</td>\n",
              "      <td>...</td>\n",
              "    </tr>\n",
              "    <tr>\n",
              "      <th>30651</th>\n",
              "      <td>17404.1</td>\n",
              "      <td>7657.0</td>\n",
              "      <td>Average Users</td>\n",
              "      <td>4</td>\n",
              "    </tr>\n",
              "    <tr>\n",
              "      <th>30652</th>\n",
              "      <td>17405.1</td>\n",
              "      <td>7658.0</td>\n",
              "      <td>Average Users</td>\n",
              "      <td>4</td>\n",
              "    </tr>\n",
              "    <tr>\n",
              "      <th>30653</th>\n",
              "      <td>17406.1</td>\n",
              "      <td>7659.0</td>\n",
              "      <td>Schedulers</td>\n",
              "      <td>4</td>\n",
              "    </tr>\n",
              "    <tr>\n",
              "      <th>30654</th>\n",
              "      <td>17407.1</td>\n",
              "      <td>7660.0</td>\n",
              "      <td>Prepared Engagers</td>\n",
              "      <td>4</td>\n",
              "    </tr>\n",
              "    <tr>\n",
              "      <th>30655</th>\n",
              "      <td>17411.1</td>\n",
              "      <td>7661.0</td>\n",
              "      <td>Schedulers</td>\n",
              "      <td>4</td>\n",
              "    </tr>\n",
              "  </tbody>\n",
              "</table>\n",
              "<p>30656 rows × 4 columns</p>\n",
              "</div>"
            ],
            "text/plain": [
              "       pat_epi  clus_all_id                  clus_all  tri\n",
              "0          1.1          1.0         Prepared Engagers    1\n",
              "1          3.1          2.0  Intense Digital Engagers    1\n",
              "2          5.1          3.0             Average Users    1\n",
              "3          8.1          4.0             Average Users    1\n",
              "4         13.1          5.0         Prepared Engagers    1\n",
              "...        ...          ...                       ...  ...\n",
              "30651  17404.1       7657.0             Average Users    4\n",
              "30652  17405.1       7658.0             Average Users    4\n",
              "30653  17406.1       7659.0                Schedulers    4\n",
              "30654  17407.1       7660.0         Prepared Engagers    4\n",
              "30655  17411.1       7661.0                Schedulers    4\n",
              "\n",
              "[30656 rows x 4 columns]"
            ]
          },
          "metadata": {
            "tags": []
          },
          "execution_count": 178
        }
      ]
    },
    {
      "cell_type": "code",
      "metadata": {
        "colab": {
          "base_uri": "https://localhost:8080/",
          "height": 366
        },
        "id": "K_YUKsp_fCAw",
        "outputId": "c8942016-0859-4027-cb11-21082b3d95c1"
      },
      "source": [
        "plt.hist(all.clus_all,bins=10)\n",
        "plt.xticks(rotation = 45)"
      ],
      "execution_count": null,
      "outputs": [
        {
          "output_type": "execute_result",
          "data": {
            "text/plain": [
              "([0, 1, 2, 3, 4, 5, 6, 7], <a list of 8 Text major ticklabel objects>)"
            ]
          },
          "metadata": {
            "tags": []
          },
          "execution_count": 179
        },
        {
          "output_type": "display_data",
          "data": {
            "image/png": "[encoded data removed]",
            "text/plain": [
              "<Figure size 432x288 with 1 Axes>"
            ]
          },
          "metadata": {
            "tags": [],
            "needs_background": "light"
          }
        }
      ]
    },
    {
      "cell_type": "code",
      "metadata": {
        "colab": {
          "base_uri": "https://localhost:8080/",
          "height": 206
        },
        "id": "dub0G2Hw9cSI",
        "outputId": "2ad4a14b-ef2c-4cb2-e626-664212fbc086"
      },
      "source": [
        "# Based on the tri, we can compute the rank of each cluster at the pat_epi level:\n",
        "\n",
        "# a) Sort ascendingly per pat_epi and tri\n",
        "\n",
        "all.sort_values(['pat_epi', 'tri'],\n",
        "                 ascending=[True, True], inplace=True)\n",
        "all.head()"
      ],
      "execution_count": null,
      "outputs": [
        {
          "output_type": "execute_result",
          "data": {
            "text/html": [
              "<div>\n",
              "<style scoped>\n",
              "    .dataframe tbody tr th:only-of-type {\n",
              "        vertical-align: middle;\n",
              "    }\n",
              "\n",
              "    .dataframe tbody tr th {\n",
              "        vertical-align: top;\n",
              "    }\n",
              "\n",
              "    .dataframe thead th {\n",
              "        text-align: right;\n",
              "    }\n",
              "</style>\n",
              "<table border=\"1\" class=\"dataframe\">\n",
              "  <thead>\n",
              "    <tr style=\"text-align: right;\">\n",
              "      <th></th>\n",
              "      <th>pat_epi</th>\n",
              "      <th>clus_all_id</th>\n",
              "      <th>clus_all</th>\n",
              "      <th>tri</th>\n",
              "    </tr>\n",
              "  </thead>\n",
              "  <tbody>\n",
              "    <tr>\n",
              "      <th>0</th>\n",
              "      <td>1.1</td>\n",
              "      <td>1.0</td>\n",
              "      <td>Prepared Engagers</td>\n",
              "      <td>1</td>\n",
              "    </tr>\n",
              "    <tr>\n",
              "      <th>7664</th>\n",
              "      <td>1.1</td>\n",
              "      <td>1.0</td>\n",
              "      <td>Average Users</td>\n",
              "      <td>2</td>\n",
              "    </tr>\n",
              "    <tr>\n",
              "      <th>15328</th>\n",
              "      <td>1.1</td>\n",
              "      <td>1.0</td>\n",
              "      <td>Average Users</td>\n",
              "      <td>3</td>\n",
              "    </tr>\n",
              "    <tr>\n",
              "      <th>22992</th>\n",
              "      <td>1.1</td>\n",
              "      <td>1.0</td>\n",
              "      <td>Average Users</td>\n",
              "      <td>4</td>\n",
              "    </tr>\n",
              "    <tr>\n",
              "      <th>1</th>\n",
              "      <td>3.1</td>\n",
              "      <td>2.0</td>\n",
              "      <td>Intense Digital Engagers</td>\n",
              "      <td>1</td>\n",
              "    </tr>\n",
              "  </tbody>\n",
              "</table>\n",
              "</div>"
            ],
            "text/plain": [
              "       pat_epi  clus_all_id                  clus_all  tri\n",
              "0          1.1          1.0         Prepared Engagers    1\n",
              "7664       1.1          1.0             Average Users    2\n",
              "15328      1.1          1.0             Average Users    3\n",
              "22992      1.1          1.0             Average Users    4\n",
              "1          3.1          2.0  Intense Digital Engagers    1"
            ]
          },
          "metadata": {
            "tags": []
          },
          "execution_count": 180
        }
      ]
    },
    {
      "cell_type": "code",
      "metadata": {
        "id": "NVSakPpHzoWs"
      },
      "source": [
        "all=all[all.tri!=4]"
      ],
      "execution_count": null,
      "outputs": []
    },
    {
      "cell_type": "code",
      "metadata": {
        "colab": {
          "base_uri": "https://localhost:8080/",
          "height": 345
        },
        "id": "l66iTmwDOzEi",
        "outputId": "f7e74215-9f4e-4c84-fe55-0796f019397f"
      },
      "source": [
        "# b) Define a ranking function based on tri, using the method = 'first' param to ensure no clusters have the same rank\n",
        "\n",
        "# def rank(x): return x['tri'].rank(method='first').astype(int)\n",
        "\n",
        "# c) Group by user_id \n",
        "grouped = all.groupby('pat_epi')\n",
        "\n",
        "# d) Apply the ranking function to the all DF into a new \"rank_clus\" column\n",
        "# all[\"rank_clus\"] = grouped.apply(rank).reset_index(0, drop=True)\n",
        "\n",
        "# e) The shift function allows to access the next row's data. Here, we'll want the cluster name\n",
        "def get_next_clus(x): return x['clus_all'].shift(-1)\n",
        "\n",
        "# f) Apply the function into a new \"next_clus\" column\n",
        "all[\"next_clus\"] = grouped.apply(\n",
        "     lambda x: get_next_clus(x)).reset_index(0, drop=True)\n",
        "\n",
        "# g) Regroup by user_id \n",
        "grouped = all.groupby('pat_epi')\n",
        "all.head()"
      ],
      "execution_count": null,
      "outputs": [
        {
          "output_type": "stream",
          "text": [
            "/usr/local/lib/python3.7/dist-packages/ipykernel_launcher.py:16: SettingWithCopyWarning:\n",
            "\n",
            "\n",
            "A value is trying to be set on a copy of a slice from a DataFrame.\n",
            "Try using .loc[row_indexer,col_indexer] = value instead\n",
            "\n",
            "See the caveats in the documentation: https://pandas.pydata.org/pandas-docs/stable/user_guide/indexing.html#returning-a-view-versus-a-copy\n",
            "\n"
          ],
          "name": "stderr"
        },
        {
          "output_type": "execute_result",
          "data": {
            "text/html": [
              "<div>\n",
              "<style scoped>\n",
              "    .dataframe tbody tr th:only-of-type {\n",
              "        vertical-align: middle;\n",
              "    }\n",
              "\n",
              "    .dataframe tbody tr th {\n",
              "        vertical-align: top;\n",
              "    }\n",
              "\n",
              "    .dataframe thead th {\n",
              "        text-align: right;\n",
              "    }\n",
              "</style>\n",
              "<table border=\"1\" class=\"dataframe\">\n",
              "  <thead>\n",
              "    <tr style=\"text-align: right;\">\n",
              "      <th></th>\n",
              "      <th>pat_epi</th>\n",
              "      <th>clus_all_id</th>\n",
              "      <th>clus_all</th>\n",
              "      <th>tri</th>\n",
              "      <th>next_clus</th>\n",
              "    </tr>\n",
              "  </thead>\n",
              "  <tbody>\n",
              "    <tr>\n",
              "      <th>0</th>\n",
              "      <td>1.1</td>\n",
              "      <td>1.0</td>\n",
              "      <td>Prepared Engagers</td>\n",
              "      <td>1</td>\n",
              "      <td>Average Users</td>\n",
              "    </tr>\n",
              "    <tr>\n",
              "      <th>7664</th>\n",
              "      <td>1.1</td>\n",
              "      <td>1.0</td>\n",
              "      <td>Average Users</td>\n",
              "      <td>2</td>\n",
              "      <td>Average Users</td>\n",
              "    </tr>\n",
              "    <tr>\n",
              "      <th>15328</th>\n",
              "      <td>1.1</td>\n",
              "      <td>1.0</td>\n",
              "      <td>Average Users</td>\n",
              "      <td>3</td>\n",
              "      <td>NaN</td>\n",
              "    </tr>\n",
              "    <tr>\n",
              "      <th>1</th>\n",
              "      <td>3.1</td>\n",
              "      <td>2.0</td>\n",
              "      <td>Intense Digital Engagers</td>\n",
              "      <td>1</td>\n",
              "      <td>Average Billers</td>\n",
              "    </tr>\n",
              "    <tr>\n",
              "      <th>7665</th>\n",
              "      <td>3.1</td>\n",
              "      <td>2.0</td>\n",
              "      <td>Average Billers</td>\n",
              "      <td>2</td>\n",
              "      <td>Schedulers</td>\n",
              "    </tr>\n",
              "  </tbody>\n",
              "</table>\n",
              "</div>"
            ],
            "text/plain": [
              "       pat_epi  clus_all_id                  clus_all  tri        next_clus\n",
              "0          1.1          1.0         Prepared Engagers    1    Average Users\n",
              "7664       1.1          1.0             Average Users    2    Average Users\n",
              "15328      1.1          1.0             Average Users    3              NaN\n",
              "1          3.1          2.0  Intense Digital Engagers    1  Average Billers\n",
              "7665       3.1          2.0           Average Billers    2       Schedulers"
            ]
          },
          "metadata": {
            "tags": []
          },
          "execution_count": 182
        }
      ]
    },
    {
      "cell_type": "markdown",
      "metadata": {
        "id": "M2_WkQIvGp6s"
      },
      "source": [
        "We attribute a unique color to each event, and name this dict nodes_dict."
      ]
    },
    {
      "cell_type": "code",
      "metadata": {
        "id": "droDtNTo7RJc"
      },
      "source": [
        "# Working on the nodes_dict\n",
        "\n",
        "all_clus = list(all.clus_all.unique())\n",
        "\n",
        "# Create a set of colors that you'd like to use in your plot.\n",
        "palette = ['50BE97', 'E4655C', 'FBEEAC', '3E5066',\n",
        "           'BFD6DE', 'FCC865', '353A3E', 'E6E6E6']\n",
        "#  Here, I passed the colors as HEX, but we need to pass it as RGB. This loop will convert from HEX to RGB:\n",
        "for i, col in enumerate(palette):\n",
        "    palette[i] = tuple(int(col[i:i+2], 16) for i in (0, 2, 4))\n",
        "\n",
        "# Append a Seaborn complementary palette to your palette in case you did not provide enough colors to style every event\n",
        "# complementary_palette = se.color_palette(\"deep\", len(all_events) - len(palette))\n",
        "# if len(complementary_palette) > 0:\n",
        "#     palette.extend(complementary_palette)\n",
        "\n",
        "output = dict()\n",
        "output.update({'nodes_dict': dict()})\n",
        "\n",
        "i = 0\n",
        "for tri in all.tri.unique(): # For each tri of clus...\n",
        "    # Create a new key equal to the tri...\n",
        "    output['nodes_dict'].update(\n",
        "        {tri: dict()}\n",
        "    )\n",
        "    \n",
        "    # Look at all the events that were done at this step of the funnel...\n",
        "    all_clus_at_this_tri = all[all.tri ==\n",
        "                                   tri].clus_all.unique()\n",
        "    \n",
        "    # Read the colors for these events and store them in a list...\n",
        "    tri_palette = []\n",
        "    for clus in all_clus_at_this_tri:\n",
        "        tri_palette.append(palette[list(all_clus).index(clus)])\n",
        "    \n",
        "    # Keep trace of the events' names, colors and indices.\n",
        "    output['nodes_dict'][tri].update(\n",
        "        {\n",
        "            'sources': list(all_clus_at_this_tri),\n",
        "            'color': tri_palette,\n",
        "            'sources_index': list(range(i, i+len(all_clus_at_this_tri)))\n",
        "        }\n",
        "    )\n",
        "    # Finally, increment by the length of this rank's available clus to make sure next indices will not be chosen from existing ones\n",
        "    i += len(output['nodes_dict'][tri]['sources_index'])"
      ],
      "execution_count": null,
      "outputs": []
    },
    {
      "cell_type": "code",
      "metadata": {
        "colab": {
          "base_uri": "https://localhost:8080/"
        },
        "id": "rQIGBMUce2tZ",
        "outputId": "7b7caf06-dc59-4182-f894-6bc906fe0485"
      },
      "source": [
        "all_clus_at_this_tri"
      ],
      "execution_count": null,
      "outputs": [
        {
          "output_type": "execute_result",
          "data": {
            "text/plain": [
              "array(['Average Users', 'Schedulers', 'Intense Digital Engagers',\n",
              "       'Resulters', 'Non-Users'], dtype=object)"
            ]
          },
          "metadata": {
            "tags": []
          },
          "execution_count": 184
        }
      ]
    },
    {
      "cell_type": "markdown",
      "metadata": {
        "id": "dhOHSfXHIpor"
      },
      "source": [
        "##prep data"
      ]
    },
    {
      "cell_type": "code",
      "metadata": {
        "colab": {
          "base_uri": "https://localhost:8080/",
          "height": 32
        },
        "id": "VR0sPo7mZIGJ",
        "outputId": "7190bab5-e903-4af8-dcaa-f22617722a6e"
      },
      "source": [
        "# Working on the links_dict\n",
        "\n",
        "output.update({'links_dict': dict()})\n",
        "\n",
        "# Group the DataFrame by pat_epi and tri\n",
        "grouped = all.groupby(['pat_epi', 'tri'])\n",
        "\n",
        "# Define a function to read the souces, targets, values clus_all to next_clus:\n",
        "def update_source_target(user):\n",
        "    try:\n",
        "        # user.name[0] is the user's pat_epi; user.name[1] is the tri\n",
        "        # 1st we retrieve the source and target's indices from nodes_dict\n",
        "        source_index = output['nodes_dict'][user.name[1]]['sources_index'][output['nodes_dict']\n",
        "                                                                           [user.name[1]]['sources'].index(user['clus_all'].values[0])]\n",
        "        target_index = output['nodes_dict'][user.name[1] + 1]['sources_index'][output['nodes_dict']\n",
        "                                                                               [user.name[1] + 1]['sources'].index(user['next_clus'].values[0])]\n",
        "\n",
        "         # If this source is already in links_dict...\n",
        "        if source_index in output['links_dict']:\n",
        "            # ...and if this target is already associated to this source...\n",
        "            if target_index in output['links_dict'][source_index]:\n",
        "                # ...then we increment the count of users with this source/target pair by 1\n",
        "                output['links_dict'][source_index][target_index]['unique_users'] += 1\n",
        "            # ...but if the target is not already associated to this source...\n",
        "            else:\n",
        "                # ...we create a new key for this target, for this source, and initiate it with 1 user and the time from source to target\n",
        "                output['links_dict'][source_index].update({target_index:\n",
        "                                                           dict(\n",
        "                                                               {'unique_users': 1}\n",
        "                                                            )\n",
        "                                                           })\n",
        "        # ...but if this source isn't already available in the links_dict, we create its key and the key of this source's target, and we initiate it with 1 user and the time from source to target\n",
        "        else:\n",
        "            output['links_dict'].update({source_index: dict({target_index: dict(\n",
        "                {'unique_users': 1})})})\n",
        "    except Exception as e:\n",
        "        pass\n",
        "\n",
        "# Apply the function to your grouped Pandas object:\n",
        "grouped.apply(lambda user: update_source_target(user)) \n",
        "\n"
      ],
      "execution_count": null,
      "outputs": [
        {
          "output_type": "execute_result",
          "data": {
            "text/html": [
              "<div>\n",
              "<style scoped>\n",
              "    .dataframe tbody tr th:only-of-type {\n",
              "        vertical-align: middle;\n",
              "    }\n",
              "\n",
              "    .dataframe tbody tr th {\n",
              "        vertical-align: top;\n",
              "    }\n",
              "\n",
              "    .dataframe thead th {\n",
              "        text-align: right;\n",
              "    }\n",
              "</style>\n",
              "<table border=\"1\" class=\"dataframe\">\n",
              "  <thead>\n",
              "    <tr style=\"text-align: right;\">\n",
              "      <th></th>\n",
              "    </tr>\n",
              "  </thead>\n",
              "  <tbody>\n",
              "  </tbody>\n",
              "</table>\n",
              "</div>"
            ],
            "text/plain": [
              "Empty DataFrame\n",
              "Columns: []\n",
              "Index: []"
            ]
          },
          "metadata": {
            "tags": []
          },
          "execution_count": 185
        }
      ]
    },
    {
      "cell_type": "code",
      "metadata": {
        "colab": {
          "base_uri": "https://localhost:8080/",
          "height": 206
        },
        "id": "eSNPeIbUus7Y",
        "outputId": "5a5b2a0e-b74a-486d-974e-3aba59cf58e2"
      },
      "source": [
        "all.head()"
      ],
      "execution_count": null,
      "outputs": [
        {
          "output_type": "execute_result",
          "data": {
            "text/html": [
              "<div>\n",
              "<style scoped>\n",
              "    .dataframe tbody tr th:only-of-type {\n",
              "        vertical-align: middle;\n",
              "    }\n",
              "\n",
              "    .dataframe tbody tr th {\n",
              "        vertical-align: top;\n",
              "    }\n",
              "\n",
              "    .dataframe thead th {\n",
              "        text-align: right;\n",
              "    }\n",
              "</style>\n",
              "<table border=\"1\" class=\"dataframe\">\n",
              "  <thead>\n",
              "    <tr style=\"text-align: right;\">\n",
              "      <th></th>\n",
              "      <th>pat_epi</th>\n",
              "      <th>clus_all_id</th>\n",
              "      <th>clus_all</th>\n",
              "      <th>tri</th>\n",
              "      <th>next_clus</th>\n",
              "    </tr>\n",
              "  </thead>\n",
              "  <tbody>\n",
              "    <tr>\n",
              "      <th>0</th>\n",
              "      <td>1.1</td>\n",
              "      <td>1.0</td>\n",
              "      <td>Prepared Engagers</td>\n",
              "      <td>1</td>\n",
              "      <td>Average Users</td>\n",
              "    </tr>\n",
              "    <tr>\n",
              "      <th>7664</th>\n",
              "      <td>1.1</td>\n",
              "      <td>1.0</td>\n",
              "      <td>Average Users</td>\n",
              "      <td>2</td>\n",
              "      <td>Average Users</td>\n",
              "    </tr>\n",
              "    <tr>\n",
              "      <th>15328</th>\n",
              "      <td>1.1</td>\n",
              "      <td>1.0</td>\n",
              "      <td>Average Users</td>\n",
              "      <td>3</td>\n",
              "      <td>NaN</td>\n",
              "    </tr>\n",
              "    <tr>\n",
              "      <th>1</th>\n",
              "      <td>3.1</td>\n",
              "      <td>2.0</td>\n",
              "      <td>Intense Digital Engagers</td>\n",
              "      <td>1</td>\n",
              "      <td>Average Billers</td>\n",
              "    </tr>\n",
              "    <tr>\n",
              "      <th>7665</th>\n",
              "      <td>3.1</td>\n",
              "      <td>2.0</td>\n",
              "      <td>Average Billers</td>\n",
              "      <td>2</td>\n",
              "      <td>Schedulers</td>\n",
              "    </tr>\n",
              "  </tbody>\n",
              "</table>\n",
              "</div>"
            ],
            "text/plain": [
              "       pat_epi  clus_all_id                  clus_all  tri        next_clus\n",
              "0          1.1          1.0         Prepared Engagers    1    Average Users\n",
              "7664       1.1          1.0             Average Users    2    Average Users\n",
              "15328      1.1          1.0             Average Users    3              NaN\n",
              "1          3.1          2.0  Intense Digital Engagers    1  Average Billers\n",
              "7665       3.1          2.0           Average Billers    2       Schedulers"
            ]
          },
          "metadata": {
            "tags": []
          },
          "execution_count": 186
        }
      ]
    },
    {
      "cell_type": "code",
      "metadata": {
        "colab": {
          "base_uri": "https://localhost:8080/",
          "height": 583
        },
        "id": "gd38hYbVyZ-a",
        "outputId": "25bf87c4-8605-43d8-b740-574be8b90f10"
      },
      "source": [
        "all.groupby(['clus_all','tri']).count()"
      ],
      "execution_count": null,
      "outputs": [
        {
          "output_type": "execute_result",
          "data": {
            "text/html": [
              "<div>\n",
              "<style scoped>\n",
              "    .dataframe tbody tr th:only-of-type {\n",
              "        vertical-align: middle;\n",
              "    }\n",
              "\n",
              "    .dataframe tbody tr th {\n",
              "        vertical-align: top;\n",
              "    }\n",
              "\n",
              "    .dataframe thead th {\n",
              "        text-align: right;\n",
              "    }\n",
              "</style>\n",
              "<table border=\"1\" class=\"dataframe\">\n",
              "  <thead>\n",
              "    <tr style=\"text-align: right;\">\n",
              "      <th></th>\n",
              "      <th></th>\n",
              "      <th>pat_epi</th>\n",
              "      <th>clus_all_id</th>\n",
              "      <th>next_clus</th>\n",
              "    </tr>\n",
              "    <tr>\n",
              "      <th>clus_all</th>\n",
              "      <th>tri</th>\n",
              "      <th></th>\n",
              "      <th></th>\n",
              "      <th></th>\n",
              "    </tr>\n",
              "  </thead>\n",
              "  <tbody>\n",
              "    <tr>\n",
              "      <th>Average Billers</th>\n",
              "      <th>2</th>\n",
              "      <td>951</td>\n",
              "      <td>951</td>\n",
              "      <td>951</td>\n",
              "    </tr>\n",
              "    <tr>\n",
              "      <th rowspan=\"3\" valign=\"top\">Average Users</th>\n",
              "      <th>1</th>\n",
              "      <td>3627</td>\n",
              "      <td>3627</td>\n",
              "      <td>3627</td>\n",
              "    </tr>\n",
              "    <tr>\n",
              "      <th>2</th>\n",
              "      <td>2183</td>\n",
              "      <td>2183</td>\n",
              "      <td>2183</td>\n",
              "    </tr>\n",
              "    <tr>\n",
              "      <th>3</th>\n",
              "      <td>2800</td>\n",
              "      <td>2800</td>\n",
              "      <td>0</td>\n",
              "    </tr>\n",
              "    <tr>\n",
              "      <th>Exclusive Resulters</th>\n",
              "      <th>1</th>\n",
              "      <td>387</td>\n",
              "      <td>387</td>\n",
              "      <td>387</td>\n",
              "    </tr>\n",
              "    <tr>\n",
              "      <th rowspan=\"3\" valign=\"top\">Intense Digital Engagers</th>\n",
              "      <th>1</th>\n",
              "      <td>1969</td>\n",
              "      <td>1969</td>\n",
              "      <td>1969</td>\n",
              "    </tr>\n",
              "    <tr>\n",
              "      <th>2</th>\n",
              "      <td>1402</td>\n",
              "      <td>1402</td>\n",
              "      <td>1402</td>\n",
              "    </tr>\n",
              "    <tr>\n",
              "      <th>3</th>\n",
              "      <td>1314</td>\n",
              "      <td>1314</td>\n",
              "      <td>0</td>\n",
              "    </tr>\n",
              "    <tr>\n",
              "      <th rowspan=\"3\" valign=\"top\">Non-Users</th>\n",
              "      <th>1</th>\n",
              "      <td>67</td>\n",
              "      <td>0</td>\n",
              "      <td>67</td>\n",
              "    </tr>\n",
              "    <tr>\n",
              "      <th>2</th>\n",
              "      <td>19</td>\n",
              "      <td>0</td>\n",
              "      <td>19</td>\n",
              "    </tr>\n",
              "    <tr>\n",
              "      <th>3</th>\n",
              "      <td>46</td>\n",
              "      <td>0</td>\n",
              "      <td>0</td>\n",
              "    </tr>\n",
              "    <tr>\n",
              "      <th>Prepared Engagers</th>\n",
              "      <th>1</th>\n",
              "      <td>1614</td>\n",
              "      <td>1614</td>\n",
              "      <td>1614</td>\n",
              "    </tr>\n",
              "    <tr>\n",
              "      <th rowspan=\"2\" valign=\"top\">Resulters</th>\n",
              "      <th>2</th>\n",
              "      <td>949</td>\n",
              "      <td>949</td>\n",
              "      <td>949</td>\n",
              "    </tr>\n",
              "    <tr>\n",
              "      <th>3</th>\n",
              "      <td>1507</td>\n",
              "      <td>1507</td>\n",
              "      <td>0</td>\n",
              "    </tr>\n",
              "    <tr>\n",
              "      <th rowspan=\"2\" valign=\"top\">Schedulers</th>\n",
              "      <th>2</th>\n",
              "      <td>2160</td>\n",
              "      <td>2160</td>\n",
              "      <td>2160</td>\n",
              "    </tr>\n",
              "    <tr>\n",
              "      <th>3</th>\n",
              "      <td>1997</td>\n",
              "      <td>1997</td>\n",
              "      <td>0</td>\n",
              "    </tr>\n",
              "  </tbody>\n",
              "</table>\n",
              "</div>"
            ],
            "text/plain": [
              "                              pat_epi  clus_all_id  next_clus\n",
              "clus_all                 tri                                 \n",
              "Average Billers          2        951          951        951\n",
              "Average Users            1       3627         3627       3627\n",
              "                         2       2183         2183       2183\n",
              "                         3       2800         2800          0\n",
              "Exclusive Resulters      1        387          387        387\n",
              "Intense Digital Engagers 1       1969         1969       1969\n",
              "                         2       1402         1402       1402\n",
              "                         3       1314         1314          0\n",
              "Non-Users                1         67            0         67\n",
              "                         2         19            0         19\n",
              "                         3         46            0          0\n",
              "Prepared Engagers        1       1614         1614       1614\n",
              "Resulters                2        949          949        949\n",
              "                         3       1507         1507          0\n",
              "Schedulers               2       2160         2160       2160\n",
              "                         3       1997         1997          0"
            ]
          },
          "metadata": {
            "tags": []
          },
          "execution_count": 187
        }
      ]
    },
    {
      "cell_type": "code",
      "metadata": {
        "id": "nG1uoZ5Jebzs"
      },
      "source": [
        "targets = []\n",
        "sources = []\n",
        "values = []\n",
        "\n",
        "for source_key, source_value in output['links_dict'].items():\n",
        "    for target_key, target_value in output['links_dict'][source_key].items():\n",
        "        sources.append(source_key)\n",
        "        targets.append(target_key)\n",
        "        values.append(target_value['unique_users'])\n",
        "        \n",
        "labels = []\n",
        "colors = []\n",
        "\n",
        "for key, value in output['nodes_dict'].items():\n",
        "    labels = labels + list(output['nodes_dict'][key]['sources']) \n",
        "    colors = colors + list(output['nodes_dict'][key]['color'])\n",
        "for idx, color in enumerate(colors):\n",
        "    colors[idx] = \"rgb\" + str(color) + \"\"\n",
        "    "
      ],
      "execution_count": null,
      "outputs": []
    },
    {
      "cell_type": "code",
      "metadata": {
        "id": "SQsSKxvNGEpE"
      },
      "source": [
        "# qq=pd.DataFrame(labels)\n",
        "# qq['index']=['1','1','1','1','1','2','2','2','2','2','2','3','3','3','3','3']\n",
        "# qq\n"
      ],
      "execution_count": null,
      "outputs": []
    },
    {
      "cell_type": "code",
      "metadata": {
        "colab": {
          "base_uri": "https://localhost:8080/",
          "height": 175
        },
        "id": "SuD1_FYWHRJY",
        "outputId": "b8a7c770-1d93-4fd1-df4f-4e330aaf2da3"
      },
      "source": [
        "cc=all.groupby(['clus_all','tri']).count()\n",
        "cc=cc.reset_index()\n",
        "cc.groupby(by='tri').sum()"
      ],
      "execution_count": null,
      "outputs": [
        {
          "output_type": "execute_result",
          "data": {
            "text/html": [
              "<div>\n",
              "<style scoped>\n",
              "    .dataframe tbody tr th:only-of-type {\n",
              "        vertical-align: middle;\n",
              "    }\n",
              "\n",
              "    .dataframe tbody tr th {\n",
              "        vertical-align: top;\n",
              "    }\n",
              "\n",
              "    .dataframe thead th {\n",
              "        text-align: right;\n",
              "    }\n",
              "</style>\n",
              "<table border=\"1\" class=\"dataframe\">\n",
              "  <thead>\n",
              "    <tr style=\"text-align: right;\">\n",
              "      <th></th>\n",
              "      <th>pat_epi</th>\n",
              "      <th>clus_all_id</th>\n",
              "      <th>next_clus</th>\n",
              "    </tr>\n",
              "    <tr>\n",
              "      <th>tri</th>\n",
              "      <th></th>\n",
              "      <th></th>\n",
              "      <th></th>\n",
              "    </tr>\n",
              "  </thead>\n",
              "  <tbody>\n",
              "    <tr>\n",
              "      <th>1</th>\n",
              "      <td>7664</td>\n",
              "      <td>7597</td>\n",
              "      <td>7664</td>\n",
              "    </tr>\n",
              "    <tr>\n",
              "      <th>2</th>\n",
              "      <td>7664</td>\n",
              "      <td>7645</td>\n",
              "      <td>7664</td>\n",
              "    </tr>\n",
              "    <tr>\n",
              "      <th>3</th>\n",
              "      <td>7664</td>\n",
              "      <td>7618</td>\n",
              "      <td>0</td>\n",
              "    </tr>\n",
              "  </tbody>\n",
              "</table>\n",
              "</div>"
            ],
            "text/plain": [
              "     pat_epi  clus_all_id  next_clus\n",
              "tri                                 \n",
              "1       7664         7597       7664\n",
              "2       7664         7645       7664\n",
              "3       7664         7618          0"
            ]
          },
          "metadata": {
            "tags": []
          },
          "execution_count": 190
        }
      ]
    },
    {
      "cell_type": "code",
      "metadata": {
        "colab": {
          "base_uri": "https://localhost:8080/"
        },
        "id": "PHahCFHPlcGe",
        "outputId": "fe04db63-8c6b-4814-dfab-664e5d2dd1d7"
      },
      "source": [
        "cc['tri'].sort_values()"
      ],
      "execution_count": null,
      "outputs": [
        {
          "output_type": "execute_result",
          "data": {
            "text/plain": [
              "1     1\n",
              "4     1\n",
              "5     1\n",
              "8     1\n",
              "11    1\n",
              "0     2\n",
              "2     2\n",
              "6     2\n",
              "9     2\n",
              "12    2\n",
              "14    2\n",
              "3     3\n",
              "7     3\n",
              "10    3\n",
              "13    3\n",
              "15    3\n",
              "Name: tri, dtype: int64"
            ]
          },
          "metadata": {
            "tags": []
          },
          "execution_count": 191
        }
      ]
    },
    {
      "cell_type": "code",
      "metadata": {
        "colab": {
          "base_uri": "https://localhost:8080/"
        },
        "id": "9ladQK2JqWkl",
        "outputId": "ff33d3b2-d7e9-458d-a869-66baede4f518"
      },
      "source": [
        "labels"
      ],
      "execution_count": null,
      "outputs": [
        {
          "output_type": "execute_result",
          "data": {
            "text/plain": [
              "['Prepared Engagers',\n",
              " 'Intense Digital Engagers',\n",
              " 'Average Users',\n",
              " 'Exclusive Resulters',\n",
              " 'Non-Users',\n",
              " 'Average Users',\n",
              " 'Average Billers',\n",
              " 'Intense Digital Engagers',\n",
              " 'Resulters',\n",
              " 'Schedulers',\n",
              " 'Non-Users',\n",
              " 'Average Users',\n",
              " 'Schedulers',\n",
              " 'Intense Digital Engagers',\n",
              " 'Resulters',\n",
              " 'Non-Users']"
            ]
          },
          "metadata": {
            "tags": []
          },
          "execution_count": 192
        }
      ]
    },
    {
      "cell_type": "code",
      "metadata": {
        "id": "bUWsnQU3yMRa"
      },
      "source": [
        "cc=all.groupby(['clus_all','tri']).count()\n",
        "cc=cc.reset_index()\n",
        "# cc\n",
        "cc=cc.sort_values(['tri'])\n",
        "x=cc[cc.tri==1]['pat_epi']/7664\n",
        "x=np.append(x,cc[cc.tri==2]['pat_epi']/7664)\n",
        "x=np.append(x,cc[cc.tri==3]['pat_epi']/7664)\n",
        "cc['perc']=(np.round(x*100)).astype(int)\n",
        "\n",
        "cc['aa']=' ('\n",
        "cc['bb']='%)'\n",
        "cc=cc.iloc[[4,2,0,1,3,6,5,7,9,10,8,11,15,12,14,13],:]#4,0,1,2,5,3,8,7,9,6,10,15,11,14,13,16,12,18,19,17,21,20],:]\n",
        "a=np.char.array(cc['clus_all'].values)\n",
        "b=np.char.array(cc['tri'].values)\n",
        "c=np.char.array(cc['pat_epi'].values)\n",
        "d=np.char.array(cc['perc'].values)\n",
        "e=np.char.array(cc['aa'].values)\n",
        "f=np.char.array(cc['bb'].values)\n",
        "labels=(a + b' : ' + c + e + d + f).astype(str)\n",
        "# cc['clus_all'].astype('str')+cc['tri'].astype('str')+cc['pat_epi'].astype('str')\n",
        "# np.array(cc[['clus_all','tri']]).to_list()"
      ],
      "execution_count": null,
      "outputs": []
    },
    {
      "cell_type": "code",
      "metadata": {
        "id": "XD8UUsVY6QpE",
        "colab": {
          "base_uri": "https://localhost:8080/",
          "height": 551
        },
        "outputId": "8b380877-578a-4aa1-91ac-ae45ce29c95e"
      },
      "source": [
        "cc.reset_index()"
      ],
      "execution_count": null,
      "outputs": [
        {
          "output_type": "execute_result",
          "data": {
            "text/html": [
              "<div>\n",
              "<style scoped>\n",
              "    .dataframe tbody tr th:only-of-type {\n",
              "        vertical-align: middle;\n",
              "    }\n",
              "\n",
              "    .dataframe tbody tr th {\n",
              "        vertical-align: top;\n",
              "    }\n",
              "\n",
              "    .dataframe thead th {\n",
              "        text-align: right;\n",
              "    }\n",
              "</style>\n",
              "<table border=\"1\" class=\"dataframe\">\n",
              "  <thead>\n",
              "    <tr style=\"text-align: right;\">\n",
              "      <th></th>\n",
              "      <th>index</th>\n",
              "      <th>clus_all</th>\n",
              "      <th>tri</th>\n",
              "      <th>pat_epi</th>\n",
              "      <th>clus_all_id</th>\n",
              "      <th>next_clus</th>\n",
              "      <th>perc</th>\n",
              "      <th>aa</th>\n",
              "      <th>bb</th>\n",
              "    </tr>\n",
              "  </thead>\n",
              "  <tbody>\n",
              "    <tr>\n",
              "      <th>0</th>\n",
              "      <td>11</td>\n",
              "      <td>Prepared Engagers</td>\n",
              "      <td>1</td>\n",
              "      <td>1614</td>\n",
              "      <td>1614</td>\n",
              "      <td>1614</td>\n",
              "      <td>21</td>\n",
              "      <td>(</td>\n",
              "      <td>%)</td>\n",
              "    </tr>\n",
              "    <tr>\n",
              "      <th>1</th>\n",
              "      <td>5</td>\n",
              "      <td>Intense Digital Engagers</td>\n",
              "      <td>1</td>\n",
              "      <td>1969</td>\n",
              "      <td>1969</td>\n",
              "      <td>1969</td>\n",
              "      <td>26</td>\n",
              "      <td>(</td>\n",
              "      <td>%)</td>\n",
              "    </tr>\n",
              "    <tr>\n",
              "      <th>2</th>\n",
              "      <td>1</td>\n",
              "      <td>Average Users</td>\n",
              "      <td>1</td>\n",
              "      <td>3627</td>\n",
              "      <td>3627</td>\n",
              "      <td>3627</td>\n",
              "      <td>47</td>\n",
              "      <td>(</td>\n",
              "      <td>%)</td>\n",
              "    </tr>\n",
              "    <tr>\n",
              "      <th>3</th>\n",
              "      <td>4</td>\n",
              "      <td>Exclusive Resulters</td>\n",
              "      <td>1</td>\n",
              "      <td>387</td>\n",
              "      <td>387</td>\n",
              "      <td>387</td>\n",
              "      <td>5</td>\n",
              "      <td>(</td>\n",
              "      <td>%)</td>\n",
              "    </tr>\n",
              "    <tr>\n",
              "      <th>4</th>\n",
              "      <td>8</td>\n",
              "      <td>Non-Users</td>\n",
              "      <td>1</td>\n",
              "      <td>67</td>\n",
              "      <td>0</td>\n",
              "      <td>67</td>\n",
              "      <td>1</td>\n",
              "      <td>(</td>\n",
              "      <td>%)</td>\n",
              "    </tr>\n",
              "    <tr>\n",
              "      <th>5</th>\n",
              "      <td>2</td>\n",
              "      <td>Average Users</td>\n",
              "      <td>2</td>\n",
              "      <td>2183</td>\n",
              "      <td>2183</td>\n",
              "      <td>2183</td>\n",
              "      <td>28</td>\n",
              "      <td>(</td>\n",
              "      <td>%)</td>\n",
              "    </tr>\n",
              "    <tr>\n",
              "      <th>6</th>\n",
              "      <td>0</td>\n",
              "      <td>Average Billers</td>\n",
              "      <td>2</td>\n",
              "      <td>951</td>\n",
              "      <td>951</td>\n",
              "      <td>951</td>\n",
              "      <td>12</td>\n",
              "      <td>(</td>\n",
              "      <td>%)</td>\n",
              "    </tr>\n",
              "    <tr>\n",
              "      <th>7</th>\n",
              "      <td>6</td>\n",
              "      <td>Intense Digital Engagers</td>\n",
              "      <td>2</td>\n",
              "      <td>1402</td>\n",
              "      <td>1402</td>\n",
              "      <td>1402</td>\n",
              "      <td>18</td>\n",
              "      <td>(</td>\n",
              "      <td>%)</td>\n",
              "    </tr>\n",
              "    <tr>\n",
              "      <th>8</th>\n",
              "      <td>12</td>\n",
              "      <td>Resulters</td>\n",
              "      <td>2</td>\n",
              "      <td>949</td>\n",
              "      <td>949</td>\n",
              "      <td>949</td>\n",
              "      <td>12</td>\n",
              "      <td>(</td>\n",
              "      <td>%)</td>\n",
              "    </tr>\n",
              "    <tr>\n",
              "      <th>9</th>\n",
              "      <td>14</td>\n",
              "      <td>Schedulers</td>\n",
              "      <td>2</td>\n",
              "      <td>2160</td>\n",
              "      <td>2160</td>\n",
              "      <td>2160</td>\n",
              "      <td>28</td>\n",
              "      <td>(</td>\n",
              "      <td>%)</td>\n",
              "    </tr>\n",
              "    <tr>\n",
              "      <th>10</th>\n",
              "      <td>9</td>\n",
              "      <td>Non-Users</td>\n",
              "      <td>2</td>\n",
              "      <td>19</td>\n",
              "      <td>0</td>\n",
              "      <td>19</td>\n",
              "      <td>0</td>\n",
              "      <td>(</td>\n",
              "      <td>%)</td>\n",
              "    </tr>\n",
              "    <tr>\n",
              "      <th>11</th>\n",
              "      <td>3</td>\n",
              "      <td>Average Users</td>\n",
              "      <td>3</td>\n",
              "      <td>2800</td>\n",
              "      <td>2800</td>\n",
              "      <td>0</td>\n",
              "      <td>37</td>\n",
              "      <td>(</td>\n",
              "      <td>%)</td>\n",
              "    </tr>\n",
              "    <tr>\n",
              "      <th>12</th>\n",
              "      <td>15</td>\n",
              "      <td>Schedulers</td>\n",
              "      <td>3</td>\n",
              "      <td>1997</td>\n",
              "      <td>1997</td>\n",
              "      <td>0</td>\n",
              "      <td>26</td>\n",
              "      <td>(</td>\n",
              "      <td>%)</td>\n",
              "    </tr>\n",
              "    <tr>\n",
              "      <th>13</th>\n",
              "      <td>7</td>\n",
              "      <td>Intense Digital Engagers</td>\n",
              "      <td>3</td>\n",
              "      <td>1314</td>\n",
              "      <td>1314</td>\n",
              "      <td>0</td>\n",
              "      <td>17</td>\n",
              "      <td>(</td>\n",
              "      <td>%)</td>\n",
              "    </tr>\n",
              "    <tr>\n",
              "      <th>14</th>\n",
              "      <td>13</td>\n",
              "      <td>Resulters</td>\n",
              "      <td>3</td>\n",
              "      <td>1507</td>\n",
              "      <td>1507</td>\n",
              "      <td>0</td>\n",
              "      <td>20</td>\n",
              "      <td>(</td>\n",
              "      <td>%)</td>\n",
              "    </tr>\n",
              "    <tr>\n",
              "      <th>15</th>\n",
              "      <td>10</td>\n",
              "      <td>Non-Users</td>\n",
              "      <td>3</td>\n",
              "      <td>46</td>\n",
              "      <td>0</td>\n",
              "      <td>0</td>\n",
              "      <td>1</td>\n",
              "      <td>(</td>\n",
              "      <td>%)</td>\n",
              "    </tr>\n",
              "  </tbody>\n",
              "</table>\n",
              "</div>"
            ],
            "text/plain": [
              "    index                  clus_all  tri  pat_epi  ...  next_clus  perc  aa  bb\n",
              "0      11         Prepared Engagers    1     1614  ...       1614    21   (  %)\n",
              "1       5  Intense Digital Engagers    1     1969  ...       1969    26   (  %)\n",
              "2       1             Average Users    1     3627  ...       3627    47   (  %)\n",
              "3       4       Exclusive Resulters    1      387  ...        387     5   (  %)\n",
              "4       8                 Non-Users    1       67  ...         67     1   (  %)\n",
              "5       2             Average Users    2     2183  ...       2183    28   (  %)\n",
              "6       0           Average Billers    2      951  ...        951    12   (  %)\n",
              "7       6  Intense Digital Engagers    2     1402  ...       1402    18   (  %)\n",
              "8      12                 Resulters    2      949  ...        949    12   (  %)\n",
              "9      14                Schedulers    2     2160  ...       2160    28   (  %)\n",
              "10      9                 Non-Users    2       19  ...         19     0   (  %)\n",
              "11      3             Average Users    3     2800  ...          0    37   (  %)\n",
              "12     15                Schedulers    3     1997  ...          0    26   (  %)\n",
              "13      7  Intense Digital Engagers    3     1314  ...          0    17   (  %)\n",
              "14     13                 Resulters    3     1507  ...          0    20   (  %)\n",
              "15     10                 Non-Users    3       46  ...          0     1   (  %)\n",
              "\n",
              "[16 rows x 9 columns]"
            ]
          },
          "metadata": {
            "tags": []
          },
          "execution_count": 194
        }
      ]
    },
    {
      "cell_type": "markdown",
      "metadata": {
        "id": "8OqCSdARIsq8"
      },
      "source": [
        "##Sankey [(via)](https://towardsdatascience.com/visualizing-in-app-user-journey-using-sankey-diagrams-in-python-8373a7bb2d22)"
      ]
    },
    {
      "cell_type": "code",
      "metadata": {
        "colab": {
          "base_uri": "https://localhost:8080/",
          "height": 542
        },
        "id": "V3GePETXeya7",
        "outputId": "377cfeae-c2ca-4555-f567-9d98af514a0c"
      },
      "source": [
        "# label = [\"{} {}\".format(node1_name, node1_val), \"{} {}\".format(node2_name, node2_val) ...]\n",
        "fig = go.Figure(data=[go.Sankey(\n",
        "    node=dict(\n",
        "        thickness=20,  # default is 20\n",
        "        line=dict(color=\"black\", width=0.5),\n",
        "        label=labels,\n",
        "        color=colors\n",
        "    ),\n",
        "    link=dict(\n",
        "        source=sources,\n",
        "        target=targets,\n",
        "        value=values,\n",
        "        hovertemplate='%{value} unique pregnancy episodes went from %{source.label} to %{target.label}.<br />',\n",
        "    ))])\n",
        "\n",
        "fig.update_layout(autosize=True, title=dict(text=\"Movement of Clusters Among All Pregnancies\", font_size=16), font=dict(size=12, family=\"Arial\"), plot_bgcolor='white')\n"
      ],
      "execution_count": null,
      "outputs": [
        {
          "output_type": "display_data",
          "data": {
            "text/html": [
              "<html>\n",
              "<head><meta charset=\"utf-8\" /></head>\n",
              "<body>\n",
              "    <div>\n",
              "            <script src=\"https://cdnjs.cloudflare.com/ajax/libs/mathjax/2.7.5/MathJax.js?config=TeX-AMS-MML_SVG\"></script><script type=\"text/javascript\">if (window.MathJax) {MathJax.Hub.Config({SVG: {font: \"STIX-Web\"}});}</script>\n",
              "                <script type=\"text/javascript\">window.PlotlyConfig = {MathJaxConfig: 'local'};</script>\n",
              "        <script src=\"https://cdn.plot.ly/plotly-latest.min.js\"></script>    \n",
              "            <div id=\"8f568b97-c143-499d-923d-ade16473967e\" class=\"plotly-graph-div\" style=\"height:525px; width:100%;\"></div>\n",
              "            <script type=\"text/javascript\">\n",
              "                \n",
              "                    window.PLOTLYENV=window.PLOTLYENV || {};\n",
              "                    \n",
              "                if (document.getElementById(\"8f568b97-c143-499d-923d-ade16473967e\")) {\n",
              "                    Plotly.newPlot(\n",
              "                        '8f568b97-c143-499d-923d-ade16473967e',\n",
              "                        [{\"link\": {\"hovertemplate\": \"%{value} unique pregnancy episodes went from %{source.label} to %{target.label}.<br />\", \"source\": [0, 0, 0, 0, 0, 0, 5, 5, 5, 5, 5, 1, 1, 1, 1, 1, 1, 6, 6, 6, 6, 6, 2, 2, 2, 2, 2, 2, 7, 7, 7, 7, 7, 8, 8, 8, 8, 8, 9, 9, 9, 9, 9, 3, 3, 3, 3, 3, 3, 4, 4, 4, 4, 4, 4, 10, 10, 10, 10], \"target\": [5, 8, 9, 6, 7, 10, 11, 12, 14, 13, 15, 6, 5, 7, 9, 8, 10, 12, 14, 11, 13, 15, 5, 7, 6, 9, 8, 10, 13, 14, 11, 12, 15, 11, 14, 12, 13, 15, 12, 11, 14, 15, 13, 8, 5, 9, 6, 7, 10, 7, 5, 9, 8, 6, 10, 15, 11, 14, 12], \"value\": [328, 47, 1158, 58, 21, 2, 986, 438, 520, 231, 8, 177, 502, 955, 145, 189, 1, 113, 193, 563, 77, 5, 1239, 350, 659, 799, 573, 7, 826, 195, 334, 36, 11, 300, 419, 59, 158, 13, 1350, 612, 171, 5, 22, 126, 99, 43, 49, 67, 3, 9, 15, 15, 14, 8, 6, 4, 5, 9, 1]}, \"node\": {\"color\": [\"rgb(80, 190, 151)\", \"rgb(251, 238, 172)\", \"rgb(228, 101, 92)\", \"rgb(53, 58, 62)\", \"rgb(230, 230, 230)\", \"rgb(228, 101, 92)\", \"rgb(62, 80, 102)\", \"rgb(251, 238, 172)\", \"rgb(252, 200, 101)\", \"rgb(191, 214, 222)\", \"rgb(230, 230, 230)\", \"rgb(228, 101, 92)\", \"rgb(191, 214, 222)\", \"rgb(251, 238, 172)\", \"rgb(252, 200, 101)\", \"rgb(230, 230, 230)\"], \"label\": [\"Prepared Engagers : 1614 (21%)\", \"Intense Digital Engagers : 1969 (26%)\", \"Average Users : 3627 (47%)\", \"Exclusive Resulters : 387 (5%)\", \"Non-Users : 67 (1%)\", \"Average Users : 2183 (28%)\", \"Average Billers : 951 (12%)\", \"Intense Digital Engagers : 1402 (18%)\", \"Resulters : 949 (12%)\", \"Schedulers : 2160 (28%)\", \"Non-Users : 19 (0%)\", \"Average Users : 2800 (37%)\", \"Schedulers : 1997 (26%)\", \"Intense Digital Engagers : 1314 (17%)\", \"Resulters : 1507 (20%)\", \"Non-Users : 46 (1%)\"], \"line\": {\"color\": \"black\", \"width\": 0.5}, \"thickness\": 20}, \"type\": \"sankey\"}],\n",
              "                        {\"autosize\": true, \"font\": {\"family\": \"Arial\", \"size\": 12}, \"plot_bgcolor\": \"white\", \"template\": {\"data\": {\"bar\": [{\"error_x\": {\"color\": \"#2a3f5f\"}, \"error_y\": {\"color\": \"#2a3f5f\"}, \"marker\": {\"line\": {\"color\": \"#E5ECF6\", \"width\": 0.5}}, \"type\": \"bar\"}], \"barpolar\": [{\"marker\": {\"line\": {\"color\": \"#E5ECF6\", \"width\": 0.5}}, \"type\": \"barpolar\"}], \"carpet\": [{\"aaxis\": {\"endlinecolor\": \"#2a3f5f\", \"gridcolor\": \"white\", \"linecolor\": \"white\", \"minorgridcolor\": \"white\", \"startlinecolor\": \"#2a3f5f\"}, \"baxis\": {\"endlinecolor\": \"#2a3f5f\", \"gridcolor\": \"white\", \"linecolor\": \"white\", \"minorgridcolor\": \"white\", \"startlinecolor\": \"#2a3f5f\"}, \"type\": \"carpet\"}], \"choropleth\": [{\"colorbar\": {\"outlinewidth\": 0, \"ticks\": \"\"}, \"type\": \"choropleth\"}], \"contour\": [{\"colorbar\": {\"outlinewidth\": 0, \"ticks\": \"\"}, \"colorscale\": [[0.0, \"#0d0887\"], [0.1111111111111111, \"#46039f\"], [0.2222222222222222, \"#7201a8\"], [0.3333333333333333, \"#9c179e\"], [0.4444444444444444, \"#bd3786\"], [0.5555555555555556, \"#d8576b\"], [0.6666666666666666, \"#ed7953\"], [0.7777777777777778, \"#fb9f3a\"], [0.8888888888888888, \"#fdca26\"], [1.0, \"#f0f921\"]], \"type\": \"contour\"}], \"contourcarpet\": [{\"colorbar\": {\"outlinewidth\": 0, \"ticks\": \"\"}, \"type\": \"contourcarpet\"}], \"heatmap\": [{\"colorbar\": {\"outlinewidth\": 0, \"ticks\": \"\"}, \"colorscale\": [[0.0, \"#0d0887\"], [0.1111111111111111, \"#46039f\"], [0.2222222222222222, \"#7201a8\"], [0.3333333333333333, \"#9c179e\"], [0.4444444444444444, \"#bd3786\"], [0.5555555555555556, \"#d8576b\"], [0.6666666666666666, \"#ed7953\"], [0.7777777777777778, \"#fb9f3a\"], [0.8888888888888888, \"#fdca26\"], [1.0, \"#f0f921\"]], \"type\": \"heatmap\"}], \"heatmapgl\": [{\"colorbar\": {\"outlinewidth\": 0, \"ticks\": \"\"}, \"colorscale\": [[0.0, \"#0d0887\"], [0.1111111111111111, \"#46039f\"], [0.2222222222222222, \"#7201a8\"], [0.3333333333333333, \"#9c179e\"], [0.4444444444444444, \"#bd3786\"], [0.5555555555555556, \"#d8576b\"], [0.6666666666666666, \"#ed7953\"], [0.7777777777777778, \"#fb9f3a\"], [0.8888888888888888, \"#fdca26\"], [1.0, \"#f0f921\"]], \"type\": \"heatmapgl\"}], \"histogram\": [{\"marker\": {\"colorbar\": {\"outlinewidth\": 0, \"ticks\": \"\"}}, \"type\": \"histogram\"}], \"histogram2d\": [{\"colorbar\": {\"outlinewidth\": 0, \"ticks\": \"\"}, \"colorscale\": [[0.0, \"#0d0887\"], [0.1111111111111111, \"#46039f\"], [0.2222222222222222, \"#7201a8\"], [0.3333333333333333, \"#9c179e\"], [0.4444444444444444, \"#bd3786\"], [0.5555555555555556, \"#d8576b\"], [0.6666666666666666, \"#ed7953\"], [0.7777777777777778, \"#fb9f3a\"], [0.8888888888888888, \"#fdca26\"], [1.0, \"#f0f921\"]], \"type\": \"histogram2d\"}], \"histogram2dcontour\": [{\"colorbar\": {\"outlinewidth\": 0, \"ticks\": \"\"}, \"colorscale\": [[0.0, \"#0d0887\"], [0.1111111111111111, \"#46039f\"], [0.2222222222222222, \"#7201a8\"], [0.3333333333333333, \"#9c179e\"], [0.4444444444444444, \"#bd3786\"], [0.5555555555555556, \"#d8576b\"], [0.6666666666666666, \"#ed7953\"], [0.7777777777777778, \"#fb9f3a\"], [0.8888888888888888, \"#fdca26\"], [1.0, \"#f0f921\"]], \"type\": \"histogram2dcontour\"}], \"mesh3d\": [{\"colorbar\": {\"outlinewidth\": 0, \"ticks\": \"\"}, \"type\": \"mesh3d\"}], \"parcoords\": [{\"line\": {\"colorbar\": {\"outlinewidth\": 0, \"ticks\": \"\"}}, \"type\": \"parcoords\"}], \"pie\": [{\"automargin\": true, \"type\": \"pie\"}], \"scatter\": [{\"marker\": {\"colorbar\": {\"outlinewidth\": 0, \"ticks\": \"\"}}, \"type\": \"scatter\"}], \"scatter3d\": [{\"line\": {\"colorbar\": {\"outlinewidth\": 0, \"ticks\": \"\"}}, \"marker\": {\"colorbar\": {\"outlinewidth\": 0, \"ticks\": \"\"}}, \"type\": \"scatter3d\"}], \"scattercarpet\": [{\"marker\": {\"colorbar\": {\"outlinewidth\": 0, \"ticks\": \"\"}}, \"type\": \"scattercarpet\"}], \"scattergeo\": [{\"marker\": {\"colorbar\": {\"outlinewidth\": 0, \"ticks\": \"\"}}, \"type\": \"scattergeo\"}], \"scattergl\": [{\"marker\": {\"colorbar\": {\"outlinewidth\": 0, \"ticks\": \"\"}}, \"type\": \"scattergl\"}], \"scattermapbox\": [{\"marker\": {\"colorbar\": {\"outlinewidth\": 0, \"ticks\": \"\"}}, \"type\": \"scattermapbox\"}], \"scatterpolar\": [{\"marker\": {\"colorbar\": {\"outlinewidth\": 0, \"ticks\": \"\"}}, \"type\": \"scatterpolar\"}], \"scatterpolargl\": [{\"marker\": {\"colorbar\": {\"outlinewidth\": 0, \"ticks\": \"\"}}, \"type\": \"scatterpolargl\"}], \"scatterternary\": [{\"marker\": {\"colorbar\": {\"outlinewidth\": 0, \"ticks\": \"\"}}, \"type\": \"scatterternary\"}], \"surface\": [{\"colorbar\": {\"outlinewidth\": 0, \"ticks\": \"\"}, \"colorscale\": [[0.0, \"#0d0887\"], [0.1111111111111111, \"#46039f\"], [0.2222222222222222, \"#7201a8\"], [0.3333333333333333, \"#9c179e\"], [0.4444444444444444, \"#bd3786\"], [0.5555555555555556, \"#d8576b\"], [0.6666666666666666, \"#ed7953\"], [0.7777777777777778, \"#fb9f3a\"], [0.8888888888888888, \"#fdca26\"], [1.0, \"#f0f921\"]], \"type\": \"surface\"}], \"table\": [{\"cells\": {\"fill\": {\"color\": \"#EBF0F8\"}, \"line\": {\"color\": \"white\"}}, \"header\": {\"fill\": {\"color\": \"#C8D4E3\"}, \"line\": {\"color\": \"white\"}}, \"type\": \"table\"}]}, \"layout\": {\"annotationdefaults\": {\"arrowcolor\": \"#2a3f5f\", \"arrowhead\": 0, \"arrowwidth\": 1}, \"coloraxis\": {\"colorbar\": {\"outlinewidth\": 0, \"ticks\": \"\"}}, \"colorscale\": {\"diverging\": [[0, \"#8e0152\"], [0.1, \"#c51b7d\"], [0.2, \"#de77ae\"], [0.3, \"#f1b6da\"], [0.4, \"#fde0ef\"], [0.5, \"#f7f7f7\"], [0.6, \"#e6f5d0\"], [0.7, \"#b8e186\"], [0.8, \"#7fbc41\"], [0.9, \"#4d9221\"], [1, \"#276419\"]], \"sequential\": [[0.0, \"#0d0887\"], [0.1111111111111111, \"#46039f\"], [0.2222222222222222, \"#7201a8\"], [0.3333333333333333, \"#9c179e\"], [0.4444444444444444, \"#bd3786\"], [0.5555555555555556, \"#d8576b\"], [0.6666666666666666, \"#ed7953\"], [0.7777777777777778, \"#fb9f3a\"], [0.8888888888888888, \"#fdca26\"], [1.0, \"#f0f921\"]], \"sequentialminus\": [[0.0, \"#0d0887\"], [0.1111111111111111, \"#46039f\"], [0.2222222222222222, \"#7201a8\"], [0.3333333333333333, \"#9c179e\"], [0.4444444444444444, \"#bd3786\"], [0.5555555555555556, \"#d8576b\"], [0.6666666666666666, \"#ed7953\"], [0.7777777777777778, \"#fb9f3a\"], [0.8888888888888888, \"#fdca26\"], [1.0, \"#f0f921\"]]}, \"colorway\": [\"#636efa\", \"#EF553B\", \"#00cc96\", \"#ab63fa\", \"#FFA15A\", \"#19d3f3\", \"#FF6692\", \"#B6E880\", \"#FF97FF\", \"#FECB52\"], \"font\": {\"color\": \"#2a3f5f\"}, \"geo\": {\"bgcolor\": \"white\", \"lakecolor\": \"white\", \"landcolor\": \"#E5ECF6\", \"showlakes\": true, \"showland\": true, \"subunitcolor\": \"white\"}, \"hoverlabel\": {\"align\": \"left\"}, \"hovermode\": \"closest\", \"mapbox\": {\"style\": \"light\"}, \"paper_bgcolor\": \"white\", \"plot_bgcolor\": \"#E5ECF6\", \"polar\": {\"angularaxis\": {\"gridcolor\": \"white\", \"linecolor\": \"white\", \"ticks\": \"\"}, \"bgcolor\": \"#E5ECF6\", \"radialaxis\": {\"gridcolor\": \"white\", \"linecolor\": \"white\", \"ticks\": \"\"}}, \"scene\": {\"xaxis\": {\"backgroundcolor\": \"#E5ECF6\", \"gridcolor\": \"white\", \"gridwidth\": 2, \"linecolor\": \"white\", \"showbackground\": true, \"ticks\": \"\", \"zerolinecolor\": \"white\"}, \"yaxis\": {\"backgroundcolor\": \"#E5ECF6\", \"gridcolor\": \"white\", \"gridwidth\": 2, \"linecolor\": \"white\", \"showbackground\": true, \"ticks\": \"\", \"zerolinecolor\": \"white\"}, \"zaxis\": {\"backgroundcolor\": \"#E5ECF6\", \"gridcolor\": \"white\", \"gridwidth\": 2, \"linecolor\": \"white\", \"showbackground\": true, \"ticks\": \"\", \"zerolinecolor\": \"white\"}}, \"shapedefaults\": {\"line\": {\"color\": \"#2a3f5f\"}}, \"ternary\": {\"aaxis\": {\"gridcolor\": \"white\", \"linecolor\": \"white\", \"ticks\": \"\"}, \"baxis\": {\"gridcolor\": \"white\", \"linecolor\": \"white\", \"ticks\": \"\"}, \"bgcolor\": \"#E5ECF6\", \"caxis\": {\"gridcolor\": \"white\", \"linecolor\": \"white\", \"ticks\": \"\"}}, \"title\": {\"x\": 0.05}, \"xaxis\": {\"automargin\": true, \"gridcolor\": \"white\", \"linecolor\": \"white\", \"ticks\": \"\", \"title\": {\"standoff\": 15}, \"zerolinecolor\": \"white\", \"zerolinewidth\": 2}, \"yaxis\": {\"automargin\": true, \"gridcolor\": \"white\", \"linecolor\": \"white\", \"ticks\": \"\", \"title\": {\"standoff\": 15}, \"zerolinecolor\": \"white\", \"zerolinewidth\": 2}}}, \"title\": {\"font\": {\"size\": 16}, \"text\": \"Movement of Clusters Among All Pregnancies\"}},\n",
              "                        {\"responsive\": true}\n",
              "                    ).then(function(){\n",
              "                            \n",
              "var gd = document.getElementById('8f568b97-c143-499d-923d-ade16473967e');\n",
              "var x = new MutationObserver(function (mutations, observer) {{\n",
              "        var display = window.getComputedStyle(gd).display;\n",
              "        if (!display || display === 'none') {{\n",
              "            console.log([gd, 'removed!']);\n",
              "            Plotly.purge(gd);\n",
              "            observer.disconnect();\n",
              "        }}\n",
              "}});\n",
              "\n",
              "// Listen for the removal of the full notebook cells\n",
              "var notebookContainer = gd.closest('#notebook-container');\n",
              "if (notebookContainer) {{\n",
              "    x.observe(notebookContainer, {childList: true});\n",
              "}}\n",
              "\n",
              "// Listen for the clearing of the current output cell\n",
              "var outputEl = gd.closest('.output');\n",
              "if (outputEl) {{\n",
              "    x.observe(outputEl, {childList: true});\n",
              "}}\n",
              "\n",
              "                        })\n",
              "                };\n",
              "                \n",
              "            </script>\n",
              "        </div>\n",
              "</body>\n",
              "</html>"
            ]
          },
          "metadata": {
            "tags": []
          }
        }
      ]
    },
    {
      "cell_type": "code",
      "metadata": {
        "id": "XqoKzwJfGtdL"
      },
      "source": [
        ""
      ],
      "execution_count": null,
      "outputs": []
    },
    {
      "cell_type": "code",
      "metadata": {
        "id": "jFI18ZPzGtfq"
      },
      "source": [
        ""
      ],
      "execution_count": null,
      "outputs": []
    },
    {
      "cell_type": "markdown",
      "metadata": {
        "id": "oXaUjxB6G75q"
      },
      "source": [
        "## ANOVA & Posthoc"
      ]
    },
    {
      "cell_type": "markdown",
      "metadata": {
        "id": "fSkXmftCHTOF"
      },
      "source": [
        "###[run in R and import](https://colab.research.google.com/drive/15_6sFfR397FVAFDS5ZB4SE4osbyI3AXx#scrollTo=8yWLbIvpH_Q_)\n",
        "\n",
        "*   temporarily upload to colab files you need to read in here\n"
      ]
    },
    {
      "cell_type": "code",
      "metadata": {
        "id": "Wx2EHRuXHSnj",
        "colab": {
          "base_uri": "https://localhost:8080/",
          "height": 130
        },
        "outputId": "13ec9295-a938-4a0a-f48a-133ce5cff42d"
      },
      "source": [
        "getwd()\n",
        "setwd(\"/Users/evan/Desktop/Thesis/Data_Final/sigtestR\")\n",
        "\n",
        "library(readr)\n",
        "library(PMCMRplus)\n",
        "library(reshape2)\n",
        "library(tidyverse)\n",
        "\n",
        "varlist<-c('prop_messaging','prop_visits','prop_myrecord','prop_billing',\n",
        "           'prop_GR1_tri1','prop_GR2_tri1','prop_GR3_tri1','prop_GR5_tri1',\n",
        "           'prop_GR1_tri2','prop_GR2_tri2','prop_GR3_tri2','prop_GR5_tri2',\n",
        "           'prop_GR1_tri3','prop_GR2_tri3','prop_GR3_tri3','prop_GR5_tri3',\n",
        "           'se_max_alltri_fin','epi_length','ttstart_tri1','ttend_tri1','tt_del','tt_estdel','ob_cnt','visits_cnt','mm_cnt','se_max_tri1_fin','se_max_tri2_fin','ttstart_tri2','ttend_tri2',\n",
        "           'se_max_tri3_fin','ttstart_tri3','ttend_tri3')\n",
        "\n",
        "all_all <- read_csv(\"cluster_all.csv\", col_names = TRUE)\n",
        "all_tri1 <- read_csv(\"cluster_all_tri1.csv\", col_names = TRUE)\n",
        "all_tri2 <- read_csv(\"cluster_all_tri2.csv\", col_names = TRUE)\n",
        "all_tri3 <- read_csv(\"cluster_all_tri3.csv\", col_names = TRUE)\n",
        "norm_all <- read_csv(\"cluster_norm.csv\", col_names = TRUE)\n",
        "norm_tri1 <- read_csv(\"cluster_norm_tri1.csv\", col_names = TRUE)\n",
        "norm_tri2 <- read_csv(\"cluster_norm_tri2.csv\", col_names = TRUE)\n",
        "norm_tri3 <- read_csv(\"cluster_norm_tri3.csv\", col_names = TRUE)\n",
        "norm_all$mm_cnt<-sample.int(29,6233,replace = TRUE)\n",
        "norm_tri1$mm_cnt<-sample.int(29,6233,replace = TRUE)\n",
        "norm_tri2$mm_cnt<-sample.int(29,6233,replace = TRUE)\n",
        "norm_tri3$mm_cnt<-sample.int(29,6233,replace = TRUE)\n",
        "high_all <- read_csv(\"cluster_high.csv\", col_names = TRUE)\n",
        "high_tri1 <- read_csv(\"cluster_high_tri1.csv\", col_names = TRUE)\n",
        "high_tri2 <- read_csv(\"cluster_high_tri2.csv\", col_names = TRUE)\n",
        "high_tri3 <- read_csv(\"cluster_high_tri3.csv\", col_names = TRUE)\n",
        "\n",
        "filelist<-c('all_all','all_tri1','all_tri2','all_tri3','norm_all','norm_tri1','norm_tri2','norm_tri3','high_all','high_tri1','high_tri2','high_tri3')\n",
        "\n",
        "c=0\n",
        "out = list()\n",
        "\n",
        "for(i in varlist) {\n",
        "  for(j in filelist) {\n",
        "    outA=list()\n",
        "    out = list()\n",
        "    c=c+1\n",
        "all_fit <- aov(eval(parse(text = i)) ~ factor(cluster), eval(parse(text = j)))\n",
        "cc<-summary(all_fit)\n",
        "out<-rbind(c(i,j,(cc)[[1]][[\"Pr(>F)\"]]),out)\n",
        "write.table(out,\"anova.txt\", row.names=F,na=\"NA\",append=T, quote= FALSE, sep=\"\\t\", col.names=F)\n",
        "\n",
        "all_res <- duncanTest(all_fit)\n",
        "summary(all_res)\n",
        "dd<-summaryGroup(all_res)[3]\n",
        "if (dim(dd$p.value)[1]==2){\n",
        "outA<-rbind(c(i,j,melt(dd)$value),outA)\n",
        "write.table(outA,\"burts3.txt\", row.names=F,na=\"NA\",append=T, quote= FALSE, sep=\"\\t\", col.names=F)\n",
        "}else if(dim(dd$p.value)[1]==3){\n",
        "  outA<-rbind(c(i,j,melt(dd)$value),outA)\n",
        "  write.table(outA,\"burts4.txt\", row.names=F,na=\"NA\",append=T, quote= FALSE, sep=\"\\t\", col.names=F)\n",
        "}else if(dim(dd$p.value)[1]==4){\n",
        "  outA<-rbind(c(i,j,melt(dd)$value),outA)\n",
        "  write.table(outA,\"burts5.txt\", row.names=F,na=\"NA\",append=T, quote= FALSE, sep=\"\\t\", col.names=F)\n",
        "#   \n",
        "}\n",
        "\n",
        "  }}\n",
        "\n",
        "\n",
        "i<-'ttend_tri3'\n",
        "j<-'high_tri3'\n",
        "all_fit <- aov(eval(parse(text = i)) ~ factor(cluster), eval(parse(text = j)))\n",
        "cc<-summary(all_fit)\n",
        "out<-rbind(c(i,j,(cc)[[1]][[\"Pr(>F)\"]]),out)\n"
      ],
      "execution_count": null,
      "outputs": [
        {
          "output_type": "error",
          "ename": "SyntaxError",
          "evalue": "ignored",
          "traceback": [
            "\u001b[0;36m  File \u001b[0;32m\"<ipython-input-1-77b974db00f1>\"\u001b[0;36m, line \u001b[0;32m24\u001b[0m\n\u001b[0;31m    norm_all$mm_cnt<-sample.int(29,6233,replace = TRUE)\u001b[0m\n\u001b[0m            ^\u001b[0m\n\u001b[0;31mSyntaxError\u001b[0m\u001b[0;31m:\u001b[0m invalid syntax\n"
          ]
        }
      ]
    },
    {
      "cell_type": "code",
      "metadata": {
        "id": "xsvNw3G7HcHa"
      },
      "source": [
        "### run this to change labels\n",
        "# library(dplyr)\n",
        "# altname<-function(x){\n",
        "# rename(eval(parse(text = x)), prop_messaging_alltri = prop_messaging, \n",
        "#        prop_visits_alltri = prop_visits,\n",
        "#        prop_myrecord_alltri = prop_myrecord,\n",
        "#        prop_billing_alltri = prop_billing,\n",
        "#        prop_messaging_tri1 = prop_GR1_tri1,\n",
        "#        prop_visits_tri1 = prop_GR2_tri1,\n",
        "#        prop_myrecord_tri1 = prop_GR3_tri1,\n",
        "#        prop_billing_tri1 = prop_GR5_tri1,\n",
        "#        prop_messaging_tri2 = prop_GR1_tri2,\n",
        "#        prop_visits_tri2 = prop_GR2_tri2,\n",
        "#        prop_myrecord_tri2 = prop_GR3_tri2,\n",
        "#        prop_billing_tri2 = prop_GR5_tri2,  \n",
        "#        prop_messaging_tri3 = prop_GR1_tri3,\n",
        "#        prop_visits_tri3 = prop_GR2_tri3,\n",
        "#        prop_myrecord_tri3 = prop_GR3_tri3,\n",
        "#        prop_billing_tri3 = prop_GR5_tri3, \n",
        "#        sess_per_preg_alltri = se_max_alltri_fin, \n",
        "#        sess_per_tri_tri1 = se_max_tri1_fin, \n",
        "#        sess_per_tri_tri2 = se_max_tri2_fin, \n",
        "#        sess_per_tri_tri3 = se_max_tri3_fin, \n",
        "#        preg_length = epi_length,\n",
        "#        days_first_sess_tri1 = ttstart_tri1,\n",
        "#        days_first_sess_tri2 = ttstart_tri2,\n",
        "#        days_first_sess_tri3 = ttstart_tri3,\n",
        "#        days_last_sess_tri1 = ttend_tri1,\n",
        "#        days_last_sess_tri2 = ttend_tri2,\n",
        "#        days_last_sess_tri3 = ttend_tri3,\n",
        "#        days_deliv = tt_del,\n",
        "#        days_est_deliv = tt_estdel,\n",
        "#        ob_vis = ob_cnt,\n",
        "#        mfm_vis = mm_cnt,\n",
        "#        total_vis = visits_cnt\n",
        "# )}\n",
        "\n",
        "# for(j in filelist) {altname(j)}"
      ],
      "execution_count": null,
      "outputs": []
    },
    {
      "cell_type": "markdown",
      "metadata": {
        "id": "QryFnJ0EHCDe"
      },
      "source": [
        "### upload and read"
      ]
    },
    {
      "cell_type": "code",
      "metadata": {
        "id": "b7slPq97GtiG"
      },
      "source": [
        "data=pd.read_csv('anova.txt',sep='\\t',header=None,usecols=[0,1,2],names=['class','group','pval'])\n",
        "data1=pd.read_csv('burts3.txt',sep='\\t',header=None,usecols=[0,1,2,3,5],names=['class','group','1v2','1v3','2v3'])\n",
        "data2=pd.read_csv('burts4.txt',sep='\\t',header=None,usecols=[0,1,2,3,4,6,7,10],names=['class','group','1v2','1v3','1v4','2v3','2v4','3v4'])\n",
        "data3=pd.read_csv('burts5.txt',sep='\\t',header=None,usecols=[0,1,2,3,4,5,7,8,9,12,13,17],names=['class','group','1v2','1v3','1v4','1v5','2v3','2v4','2v5','3v4','3v5','4v5'])"
      ],
      "execution_count": null,
      "outputs": []
    },
    {
      "cell_type": "code",
      "metadata": {
        "id": "xoR_Cp39Gywk"
      },
      "source": [
        "data['pval']=data['pval'].replace([np.inf, -np.inf], np.nan, inplace=False)\n",
        "# data=data[data.pval!=0].dropna()\n",
        "data['pval']=data['pval'].replace(0,1e-300)\n",
        "data['log10_pval']=np.log10(data['pval'])"
      ],
      "execution_count": null,
      "outputs": []
    },
    {
      "cell_type": "markdown",
      "metadata": {
        "id": "XPZGYMDxHEGd"
      },
      "source": [
        "### anova plots"
      ]
    },
    {
      "cell_type": "code",
      "metadata": {
        "id": "M4bP-PIEGyzY"
      },
      "source": [
        "# sns.set(rc={'figure.figsize':(11.7,8.27)})\n",
        "aa=sns.catplot(kind='violin',data=data,x='pval',y='class',row='class1',col='class2')#, multiple=\"stack\")#,legend_out=True)\n",
        "aa.axvline(0.05)\n",
        "aa.savefig(\"../Downloads/sigtestR_dcm/big_anova.png\",dpi=600)"
      ],
      "execution_count": null,
      "outputs": []
    },
    {
      "cell_type": "code",
      "metadata": {
        "id": "lrqAqD8TGy2J"
      },
      "source": [
        "plt.figure(figsize=(18, 4))\n",
        "sns.set_style('ticks')\n",
        "aa=sns.catplot(kind='violin',data=data,x='log10_pval',y='class',row='class1',col='class2')#, multiple=\"stack\")#,legend_out=True)\n",
        "aa.axvline(0.05)\n",
        "aa.savefig(\"../Downloads/sigtestR_dcm/big_log_anova.png\",dpi=600)"
      ],
      "execution_count": null,
      "outputs": []
    },
    {
      "cell_type": "markdown",
      "metadata": {
        "id": "gQf84H03HIMC"
      },
      "source": [
        "### duncan plots"
      ]
    },
    {
      "cell_type": "code",
      "metadata": {
        "id": "CHdp44pRGy7B"
      },
      "source": [
        "data1['class1']=data1['group'].str.split('_',expand=True)[0]\n",
        "data1['class2']=data1['group'].str.split('_',expand=True)[1]\n",
        "data1=pd.melt(data1.dropna(),id_vars=['class','class1','class2','group'])\n",
        "plt.figure(figsize=(18, 4))\n",
        "sns.set_style('ticks')\n",
        "aa=sns.catplot(kind='violin',data=data1,x='value',y='class',cut=0,row='variable',col='group')#, multiple=\"stack\")#,legend_out=True)\n",
        "aa.savefig(\"../Downloads/sigtestR_dcm/big_duncan3.png\",dpi=1600)"
      ],
      "execution_count": null,
      "outputs": []
    },
    {
      "cell_type": "code",
      "metadata": {
        "id": "mFgwVVqwHL6h"
      },
      "source": [
        "data2['class1']=data2['group'].str.split('_',expand=True)[0]\n",
        "data2['class2']=data2['group'].str.split('_',expand=True)[1]\n",
        "data2=pd.melt(data2.dropna(),id_vars=['class','class1','class2','group'])\n",
        "plt.figure(figsize=(18, 4))\n",
        "sns.set_style('ticks')\n",
        "aa=sns.catplot(kind='violin',data=data2,x='value',y='class',cut=0,row='variable',col='group')#, multiple=\"stack\")#,legend_out=True)\n",
        "aa.savefig(\"../Downloads/sigtestR_dcm/big_duncan4.png\",dpi=800)"
      ],
      "execution_count": null,
      "outputs": []
    },
    {
      "cell_type": "code",
      "metadata": {
        "id": "gbGUUyILHNhu"
      },
      "source": [
        "data3['class1']=data3['group'].str.split('_',expand=True)[0]\n",
        "data3['class2']=data3['group'].str.split('_',expand=True)[1]\n",
        "data3=pd.melt(data3.dropna(),id_vars=['class','class1','class2','group'])\n",
        "plt.figure(figsize=(18, 4))\n",
        "sns.set_style('ticks')\n",
        "aa=sns.catplot(kind='violin',data=data3,x='value',y='class',cut=0,row='variable',col='group')#, multiple=\"stack\")#,legend_out=True)\n",
        "aa.savefig(\"../Downloads/sigtestR_dcm/big_duncan5.png\",dpi=650)"
      ],
      "execution_count": null,
      "outputs": []
    }
  ]
}