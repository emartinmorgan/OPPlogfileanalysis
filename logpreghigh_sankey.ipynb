{
  "nbformat": 4,
  "nbformat_minor": 0,
  "metadata": {
    "colab": {
      "name": "logpreghigh_sankey.ipynb",
      "provenance": [],
      "collapsed_sections": [],
      "include_colab_link": true
    },
    "kernelspec": {
      "name": "python3",
      "display_name": "Python 3"
    },
    "language_info": {
      "name": "python"
    }
  },
  "cells": [
    {
      "cell_type": "markdown",
      "metadata": {
        "id": "view-in-github",
        "colab_type": "text"
      },
      "source": [
        "<a href=\"https://colab.research.google.com/github/emartinmorgan/OPPlogfileanalysis/blob/main/logpreghigh_sankey.ipynb\" target=\"_parent\"><img src=\"https://colab.research.google.com/assets/colab-badge.svg\" alt=\"Open In Colab\"/></a>"
      ]
    },
    {
      "cell_type": "markdown",
      "metadata": {
        "id": "RjCY1x_Md1gH"
      },
      "source": [
        "[Sankey Tutorial](https://towardsdatascience.com/visualizing-in-app-user-journey-using-sankey-diagrams-in-python-8373a7bb2d22)"
      ]
    },
    {
      "cell_type": "code",
      "metadata": {
        "id": "ha-jj-1aDV65",
        "colab": {
          "base_uri": "https://localhost:8080/"
        },
        "outputId": "a431917b-f4ab-47dd-fbc3-4b48f267d890"
      },
      "source": [
        "# Load data\n",
        "from google.colab import drive\n",
        "drive.mount('/content/drive')"
      ],
      "execution_count": null,
      "outputs": [
        {
          "output_type": "stream",
          "text": [
            "Drive already mounted at /content/drive; to attempt to forcibly remount, call drive.mount(\"/content/drive\", force_remount=True).\n"
          ],
          "name": "stdout"
        }
      ]
    },
    {
      "cell_type": "code",
      "metadata": {
        "colab": {
          "base_uri": "https://localhost:8080/"
        },
        "id": "bX9ssfs8L0wx",
        "outputId": "c01dfa52-3035-4e97-d0c2-e32baea617dc"
      },
      "source": [
        "# !pip install chart_studio\n",
        "import pandas as pd\n",
        "import numpy as np\n",
        "# import chart_studio.plotly as cspy\n",
        "import plotly.graph_objects as go\n",
        "import matplotlib.pyplot as plt\n",
        "\n",
        "# import chart_studio.plotly as py\n",
        "import plotly.graph_objects as go\n",
        "\n",
        "import plotly.express as px\n",
        "# import chart_studio.plotly as py\n",
        "import plotly\n",
        "\n",
        "import seaborn as se\n",
        "from google.colab import files\n",
        "print(\"hello world\")"
      ],
      "execution_count": null,
      "outputs": [
        {
          "output_type": "stream",
          "text": [
            "hello world\n"
          ],
          "name": "stdout"
        }
      ]
    },
    {
      "cell_type": "code",
      "metadata": {
        "colab": {
          "base_uri": "https://localhost:8080/",
          "height": 424
        },
        "id": "luqqpA4fMni-",
        "outputId": "1d01d7b6-c63f-4f5b-d9e8-9e6ab443f34f"
      },
      "source": [
        "high = pd.read_csv(\"/content/drive/MyDrive/OSU - BMI/Fareed Lab/Thesis/Data_Final/Sankey/sank_high_fin.csv\")\n",
        "high"
      ],
      "execution_count": null,
      "outputs": [
        {
          "output_type": "execute_result",
          "data": {
            "text/html": [
              "<div>\n",
              "<style scoped>\n",
              "    .dataframe tbody tr th:only-of-type {\n",
              "        vertical-align: middle;\n",
              "    }\n",
              "\n",
              "    .dataframe tbody tr th {\n",
              "        vertical-align: top;\n",
              "    }\n",
              "\n",
              "    .dataframe thead th {\n",
              "        text-align: right;\n",
              "    }\n",
              "</style>\n",
              "<table border=\"1\" class=\"dataframe\">\n",
              "  <thead>\n",
              "    <tr style=\"text-align: right;\">\n",
              "      <th></th>\n",
              "      <th>pat_epi</th>\n",
              "      <th>clus_high_id</th>\n",
              "      <th>clus_high</th>\n",
              "      <th>tri</th>\n",
              "    </tr>\n",
              "  </thead>\n",
              "  <tbody>\n",
              "    <tr>\n",
              "      <th>0</th>\n",
              "      <td>32.1</td>\n",
              "      <td>1.0</td>\n",
              "      <td>Average Users</td>\n",
              "      <td>1</td>\n",
              "    </tr>\n",
              "    <tr>\n",
              "      <th>1</th>\n",
              "      <td>37.1</td>\n",
              "      <td>2.0</td>\n",
              "      <td>Exclusive Resulters</td>\n",
              "      <td>1</td>\n",
              "    </tr>\n",
              "    <tr>\n",
              "      <th>2</th>\n",
              "      <td>38.1</td>\n",
              "      <td>3.0</td>\n",
              "      <td>Intense Digital Engagers</td>\n",
              "      <td>1</td>\n",
              "    </tr>\n",
              "    <tr>\n",
              "      <th>3</th>\n",
              "      <td>52.1</td>\n",
              "      <td>4.0</td>\n",
              "      <td>Average Users</td>\n",
              "      <td>1</td>\n",
              "    </tr>\n",
              "    <tr>\n",
              "      <th>4</th>\n",
              "      <td>55.1</td>\n",
              "      <td>5.0</td>\n",
              "      <td>Average Users</td>\n",
              "      <td>1</td>\n",
              "    </tr>\n",
              "    <tr>\n",
              "      <th>...</th>\n",
              "      <td>...</td>\n",
              "      <td>...</td>\n",
              "      <td>...</td>\n",
              "      <td>...</td>\n",
              "    </tr>\n",
              "    <tr>\n",
              "      <th>5719</th>\n",
              "      <td>17355.1</td>\n",
              "      <td>1427.0</td>\n",
              "      <td>Resulters</td>\n",
              "      <td>4</td>\n",
              "    </tr>\n",
              "    <tr>\n",
              "      <th>5720</th>\n",
              "      <td>17384.1</td>\n",
              "      <td>1428.0</td>\n",
              "      <td>Resulters</td>\n",
              "      <td>4</td>\n",
              "    </tr>\n",
              "    <tr>\n",
              "      <th>5721</th>\n",
              "      <td>17391.1</td>\n",
              "      <td>1429.0</td>\n",
              "      <td>Intense Digital Engagers</td>\n",
              "      <td>4</td>\n",
              "    </tr>\n",
              "    <tr>\n",
              "      <th>5722</th>\n",
              "      <td>17397.1</td>\n",
              "      <td>1430.0</td>\n",
              "      <td>Intense Digital Engagers</td>\n",
              "      <td>4</td>\n",
              "    </tr>\n",
              "    <tr>\n",
              "      <th>5723</th>\n",
              "      <td>17398.1</td>\n",
              "      <td>1431.0</td>\n",
              "      <td>Schedulers</td>\n",
              "      <td>4</td>\n",
              "    </tr>\n",
              "  </tbody>\n",
              "</table>\n",
              "<p>5724 rows × 4 columns</p>\n",
              "</div>"
            ],
            "text/plain": [
              "      pat_epi  clus_high_id                 clus_high  tri\n",
              "0        32.1           1.0             Average Users    1\n",
              "1        37.1           2.0       Exclusive Resulters    1\n",
              "2        38.1           3.0  Intense Digital Engagers    1\n",
              "3        52.1           4.0             Average Users    1\n",
              "4        55.1           5.0             Average Users    1\n",
              "...       ...           ...                       ...  ...\n",
              "5719  17355.1        1427.0                 Resulters    4\n",
              "5720  17384.1        1428.0                 Resulters    4\n",
              "5721  17391.1        1429.0  Intense Digital Engagers    4\n",
              "5722  17397.1        1430.0  Intense Digital Engagers    4\n",
              "5723  17398.1        1431.0                Schedulers    4\n",
              "\n",
              "[5724 rows x 4 columns]"
            ]
          },
          "metadata": {
            "tags": []
          },
          "execution_count": 141
        }
      ]
    },
    {
      "cell_type": "code",
      "metadata": {
        "colab": {
          "base_uri": "https://localhost:8080/",
          "height": 366
        },
        "id": "dq9-rjrFs--V",
        "outputId": "3f396d6b-38d0-4474-f3e1-3bc584d0fde8"
      },
      "source": [
        "plt.hist(high.clus_high,bins=10)\n",
        "plt.xticks(rotation = 45)"
      ],
      "execution_count": null,
      "outputs": [
        {
          "output_type": "execute_result",
          "data": {
            "text/plain": [
              "([0, 1, 2, 3, 4, 5, 6], <a list of 7 Text major ticklabel objects>)"
            ]
          },
          "metadata": {
            "tags": []
          },
          "execution_count": 142
        },
        {
          "output_type": "display_data",
          "data": {
            "image/png": "[encoded data removed]",
            "text/plain": [
              "<Figure size 432x288 with 1 Axes>"
            ]
          },
          "metadata": {
            "tags": [],
            "needs_background": "light"
          }
        }
      ]
    },
    {
      "cell_type": "code",
      "metadata": {
        "colab": {
          "base_uri": "https://localhost:8080/",
          "height": 206
        },
        "id": "dub0G2Hw9cSI",
        "outputId": "48c57bd9-2ffc-4a38-c641-fd59bb60745e"
      },
      "source": [
        "# Based on the tri, we can compute the rank of each cluster at the pat_epi level:\n",
        "\n",
        "# a) Sort ascendingly per pat_epi and tri\n",
        "\n",
        "high.sort_values(['pat_epi', 'tri'],\n",
        "                 ascending=[True, True], inplace=True)\n",
        "high.head()"
      ],
      "execution_count": null,
      "outputs": [
        {
          "output_type": "execute_result",
          "data": {
            "text/html": [
              "<div>\n",
              "<style scoped>\n",
              "    .dataframe tbody tr th:only-of-type {\n",
              "        vertical-align: middle;\n",
              "    }\n",
              "\n",
              "    .dataframe tbody tr th {\n",
              "        vertical-align: top;\n",
              "    }\n",
              "\n",
              "    .dataframe thead th {\n",
              "        text-align: right;\n",
              "    }\n",
              "</style>\n",
              "<table border=\"1\" class=\"dataframe\">\n",
              "  <thead>\n",
              "    <tr style=\"text-align: right;\">\n",
              "      <th></th>\n",
              "      <th>pat_epi</th>\n",
              "      <th>clus_high_id</th>\n",
              "      <th>clus_high</th>\n",
              "      <th>tri</th>\n",
              "    </tr>\n",
              "  </thead>\n",
              "  <tbody>\n",
              "    <tr>\n",
              "      <th>0</th>\n",
              "      <td>32.1</td>\n",
              "      <td>1.0</td>\n",
              "      <td>Average Users</td>\n",
              "      <td>1</td>\n",
              "    </tr>\n",
              "    <tr>\n",
              "      <th>1431</th>\n",
              "      <td>32.1</td>\n",
              "      <td>1.0</td>\n",
              "      <td>Schedulers</td>\n",
              "      <td>2</td>\n",
              "    </tr>\n",
              "    <tr>\n",
              "      <th>2862</th>\n",
              "      <td>32.1</td>\n",
              "      <td>1.0</td>\n",
              "      <td>Average Users</td>\n",
              "      <td>3</td>\n",
              "    </tr>\n",
              "    <tr>\n",
              "      <th>4293</th>\n",
              "      <td>32.1</td>\n",
              "      <td>1.0</td>\n",
              "      <td>Prepared Engagers</td>\n",
              "      <td>4</td>\n",
              "    </tr>\n",
              "    <tr>\n",
              "      <th>1</th>\n",
              "      <td>37.1</td>\n",
              "      <td>2.0</td>\n",
              "      <td>Exclusive Resulters</td>\n",
              "      <td>1</td>\n",
              "    </tr>\n",
              "  </tbody>\n",
              "</table>\n",
              "</div>"
            ],
            "text/plain": [
              "      pat_epi  clus_high_id            clus_high  tri\n",
              "0        32.1           1.0        Average Users    1\n",
              "1431     32.1           1.0           Schedulers    2\n",
              "2862     32.1           1.0        Average Users    3\n",
              "4293     32.1           1.0    Prepared Engagers    4\n",
              "1        37.1           2.0  Exclusive Resulters    1"
            ]
          },
          "metadata": {
            "tags": []
          },
          "execution_count": 143
        }
      ]
    },
    {
      "cell_type": "code",
      "metadata": {
        "id": "NVSakPpHzoWs"
      },
      "source": [
        "high=high[high.tri!=4]"
      ],
      "execution_count": null,
      "outputs": []
    },
    {
      "cell_type": "code",
      "metadata": {
        "colab": {
          "base_uri": "https://localhost:8080/",
          "height": 365
        },
        "id": "l66iTmwDOzEi",
        "outputId": "3fc3eccd-b7bc-4e38-9d32-4b51fa92dda8"
      },
      "source": [
        "# b) Define a ranking function based on tri, using the method = 'first' param to ensure no clusters have the same rank\n",
        "\n",
        "# def rank(x): return x['tri'].rank(method='first').astype(int)\n",
        "\n",
        "# c) Group by user_id \n",
        "grouped = high.groupby('pat_epi')\n",
        "\n",
        "# d) Apply the ranking function to the all DF into a new \"rank_clus\" column\n",
        "# high[\"rank_clus\"] = grouped.apply(rank).reset_index(0, drop=True)\n",
        "\n",
        "# e) The shift function allows to access the next row's data. Here, we'll want the cluster name\n",
        "def get_next_clus(x): return x['clus_high'].shift(-1)\n",
        "\n",
        "# f) Apply the function into a new \"next_clus\" column\n",
        "high[\"next_clus\"] = grouped.apply(\n",
        "     lambda x: get_next_clus(x)).reset_index(0, drop=True)\n",
        "\n",
        "# g) Regroup by user_id \n",
        "grouped = high.groupby('pat_epi')\n",
        "high.head()"
      ],
      "execution_count": null,
      "outputs": [
        {
          "output_type": "stream",
          "text": [
            "/usr/local/lib/python3.7/dist-packages/ipykernel_launcher.py:16: SettingWithCopyWarning:\n",
            "\n",
            "\n",
            "A value is trying to be set on a copy of a slice from a DataFrame.\n",
            "Try using .loc[row_indexer,col_indexer] = value instead\n",
            "\n",
            "See the caveats in the documentation: https://pandas.pydata.org/pandas-docs/stable/user_guide/indexing.html#returning-a-view-versus-a-copy\n",
            "\n"
          ],
          "name": "stderr"
        },
        {
          "output_type": "execute_result",
          "data": {
            "text/html": [
              "<div>\n",
              "<style scoped>\n",
              "    .dataframe tbody tr th:only-of-type {\n",
              "        vertical-align: middle;\n",
              "    }\n",
              "\n",
              "    .dataframe tbody tr th {\n",
              "        vertical-align: top;\n",
              "    }\n",
              "\n",
              "    .dataframe thead th {\n",
              "        text-align: right;\n",
              "    }\n",
              "</style>\n",
              "<table border=\"1\" class=\"dataframe\">\n",
              "  <thead>\n",
              "    <tr style=\"text-align: right;\">\n",
              "      <th></th>\n",
              "      <th>pat_epi</th>\n",
              "      <th>clus_high_id</th>\n",
              "      <th>clus_high</th>\n",
              "      <th>tri</th>\n",
              "      <th>next_clus</th>\n",
              "    </tr>\n",
              "  </thead>\n",
              "  <tbody>\n",
              "    <tr>\n",
              "      <th>0</th>\n",
              "      <td>32.1</td>\n",
              "      <td>1.0</td>\n",
              "      <td>Average Users</td>\n",
              "      <td>1</td>\n",
              "      <td>Schedulers</td>\n",
              "    </tr>\n",
              "    <tr>\n",
              "      <th>1431</th>\n",
              "      <td>32.1</td>\n",
              "      <td>1.0</td>\n",
              "      <td>Schedulers</td>\n",
              "      <td>2</td>\n",
              "      <td>Average Users</td>\n",
              "    </tr>\n",
              "    <tr>\n",
              "      <th>2862</th>\n",
              "      <td>32.1</td>\n",
              "      <td>1.0</td>\n",
              "      <td>Average Users</td>\n",
              "      <td>3</td>\n",
              "      <td>NaN</td>\n",
              "    </tr>\n",
              "    <tr>\n",
              "      <th>1</th>\n",
              "      <td>37.1</td>\n",
              "      <td>2.0</td>\n",
              "      <td>Exclusive Resulters</td>\n",
              "      <td>1</td>\n",
              "      <td>Resulters</td>\n",
              "    </tr>\n",
              "    <tr>\n",
              "      <th>1432</th>\n",
              "      <td>37.1</td>\n",
              "      <td>2.0</td>\n",
              "      <td>Resulters</td>\n",
              "      <td>2</td>\n",
              "      <td>Resulters</td>\n",
              "    </tr>\n",
              "  </tbody>\n",
              "</table>\n",
              "</div>"
            ],
            "text/plain": [
              "      pat_epi  clus_high_id            clus_high  tri      next_clus\n",
              "0        32.1           1.0        Average Users    1     Schedulers\n",
              "1431     32.1           1.0           Schedulers    2  Average Users\n",
              "2862     32.1           1.0        Average Users    3            NaN\n",
              "1        37.1           2.0  Exclusive Resulters    1      Resulters\n",
              "1432     37.1           2.0            Resulters    2      Resulters"
            ]
          },
          "metadata": {
            "tags": []
          },
          "execution_count": 145
        }
      ]
    },
    {
      "cell_type": "markdown",
      "metadata": {
        "id": "M2_WkQIvGp6s"
      },
      "source": [
        "We attribute a unique color to each event, and name this dict nodes_dict."
      ]
    },
    {
      "cell_type": "code",
      "metadata": {
        "id": "droDtNTo7RJc"
      },
      "source": [
        "# Working on the nodes_dict\n",
        "\n",
        "high_clus = list(high.clus_high.unique())\n",
        "\n",
        "# Create a set of colors that you'd like to use in your plot.\n",
        "palette = ['50BE97', 'E4655C', 'FBEEAC', '3E5066',\n",
        "           'BFD6DE', 'FCC865', '353A3E', 'E6E6E6']\n",
        "#  Here, I passed the colors as HEX, but we need to pass it as RGB. This loop will convert from HEX to RGB:\n",
        "for i, col in enumerate(palette):\n",
        "    palette[i] = tuple(int(col[i:i+2], 16) for i in (0, 2, 4))\n",
        "\n",
        "# Append a Seaborn complementary palette to your palette in case you did not provide enough colors to style every event\n",
        "# complementary_palette = se.color_palette(\"deep\", len(all_events) - len(palette))\n",
        "# if len(complementary_palette) > 0:\n",
        "#     palette.extend(complementary_palette)\n",
        "\n",
        "output = dict()\n",
        "output.update({'nodes_dict': dict()})\n",
        "\n",
        "i = 0\n",
        "for tri in high.tri.unique(): # For each tri of clus...\n",
        "    # Create a new key equal to the tri...\n",
        "    output['nodes_dict'].update(\n",
        "        {tri: dict()}\n",
        "    )\n",
        "    \n",
        "    # Look at all the events that were done at this step of the funnel...\n",
        "    high_clus_at_this_tri = high[high.tri ==\n",
        "                                   tri].clus_high.unique()\n",
        "    \n",
        "    # Read the colors for these events and store them in a list...\n",
        "    tri_palette = []\n",
        "    for clus in high_clus_at_this_tri:\n",
        "        tri_palette.append(palette[list(high_clus).index(clus)])\n",
        "    \n",
        "    # Keep trace of the events' names, colors and indices.\n",
        "    output['nodes_dict'][tri].update(\n",
        "        {\n",
        "            'sources': list(high_clus_at_this_tri),\n",
        "            'color': tri_palette,\n",
        "            'sources_index': list(range(i, i+len(high_clus_at_this_tri)))\n",
        "        }\n",
        "    )\n",
        "    # Finally, increment by the length of this rank's available clus to make sure next indices will not be chosen from existing ones\n",
        "    i += len(output['nodes_dict'][tri]['sources_index'])"
      ],
      "execution_count": null,
      "outputs": []
    },
    {
      "cell_type": "code",
      "metadata": {
        "colab": {
          "base_uri": "https://localhost:8080/"
        },
        "id": "sHu6l39Itgqb",
        "outputId": "2401f5d1-9748-4af8-9447-e7dc07b815b5"
      },
      "source": [
        "high_clus_at_this_tri"
      ],
      "execution_count": null,
      "outputs": [
        {
          "output_type": "execute_result",
          "data": {
            "text/plain": [
              "array(['Average Users', 'Resulters', 'Schedulers',\n",
              "       'Intense Digital Engagers', 'Non-Users'], dtype=object)"
            ]
          },
          "metadata": {
            "tags": []
          },
          "execution_count": 147
        }
      ]
    },
    {
      "cell_type": "code",
      "metadata": {
        "colab": {
          "base_uri": "https://localhost:8080/",
          "height": 32
        },
        "id": "VR0sPo7mZIGJ",
        "outputId": "fa7b909c-3b7e-448d-9e5a-c683d729c38a"
      },
      "source": [
        "# Working on the links_dict\n",
        "\n",
        "output.update({'links_dict': dict()})\n",
        "\n",
        "# Group the DataFrame by pat_epi and tri\n",
        "grouped = high.groupby(['pat_epi', 'tri'])\n",
        "\n",
        "# Define a function to read the souces, targets, values clus_high to next_clus:\n",
        "def update_source_target(user):\n",
        "    try:\n",
        "        # user.name[0] is the user's pat_epi; user.name[1] is the tri\n",
        "        # 1st we retrieve the source and target's indices from nodes_dict\n",
        "        source_index = output['nodes_dict'][user.name[1]]['sources_index'][output['nodes_dict']\n",
        "                                                                           [user.name[1]]['sources'].index(user['clus_high'].values[0])]\n",
        "        target_index = output['nodes_dict'][user.name[1] + 1]['sources_index'][output['nodes_dict']\n",
        "                                                                               [user.name[1] + 1]['sources'].index(user['next_clus'].values[0])]\n",
        "\n",
        "         # If this source is already in links_dict...\n",
        "        if source_index in output['links_dict']:\n",
        "            # ...and if this target is already associated to this source...\n",
        "            if target_index in output['links_dict'][source_index]:\n",
        "                # ...then we increment the count of users with this source/target pair by 1\n",
        "                output['links_dict'][source_index][target_index]['unique_users'] += 1\n",
        "            # ...but if the target is not already associated to this source...\n",
        "            else:\n",
        "                # ...we create a new key for this target, for this source, and initiate it with 1 user and the time from source to target\n",
        "                output['links_dict'][source_index].update({target_index:\n",
        "                                                           dict(\n",
        "                                                               {'unique_users': 1}\n",
        "                                                            )\n",
        "                                                           })\n",
        "        # ...but if this source isn't already available in the links_dict, we create its key and the key of this source's target, and we initiate it with 1 user and the time from source to target\n",
        "        else:\n",
        "            output['links_dict'].update({source_index: dict({target_index: dict(\n",
        "                {'unique_users': 1})})})\n",
        "    except Exception as e:\n",
        "        pass\n",
        "\n",
        "# Apply the function to your grouped Pandas object:\n",
        "grouped.apply(lambda user: update_source_target(user)) \n",
        "\n"
      ],
      "execution_count": null,
      "outputs": [
        {
          "output_type": "execute_result",
          "data": {
            "text/html": [
              "<div>\n",
              "<style scoped>\n",
              "    .dataframe tbody tr th:only-of-type {\n",
              "        vertical-align: middle;\n",
              "    }\n",
              "\n",
              "    .dataframe tbody tr th {\n",
              "        vertical-align: top;\n",
              "    }\n",
              "\n",
              "    .dataframe thead th {\n",
              "        text-align: right;\n",
              "    }\n",
              "</style>\n",
              "<table border=\"1\" class=\"dataframe\">\n",
              "  <thead>\n",
              "    <tr style=\"text-align: right;\">\n",
              "      <th></th>\n",
              "    </tr>\n",
              "  </thead>\n",
              "  <tbody>\n",
              "  </tbody>\n",
              "</table>\n",
              "</div>"
            ],
            "text/plain": [
              "Empty DataFrame\n",
              "Columns: []\n",
              "Index: []"
            ]
          },
          "metadata": {
            "tags": []
          },
          "execution_count": 148
        }
      ]
    },
    {
      "cell_type": "code",
      "metadata": {
        "colab": {
          "base_uri": "https://localhost:8080/",
          "height": 206
        },
        "id": "eSNPeIbUus7Y",
        "outputId": "50bc7ed6-86da-46cb-efdb-90a65ee40fb9"
      },
      "source": [
        "high.head()"
      ],
      "execution_count": null,
      "outputs": [
        {
          "output_type": "execute_result",
          "data": {
            "text/html": [
              "<div>\n",
              "<style scoped>\n",
              "    .dataframe tbody tr th:only-of-type {\n",
              "        vertical-align: middle;\n",
              "    }\n",
              "\n",
              "    .dataframe tbody tr th {\n",
              "        vertical-align: top;\n",
              "    }\n",
              "\n",
              "    .dataframe thead th {\n",
              "        text-align: right;\n",
              "    }\n",
              "</style>\n",
              "<table border=\"1\" class=\"dataframe\">\n",
              "  <thead>\n",
              "    <tr style=\"text-align: right;\">\n",
              "      <th></th>\n",
              "      <th>pat_epi</th>\n",
              "      <th>clus_high_id</th>\n",
              "      <th>clus_high</th>\n",
              "      <th>tri</th>\n",
              "      <th>next_clus</th>\n",
              "    </tr>\n",
              "  </thead>\n",
              "  <tbody>\n",
              "    <tr>\n",
              "      <th>0</th>\n",
              "      <td>32.1</td>\n",
              "      <td>1.0</td>\n",
              "      <td>Average Users</td>\n",
              "      <td>1</td>\n",
              "      <td>Schedulers</td>\n",
              "    </tr>\n",
              "    <tr>\n",
              "      <th>1431</th>\n",
              "      <td>32.1</td>\n",
              "      <td>1.0</td>\n",
              "      <td>Schedulers</td>\n",
              "      <td>2</td>\n",
              "      <td>Average Users</td>\n",
              "    </tr>\n",
              "    <tr>\n",
              "      <th>2862</th>\n",
              "      <td>32.1</td>\n",
              "      <td>1.0</td>\n",
              "      <td>Average Users</td>\n",
              "      <td>3</td>\n",
              "      <td>NaN</td>\n",
              "    </tr>\n",
              "    <tr>\n",
              "      <th>1</th>\n",
              "      <td>37.1</td>\n",
              "      <td>2.0</td>\n",
              "      <td>Exclusive Resulters</td>\n",
              "      <td>1</td>\n",
              "      <td>Resulters</td>\n",
              "    </tr>\n",
              "    <tr>\n",
              "      <th>1432</th>\n",
              "      <td>37.1</td>\n",
              "      <td>2.0</td>\n",
              "      <td>Resulters</td>\n",
              "      <td>2</td>\n",
              "      <td>Resulters</td>\n",
              "    </tr>\n",
              "  </tbody>\n",
              "</table>\n",
              "</div>"
            ],
            "text/plain": [
              "      pat_epi  clus_high_id            clus_high  tri      next_clus\n",
              "0        32.1           1.0        Average Users    1     Schedulers\n",
              "1431     32.1           1.0           Schedulers    2  Average Users\n",
              "2862     32.1           1.0        Average Users    3            NaN\n",
              "1        37.1           2.0  Exclusive Resulters    1      Resulters\n",
              "1432     37.1           2.0            Resulters    2      Resulters"
            ]
          },
          "metadata": {
            "tags": []
          },
          "execution_count": 149
        }
      ]
    },
    {
      "cell_type": "code",
      "metadata": {
        "colab": {
          "base_uri": "https://localhost:8080/",
          "height": 583
        },
        "id": "gd38hYbVyZ-a",
        "outputId": "f80c6dd2-21eb-4442-d0aa-03192e279cbf"
      },
      "source": [
        "high.groupby(['clus_high','tri']).count()"
      ],
      "execution_count": null,
      "outputs": [
        {
          "output_type": "execute_result",
          "data": {
            "text/html": [
              "<div>\n",
              "<style scoped>\n",
              "    .dataframe tbody tr th:only-of-type {\n",
              "        vertical-align: middle;\n",
              "    }\n",
              "\n",
              "    .dataframe tbody tr th {\n",
              "        vertical-align: top;\n",
              "    }\n",
              "\n",
              "    .dataframe thead th {\n",
              "        text-align: right;\n",
              "    }\n",
              "</style>\n",
              "<table border=\"1\" class=\"dataframe\">\n",
              "  <thead>\n",
              "    <tr style=\"text-align: right;\">\n",
              "      <th></th>\n",
              "      <th></th>\n",
              "      <th>pat_epi</th>\n",
              "      <th>clus_high_id</th>\n",
              "      <th>next_clus</th>\n",
              "    </tr>\n",
              "    <tr>\n",
              "      <th>clus_high</th>\n",
              "      <th>tri</th>\n",
              "      <th></th>\n",
              "      <th></th>\n",
              "      <th></th>\n",
              "    </tr>\n",
              "  </thead>\n",
              "  <tbody>\n",
              "    <tr>\n",
              "      <th rowspan=\"3\" valign=\"top\">Average Users</th>\n",
              "      <th>1</th>\n",
              "      <td>610</td>\n",
              "      <td>610</td>\n",
              "      <td>610</td>\n",
              "    </tr>\n",
              "    <tr>\n",
              "      <th>2</th>\n",
              "      <td>688</td>\n",
              "      <td>688</td>\n",
              "      <td>688</td>\n",
              "    </tr>\n",
              "    <tr>\n",
              "      <th>3</th>\n",
              "      <td>558</td>\n",
              "      <td>558</td>\n",
              "      <td>0</td>\n",
              "    </tr>\n",
              "    <tr>\n",
              "      <th>Exclusive Resulters</th>\n",
              "      <th>1</th>\n",
              "      <td>107</td>\n",
              "      <td>107</td>\n",
              "      <td>107</td>\n",
              "    </tr>\n",
              "    <tr>\n",
              "      <th rowspan=\"3\" valign=\"top\">Intense Digital Engagers</th>\n",
              "      <th>1</th>\n",
              "      <td>254</td>\n",
              "      <td>254</td>\n",
              "      <td>254</td>\n",
              "    </tr>\n",
              "    <tr>\n",
              "      <th>2</th>\n",
              "      <td>297</td>\n",
              "      <td>297</td>\n",
              "      <td>297</td>\n",
              "    </tr>\n",
              "    <tr>\n",
              "      <th>3</th>\n",
              "      <td>273</td>\n",
              "      <td>273</td>\n",
              "      <td>0</td>\n",
              "    </tr>\n",
              "    <tr>\n",
              "      <th rowspan=\"3\" valign=\"top\">Non-Users</th>\n",
              "      <th>1</th>\n",
              "      <td>10</td>\n",
              "      <td>0</td>\n",
              "      <td>10</td>\n",
              "    </tr>\n",
              "    <tr>\n",
              "      <th>2</th>\n",
              "      <td>2</td>\n",
              "      <td>0</td>\n",
              "      <td>2</td>\n",
              "    </tr>\n",
              "    <tr>\n",
              "      <th>3</th>\n",
              "      <td>4</td>\n",
              "      <td>0</td>\n",
              "      <td>0</td>\n",
              "    </tr>\n",
              "    <tr>\n",
              "      <th rowspan=\"3\" valign=\"top\">Resulters</th>\n",
              "      <th>1</th>\n",
              "      <td>262</td>\n",
              "      <td>262</td>\n",
              "      <td>262</td>\n",
              "    </tr>\n",
              "    <tr>\n",
              "      <th>2</th>\n",
              "      <td>100</td>\n",
              "      <td>100</td>\n",
              "      <td>100</td>\n",
              "    </tr>\n",
              "    <tr>\n",
              "      <th>3</th>\n",
              "      <td>290</td>\n",
              "      <td>290</td>\n",
              "      <td>0</td>\n",
              "    </tr>\n",
              "    <tr>\n",
              "      <th rowspan=\"3\" valign=\"top\">Schedulers</th>\n",
              "      <th>1</th>\n",
              "      <td>188</td>\n",
              "      <td>188</td>\n",
              "      <td>188</td>\n",
              "    </tr>\n",
              "    <tr>\n",
              "      <th>2</th>\n",
              "      <td>344</td>\n",
              "      <td>344</td>\n",
              "      <td>344</td>\n",
              "    </tr>\n",
              "    <tr>\n",
              "      <th>3</th>\n",
              "      <td>306</td>\n",
              "      <td>306</td>\n",
              "      <td>0</td>\n",
              "    </tr>\n",
              "  </tbody>\n",
              "</table>\n",
              "</div>"
            ],
            "text/plain": [
              "                              pat_epi  clus_high_id  next_clus\n",
              "clus_high                tri                                  \n",
              "Average Users            1        610           610        610\n",
              "                         2        688           688        688\n",
              "                         3        558           558          0\n",
              "Exclusive Resulters      1        107           107        107\n",
              "Intense Digital Engagers 1        254           254        254\n",
              "                         2        297           297        297\n",
              "                         3        273           273          0\n",
              "Non-Users                1         10             0         10\n",
              "                         2          2             0          2\n",
              "                         3          4             0          0\n",
              "Resulters                1        262           262        262\n",
              "                         2        100           100        100\n",
              "                         3        290           290          0\n",
              "Schedulers               1        188           188        188\n",
              "                         2        344           344        344\n",
              "                         3        306           306          0"
            ]
          },
          "metadata": {
            "tags": []
          },
          "execution_count": 150
        }
      ]
    },
    {
      "cell_type": "code",
      "metadata": {
        "id": "nG1uoZ5Jebzs"
      },
      "source": [
        "targets = []\n",
        "sources = []\n",
        "values = []\n",
        "\n",
        "for source_key, source_value in output['links_dict'].items():\n",
        "    for target_key, target_value in output['links_dict'][source_key].items():\n",
        "        sources.append(source_key)\n",
        "        targets.append(target_key)\n",
        "        values.append(target_value['unique_users'])\n",
        "        \n",
        "labels = []\n",
        "colors = []\n",
        "\n",
        "for key, value in output['nodes_dict'].items():\n",
        "    labels = labels + list(output['nodes_dict'][key]['sources']) \n",
        "    colors = colors + list(output['nodes_dict'][key]['color'])\n",
        "for idx, color in enumerate(colors):\n",
        "    colors[idx] = \"rgb\" + str(color) + \"\"\n"
      ],
      "execution_count": null,
      "outputs": []
    },
    {
      "cell_type": "code",
      "metadata": {
        "colab": {
          "base_uri": "https://localhost:8080/",
          "height": 175
        },
        "id": "ikNStiYxttHQ",
        "outputId": "62551bff-bfad-49db-f982-bd4413fb26fa"
      },
      "source": [
        "cc=high.groupby(['clus_high','tri']).count()\n",
        "cc=cc.reset_index()\n",
        "cc.groupby(by='tri').sum()"
      ],
      "execution_count": null,
      "outputs": [
        {
          "output_type": "execute_result",
          "data": {
            "text/html": [
              "<div>\n",
              "<style scoped>\n",
              "    .dataframe tbody tr th:only-of-type {\n",
              "        vertical-align: middle;\n",
              "    }\n",
              "\n",
              "    .dataframe tbody tr th {\n",
              "        vertical-align: top;\n",
              "    }\n",
              "\n",
              "    .dataframe thead th {\n",
              "        text-align: right;\n",
              "    }\n",
              "</style>\n",
              "<table border=\"1\" class=\"dataframe\">\n",
              "  <thead>\n",
              "    <tr style=\"text-align: right;\">\n",
              "      <th></th>\n",
              "      <th>pat_epi</th>\n",
              "      <th>clus_high_id</th>\n",
              "      <th>next_clus</th>\n",
              "    </tr>\n",
              "    <tr>\n",
              "      <th>tri</th>\n",
              "      <th></th>\n",
              "      <th></th>\n",
              "      <th></th>\n",
              "    </tr>\n",
              "  </thead>\n",
              "  <tbody>\n",
              "    <tr>\n",
              "      <th>1</th>\n",
              "      <td>1431</td>\n",
              "      <td>1421</td>\n",
              "      <td>1431</td>\n",
              "    </tr>\n",
              "    <tr>\n",
              "      <th>2</th>\n",
              "      <td>1431</td>\n",
              "      <td>1429</td>\n",
              "      <td>1431</td>\n",
              "    </tr>\n",
              "    <tr>\n",
              "      <th>3</th>\n",
              "      <td>1431</td>\n",
              "      <td>1427</td>\n",
              "      <td>0</td>\n",
              "    </tr>\n",
              "  </tbody>\n",
              "</table>\n",
              "</div>"
            ],
            "text/plain": [
              "     pat_epi  clus_high_id  next_clus\n",
              "tri                                  \n",
              "1       1431          1421       1431\n",
              "2       1431          1429       1431\n",
              "3       1431          1427          0"
            ]
          },
          "metadata": {
            "tags": []
          },
          "execution_count": 152
        }
      ]
    },
    {
      "cell_type": "code",
      "metadata": {
        "colab": {
          "base_uri": "https://localhost:8080/"
        },
        "id": "etElBL78twlX",
        "outputId": "c7ba9791-e0ac-4333-afa6-bb590957ff0b"
      },
      "source": [
        "cc['tri'].sort_values()"
      ],
      "execution_count": null,
      "outputs": [
        {
          "output_type": "execute_result",
          "data": {
            "text/plain": [
              "0     1\n",
              "3     1\n",
              "4     1\n",
              "7     1\n",
              "10    1\n",
              "13    1\n",
              "1     2\n",
              "5     2\n",
              "8     2\n",
              "11    2\n",
              "14    2\n",
              "2     3\n",
              "6     3\n",
              "9     3\n",
              "12    3\n",
              "15    3\n",
              "Name: tri, dtype: int64"
            ]
          },
          "metadata": {
            "tags": []
          },
          "execution_count": 153
        }
      ]
    },
    {
      "cell_type": "code",
      "metadata": {
        "colab": {
          "base_uri": "https://localhost:8080/"
        },
        "id": "SQsSKxvNGEpE",
        "outputId": "0d8955ce-db91-429f-bf0a-73db0b628327"
      },
      "source": [
        "labels"
      ],
      "execution_count": null,
      "outputs": [
        {
          "output_type": "execute_result",
          "data": {
            "text/plain": [
              "['Average Users',\n",
              " 'Exclusive Resulters',\n",
              " 'Intense Digital Engagers',\n",
              " 'Resulters',\n",
              " 'Schedulers',\n",
              " 'Non-Users',\n",
              " 'Schedulers',\n",
              " 'Resulters',\n",
              " 'Average Users',\n",
              " 'Intense Digital Engagers',\n",
              " 'Non-Users',\n",
              " 'Average Users',\n",
              " 'Resulters',\n",
              " 'Schedulers',\n",
              " 'Intense Digital Engagers',\n",
              " 'Non-Users']"
            ]
          },
          "metadata": {
            "tags": []
          },
          "execution_count": 154
        }
      ]
    },
    {
      "cell_type": "code",
      "metadata": {
        "id": "bUWsnQU3yMRa"
      },
      "source": [
        "cc=high.groupby(['clus_high','tri']).count()\n",
        "cc=cc.reset_index()\n",
        "# cc\n",
        "cc=cc.sort_values(['tri'])\n",
        "x=cc[cc.tri==1]['pat_epi']/1431\n",
        "x=np.append(x,cc[cc.tri==2]['pat_epi']/1431)\n",
        "x=np.append(x,cc[cc.tri==3]['pat_epi']/1431)\n",
        "cc['perc']=(np.round(x*100)).astype(int)\n",
        "\n",
        "cc['aa']=' ('\n",
        "cc['bb']='%)'\n",
        "cc=cc.iloc[[0,1,2,4,5,3,10,9,6,7,8,11,14,15,12,13],:]#4,0,1,2,5,3,8,7,9,6,10,15,11,14,13,16,12,18,19,17,21,20],:]\n",
        "a=np.char.array(cc['clus_high'].values)\n",
        "b=np.char.array(cc['tri'].values)\n",
        "c=np.char.array(cc['pat_epi'].values)\n",
        "d=np.char.array(cc['perc'].values)\n",
        "e=np.char.array(cc['aa'].values)\n",
        "f=np.char.array(cc['bb'].values)\n",
        "labels=(a + b' : ' + c + e + d + f).astype(str)\n",
        "# cc['clus_all'].astype('str')+cc['tri'].astype('str')+cc['pat_epi'].astype('str')\n",
        "# np.array(cc[['clus_all','tri']]).to_list()"
      ],
      "execution_count": null,
      "outputs": []
    },
    {
      "cell_type": "code",
      "metadata": {
        "colab": {
          "base_uri": "https://localhost:8080/",
          "height": 551
        },
        "id": "XD8UUsVY6QpE",
        "outputId": "e230104f-ddef-413c-df6b-7d804ec3d831"
      },
      "source": [
        "cc.reset_index()"
      ],
      "execution_count": null,
      "outputs": [
        {
          "output_type": "execute_result",
          "data": {
            "text/html": [
              "<div>\n",
              "<style scoped>\n",
              "    .dataframe tbody tr th:only-of-type {\n",
              "        vertical-align: middle;\n",
              "    }\n",
              "\n",
              "    .dataframe tbody tr th {\n",
              "        vertical-align: top;\n",
              "    }\n",
              "\n",
              "    .dataframe thead th {\n",
              "        text-align: right;\n",
              "    }\n",
              "</style>\n",
              "<table border=\"1\" class=\"dataframe\">\n",
              "  <thead>\n",
              "    <tr style=\"text-align: right;\">\n",
              "      <th></th>\n",
              "      <th>index</th>\n",
              "      <th>clus_high</th>\n",
              "      <th>tri</th>\n",
              "      <th>pat_epi</th>\n",
              "      <th>clus_high_id</th>\n",
              "      <th>next_clus</th>\n",
              "      <th>perc</th>\n",
              "      <th>aa</th>\n",
              "      <th>bb</th>\n",
              "    </tr>\n",
              "  </thead>\n",
              "  <tbody>\n",
              "    <tr>\n",
              "      <th>0</th>\n",
              "      <td>0</td>\n",
              "      <td>Average Users</td>\n",
              "      <td>1</td>\n",
              "      <td>610</td>\n",
              "      <td>610</td>\n",
              "      <td>610</td>\n",
              "      <td>43</td>\n",
              "      <td>(</td>\n",
              "      <td>%)</td>\n",
              "    </tr>\n",
              "    <tr>\n",
              "      <th>1</th>\n",
              "      <td>3</td>\n",
              "      <td>Exclusive Resulters</td>\n",
              "      <td>1</td>\n",
              "      <td>107</td>\n",
              "      <td>107</td>\n",
              "      <td>107</td>\n",
              "      <td>7</td>\n",
              "      <td>(</td>\n",
              "      <td>%)</td>\n",
              "    </tr>\n",
              "    <tr>\n",
              "      <th>2</th>\n",
              "      <td>4</td>\n",
              "      <td>Intense Digital Engagers</td>\n",
              "      <td>1</td>\n",
              "      <td>254</td>\n",
              "      <td>254</td>\n",
              "      <td>254</td>\n",
              "      <td>18</td>\n",
              "      <td>(</td>\n",
              "      <td>%)</td>\n",
              "    </tr>\n",
              "    <tr>\n",
              "      <th>3</th>\n",
              "      <td>7</td>\n",
              "      <td>Non-Users</td>\n",
              "      <td>1</td>\n",
              "      <td>10</td>\n",
              "      <td>0</td>\n",
              "      <td>10</td>\n",
              "      <td>1</td>\n",
              "      <td>(</td>\n",
              "      <td>%)</td>\n",
              "    </tr>\n",
              "    <tr>\n",
              "      <th>4</th>\n",
              "      <td>10</td>\n",
              "      <td>Resulters</td>\n",
              "      <td>1</td>\n",
              "      <td>262</td>\n",
              "      <td>262</td>\n",
              "      <td>262</td>\n",
              "      <td>18</td>\n",
              "      <td>(</td>\n",
              "      <td>%)</td>\n",
              "    </tr>\n",
              "    <tr>\n",
              "      <th>5</th>\n",
              "      <td>13</td>\n",
              "      <td>Schedulers</td>\n",
              "      <td>1</td>\n",
              "      <td>188</td>\n",
              "      <td>188</td>\n",
              "      <td>188</td>\n",
              "      <td>13</td>\n",
              "      <td>(</td>\n",
              "      <td>%)</td>\n",
              "    </tr>\n",
              "    <tr>\n",
              "      <th>6</th>\n",
              "      <td>1</td>\n",
              "      <td>Average Users</td>\n",
              "      <td>2</td>\n",
              "      <td>688</td>\n",
              "      <td>688</td>\n",
              "      <td>688</td>\n",
              "      <td>48</td>\n",
              "      <td>(</td>\n",
              "      <td>%)</td>\n",
              "    </tr>\n",
              "    <tr>\n",
              "      <th>7</th>\n",
              "      <td>5</td>\n",
              "      <td>Intense Digital Engagers</td>\n",
              "      <td>2</td>\n",
              "      <td>297</td>\n",
              "      <td>297</td>\n",
              "      <td>297</td>\n",
              "      <td>21</td>\n",
              "      <td>(</td>\n",
              "      <td>%)</td>\n",
              "    </tr>\n",
              "    <tr>\n",
              "      <th>8</th>\n",
              "      <td>8</td>\n",
              "      <td>Non-Users</td>\n",
              "      <td>2</td>\n",
              "      <td>2</td>\n",
              "      <td>0</td>\n",
              "      <td>2</td>\n",
              "      <td>0</td>\n",
              "      <td>(</td>\n",
              "      <td>%)</td>\n",
              "    </tr>\n",
              "    <tr>\n",
              "      <th>9</th>\n",
              "      <td>11</td>\n",
              "      <td>Resulters</td>\n",
              "      <td>2</td>\n",
              "      <td>100</td>\n",
              "      <td>100</td>\n",
              "      <td>100</td>\n",
              "      <td>7</td>\n",
              "      <td>(</td>\n",
              "      <td>%)</td>\n",
              "    </tr>\n",
              "    <tr>\n",
              "      <th>10</th>\n",
              "      <td>14</td>\n",
              "      <td>Schedulers</td>\n",
              "      <td>2</td>\n",
              "      <td>344</td>\n",
              "      <td>344</td>\n",
              "      <td>344</td>\n",
              "      <td>24</td>\n",
              "      <td>(</td>\n",
              "      <td>%)</td>\n",
              "    </tr>\n",
              "    <tr>\n",
              "      <th>11</th>\n",
              "      <td>2</td>\n",
              "      <td>Average Users</td>\n",
              "      <td>3</td>\n",
              "      <td>558</td>\n",
              "      <td>558</td>\n",
              "      <td>0</td>\n",
              "      <td>39</td>\n",
              "      <td>(</td>\n",
              "      <td>%)</td>\n",
              "    </tr>\n",
              "    <tr>\n",
              "      <th>12</th>\n",
              "      <td>6</td>\n",
              "      <td>Intense Digital Engagers</td>\n",
              "      <td>3</td>\n",
              "      <td>273</td>\n",
              "      <td>273</td>\n",
              "      <td>0</td>\n",
              "      <td>19</td>\n",
              "      <td>(</td>\n",
              "      <td>%)</td>\n",
              "    </tr>\n",
              "    <tr>\n",
              "      <th>13</th>\n",
              "      <td>9</td>\n",
              "      <td>Non-Users</td>\n",
              "      <td>3</td>\n",
              "      <td>4</td>\n",
              "      <td>0</td>\n",
              "      <td>0</td>\n",
              "      <td>0</td>\n",
              "      <td>(</td>\n",
              "      <td>%)</td>\n",
              "    </tr>\n",
              "    <tr>\n",
              "      <th>14</th>\n",
              "      <td>12</td>\n",
              "      <td>Resulters</td>\n",
              "      <td>3</td>\n",
              "      <td>290</td>\n",
              "      <td>290</td>\n",
              "      <td>0</td>\n",
              "      <td>20</td>\n",
              "      <td>(</td>\n",
              "      <td>%)</td>\n",
              "    </tr>\n",
              "    <tr>\n",
              "      <th>15</th>\n",
              "      <td>15</td>\n",
              "      <td>Schedulers</td>\n",
              "      <td>3</td>\n",
              "      <td>306</td>\n",
              "      <td>306</td>\n",
              "      <td>0</td>\n",
              "      <td>21</td>\n",
              "      <td>(</td>\n",
              "      <td>%)</td>\n",
              "    </tr>\n",
              "  </tbody>\n",
              "</table>\n",
              "</div>"
            ],
            "text/plain": [
              "    index                 clus_high  tri  pat_epi  ...  next_clus  perc  aa  bb\n",
              "0       0             Average Users    1      610  ...        610    43   (  %)\n",
              "1       3       Exclusive Resulters    1      107  ...        107     7   (  %)\n",
              "2       4  Intense Digital Engagers    1      254  ...        254    18   (  %)\n",
              "3       7                 Non-Users    1       10  ...         10     1   (  %)\n",
              "4      10                 Resulters    1      262  ...        262    18   (  %)\n",
              "5      13                Schedulers    1      188  ...        188    13   (  %)\n",
              "6       1             Average Users    2      688  ...        688    48   (  %)\n",
              "7       5  Intense Digital Engagers    2      297  ...        297    21   (  %)\n",
              "8       8                 Non-Users    2        2  ...          2     0   (  %)\n",
              "9      11                 Resulters    2      100  ...        100     7   (  %)\n",
              "10     14                Schedulers    2      344  ...        344    24   (  %)\n",
              "11      2             Average Users    3      558  ...          0    39   (  %)\n",
              "12      6  Intense Digital Engagers    3      273  ...          0    19   (  %)\n",
              "13      9                 Non-Users    3        4  ...          0     0   (  %)\n",
              "14     12                 Resulters    3      290  ...          0    20   (  %)\n",
              "15     15                Schedulers    3      306  ...          0    21   (  %)\n",
              "\n",
              "[16 rows x 9 columns]"
            ]
          },
          "metadata": {
            "tags": []
          },
          "execution_count": 156
        }
      ]
    },
    {
      "cell_type": "code",
      "metadata": {
        "colab": {
          "base_uri": "https://localhost:8080/",
          "height": 542
        },
        "id": "V3GePETXeya7",
        "outputId": "655cf9bc-7dbf-4b84-c748-d5bddafa9dfa"
      },
      "source": [
        "# label = [\"{} {}\".format(node1_name, node1_val), \"{} {}\".format(node2_name, node2_val) ...]\n",
        "fig = go.Figure(data=[go.Sankey(\n",
        "    node=dict(\n",
        "        thickness=20,  # default is 20\n",
        "        line=dict(color=\"black\", width=0.5),\n",
        "        label=labels,\n",
        "        color=colors\n",
        "    ),\n",
        "    link=dict(\n",
        "        source=sources,\n",
        "        target=targets,\n",
        "        value=values,\n",
        "        hovertemplate='%{value} unique pregnancy episodes went from %{source.label} to %{target.label}.<br />',\n",
        "    ))])\n",
        "\n",
        "fig.update_layout(autosize=True, title=dict(text=\"Movement of Clusters Among High-Risk Pregnancies\", font_size=16), font=dict(size=12, family=\"Arial\"), plot_bgcolor='white')\n",
        "fig.show()"
      ],
      "execution_count": null,
      "outputs": [
        {
          "output_type": "display_data",
          "data": {
            "text/html": [
              "<html>\n",
              "<head><meta charset=\"utf-8\" /></head>\n",
              "<body>\n",
              "    <div>\n",
              "            <script src=\"https://cdnjs.cloudflare.com/ajax/libs/mathjax/2.7.5/MathJax.js?config=TeX-AMS-MML_SVG\"></script><script type=\"text/javascript\">if (window.MathJax) {MathJax.Hub.Config({SVG: {font: \"STIX-Web\"}});}</script>\n",
              "                <script type=\"text/javascript\">window.PlotlyConfig = {MathJaxConfig: 'local'};</script>\n",
              "        <script src=\"https://cdn.plot.ly/plotly-latest.min.js\"></script>    \n",
              "            <div id=\"ab4fe9b5-fcf2-45fd-b599-60b7df0c8c67\" class=\"plotly-graph-div\" style=\"height:525px; width:100%;\"></div>\n",
              "            <script type=\"text/javascript\">\n",
              "                \n",
              "                    window.PLOTLYENV=window.PLOTLYENV || {};\n",
              "                    \n",
              "                if (document.getElementById(\"ab4fe9b5-fcf2-45fd-b599-60b7df0c8c67\")) {\n",
              "                    Plotly.newPlot(\n",
              "                        'ab4fe9b5-fcf2-45fd-b599-60b7df0c8c67',\n",
              "                        [{\"link\": {\"hovertemplate\": \"%{value} unique pregnancy episodes went from %{source.label} to %{target.label}.<br />\", \"source\": [0, 0, 0, 0, 0, 6, 6, 6, 6, 6, 1, 1, 1, 1, 1, 7, 7, 7, 7, 7, 2, 2, 2, 2, 8, 8, 8, 8, 8, 9, 9, 9, 9, 3, 3, 3, 3, 4, 4, 4, 4, 5, 5, 5, 5, 10], \"target\": [6, 9, 8, 7, 10, 11, 13, 12, 14, 15, 7, 8, 6, 9, 10, 12, 14, 11, 13, 15, 8, 9, 6, 7, 11, 14, 13, 12, 15, 11, 12, 14, 13, 6, 9, 7, 8, 6, 8, 9, 7, 8, 7, 6, 9, 11], \"value\": [147, 78, 354, 30, 1, 116, 202, 17, 8, 1, 24, 59, 8, 15, 1, 57, 9, 23, 10, 1, 66, 163, 8, 17, 362, 78, 87, 159, 2, 55, 57, 178, 7, 34, 38, 25, 165, 144, 41, 2, 1, 3, 3, 3, 1, 2]}, \"node\": {\"color\": [\"rgb(80, 190, 151)\", \"rgb(251, 238, 172)\", \"rgb(191, 214, 222)\", \"rgb(62, 80, 102)\", \"rgb(228, 101, 92)\", \"rgb(252, 200, 101)\", \"rgb(228, 101, 92)\", \"rgb(62, 80, 102)\", \"rgb(80, 190, 151)\", \"rgb(191, 214, 222)\", \"rgb(252, 200, 101)\", \"rgb(80, 190, 151)\", \"rgb(62, 80, 102)\", \"rgb(228, 101, 92)\", \"rgb(191, 214, 222)\", \"rgb(252, 200, 101)\"], \"label\": [\"Average Users : 610 (43%)\", \"Exclusive Resulters : 107 (7%)\", \"Intense Digital Engagers : 254 (18%)\", \"Resulters : 262 (18%)\", \"Schedulers : 188 (13%)\", \"Non-Users : 10 (1%)\", \"Schedulers : 344 (24%)\", \"Resulters : 100 (7%)\", \"Average Users : 688 (48%)\", \"Intense Digital Engagers : 297 (21%)\", \"Non-Users : 2 (0%)\", \"Average Users : 558 (39%)\", \"Resulters : 290 (20%)\", \"Schedulers : 306 (21%)\", \"Intense Digital Engagers : 273 (19%)\", \"Non-Users : 4 (0%)\"], \"line\": {\"color\": \"black\", \"width\": 0.5}, \"thickness\": 20}, \"type\": \"sankey\"}],\n",
              "                        {\"autosize\": true, \"font\": {\"family\": \"Arial\", \"size\": 12}, \"plot_bgcolor\": \"white\", \"template\": {\"data\": {\"bar\": [{\"error_x\": {\"color\": \"#2a3f5f\"}, \"error_y\": {\"color\": \"#2a3f5f\"}, \"marker\": {\"line\": {\"color\": \"#E5ECF6\", \"width\": 0.5}}, \"type\": \"bar\"}], \"barpolar\": [{\"marker\": {\"line\": {\"color\": \"#E5ECF6\", \"width\": 0.5}}, \"type\": \"barpolar\"}], \"carpet\": [{\"aaxis\": {\"endlinecolor\": \"#2a3f5f\", \"gridcolor\": \"white\", \"linecolor\": \"white\", \"minorgridcolor\": \"white\", \"startlinecolor\": \"#2a3f5f\"}, \"baxis\": {\"endlinecolor\": \"#2a3f5f\", \"gridcolor\": \"white\", \"linecolor\": \"white\", \"minorgridcolor\": \"white\", \"startlinecolor\": \"#2a3f5f\"}, \"type\": \"carpet\"}], \"choropleth\": [{\"colorbar\": {\"outlinewidth\": 0, \"ticks\": \"\"}, \"type\": \"choropleth\"}], \"contour\": [{\"colorbar\": {\"outlinewidth\": 0, \"ticks\": \"\"}, \"colorscale\": [[0.0, \"#0d0887\"], [0.1111111111111111, \"#46039f\"], [0.2222222222222222, \"#7201a8\"], [0.3333333333333333, \"#9c179e\"], [0.4444444444444444, \"#bd3786\"], [0.5555555555555556, \"#d8576b\"], [0.6666666666666666, \"#ed7953\"], [0.7777777777777778, \"#fb9f3a\"], [0.8888888888888888, \"#fdca26\"], [1.0, \"#f0f921\"]], \"type\": \"contour\"}], \"contourcarpet\": [{\"colorbar\": {\"outlinewidth\": 0, \"ticks\": \"\"}, \"type\": \"contourcarpet\"}], \"heatmap\": [{\"colorbar\": {\"outlinewidth\": 0, \"ticks\": \"\"}, \"colorscale\": [[0.0, \"#0d0887\"], [0.1111111111111111, \"#46039f\"], [0.2222222222222222, \"#7201a8\"], [0.3333333333333333, \"#9c179e\"], [0.4444444444444444, \"#bd3786\"], [0.5555555555555556, \"#d8576b\"], [0.6666666666666666, \"#ed7953\"], [0.7777777777777778, \"#fb9f3a\"], [0.8888888888888888, \"#fdca26\"], [1.0, \"#f0f921\"]], \"type\": \"heatmap\"}], \"heatmapgl\": [{\"colorbar\": {\"outlinewidth\": 0, \"ticks\": \"\"}, \"colorscale\": [[0.0, \"#0d0887\"], [0.1111111111111111, \"#46039f\"], [0.2222222222222222, \"#7201a8\"], [0.3333333333333333, \"#9c179e\"], [0.4444444444444444, \"#bd3786\"], [0.5555555555555556, \"#d8576b\"], [0.6666666666666666, \"#ed7953\"], [0.7777777777777778, \"#fb9f3a\"], [0.8888888888888888, \"#fdca26\"], [1.0, \"#f0f921\"]], \"type\": \"heatmapgl\"}], \"histogram\": [{\"marker\": {\"colorbar\": {\"outlinewidth\": 0, \"ticks\": \"\"}}, \"type\": \"histogram\"}], \"histogram2d\": [{\"colorbar\": {\"outlinewidth\": 0, \"ticks\": \"\"}, \"colorscale\": [[0.0, \"#0d0887\"], [0.1111111111111111, \"#46039f\"], [0.2222222222222222, \"#7201a8\"], [0.3333333333333333, \"#9c179e\"], [0.4444444444444444, \"#bd3786\"], [0.5555555555555556, \"#d8576b\"], [0.6666666666666666, \"#ed7953\"], [0.7777777777777778, \"#fb9f3a\"], [0.8888888888888888, \"#fdca26\"], [1.0, \"#f0f921\"]], \"type\": \"histogram2d\"}], \"histogram2dcontour\": [{\"colorbar\": {\"outlinewidth\": 0, \"ticks\": \"\"}, \"colorscale\": [[0.0, \"#0d0887\"], [0.1111111111111111, \"#46039f\"], [0.2222222222222222, \"#7201a8\"], [0.3333333333333333, \"#9c179e\"], [0.4444444444444444, \"#bd3786\"], [0.5555555555555556, \"#d8576b\"], [0.6666666666666666, \"#ed7953\"], [0.7777777777777778, \"#fb9f3a\"], [0.8888888888888888, \"#fdca26\"], [1.0, \"#f0f921\"]], \"type\": \"histogram2dcontour\"}], \"mesh3d\": [{\"colorbar\": {\"outlinewidth\": 0, \"ticks\": \"\"}, \"type\": \"mesh3d\"}], \"parcoords\": [{\"line\": {\"colorbar\": {\"outlinewidth\": 0, \"ticks\": \"\"}}, \"type\": \"parcoords\"}], \"pie\": [{\"automargin\": true, \"type\": \"pie\"}], \"scatter\": [{\"marker\": {\"colorbar\": {\"outlinewidth\": 0, \"ticks\": \"\"}}, \"type\": \"scatter\"}], \"scatter3d\": [{\"line\": {\"colorbar\": {\"outlinewidth\": 0, \"ticks\": \"\"}}, \"marker\": {\"colorbar\": {\"outlinewidth\": 0, \"ticks\": \"\"}}, \"type\": \"scatter3d\"}], \"scattercarpet\": [{\"marker\": {\"colorbar\": {\"outlinewidth\": 0, \"ticks\": \"\"}}, \"type\": \"scattercarpet\"}], \"scattergeo\": [{\"marker\": {\"colorbar\": {\"outlinewidth\": 0, \"ticks\": \"\"}}, \"type\": \"scattergeo\"}], \"scattergl\": [{\"marker\": {\"colorbar\": {\"outlinewidth\": 0, \"ticks\": \"\"}}, \"type\": \"scattergl\"}], \"scattermapbox\": [{\"marker\": {\"colorbar\": {\"outlinewidth\": 0, \"ticks\": \"\"}}, \"type\": \"scattermapbox\"}], \"scatterpolar\": [{\"marker\": {\"colorbar\": {\"outlinewidth\": 0, \"ticks\": \"\"}}, \"type\": \"scatterpolar\"}], \"scatterpolargl\": [{\"marker\": {\"colorbar\": {\"outlinewidth\": 0, \"ticks\": \"\"}}, \"type\": \"scatterpolargl\"}], \"scatterternary\": [{\"marker\": {\"colorbar\": {\"outlinewidth\": 0, \"ticks\": \"\"}}, \"type\": \"scatterternary\"}], \"surface\": [{\"colorbar\": {\"outlinewidth\": 0, \"ticks\": \"\"}, \"colorscale\": [[0.0, \"#0d0887\"], [0.1111111111111111, \"#46039f\"], [0.2222222222222222, \"#7201a8\"], [0.3333333333333333, \"#9c179e\"], [0.4444444444444444, \"#bd3786\"], [0.5555555555555556, \"#d8576b\"], [0.6666666666666666, \"#ed7953\"], [0.7777777777777778, \"#fb9f3a\"], [0.8888888888888888, \"#fdca26\"], [1.0, \"#f0f921\"]], \"type\": \"surface\"}], \"table\": [{\"cells\": {\"fill\": {\"color\": \"#EBF0F8\"}, \"line\": {\"color\": \"white\"}}, \"header\": {\"fill\": {\"color\": \"#C8D4E3\"}, \"line\": {\"color\": \"white\"}}, \"type\": \"table\"}]}, \"layout\": {\"annotationdefaults\": {\"arrowcolor\": \"#2a3f5f\", \"arrowhead\": 0, \"arrowwidth\": 1}, \"coloraxis\": {\"colorbar\": {\"outlinewidth\": 0, \"ticks\": \"\"}}, \"colorscale\": {\"diverging\": [[0, \"#8e0152\"], [0.1, \"#c51b7d\"], [0.2, \"#de77ae\"], [0.3, \"#f1b6da\"], [0.4, \"#fde0ef\"], [0.5, \"#f7f7f7\"], [0.6, \"#e6f5d0\"], [0.7, \"#b8e186\"], [0.8, \"#7fbc41\"], [0.9, \"#4d9221\"], [1, \"#276419\"]], \"sequential\": [[0.0, \"#0d0887\"], [0.1111111111111111, \"#46039f\"], [0.2222222222222222, \"#7201a8\"], [0.3333333333333333, \"#9c179e\"], [0.4444444444444444, \"#bd3786\"], [0.5555555555555556, \"#d8576b\"], [0.6666666666666666, \"#ed7953\"], [0.7777777777777778, \"#fb9f3a\"], [0.8888888888888888, \"#fdca26\"], [1.0, \"#f0f921\"]], \"sequentialminus\": [[0.0, \"#0d0887\"], [0.1111111111111111, \"#46039f\"], [0.2222222222222222, \"#7201a8\"], [0.3333333333333333, \"#9c179e\"], [0.4444444444444444, \"#bd3786\"], [0.5555555555555556, \"#d8576b\"], [0.6666666666666666, \"#ed7953\"], [0.7777777777777778, \"#fb9f3a\"], [0.8888888888888888, \"#fdca26\"], [1.0, \"#f0f921\"]]}, \"colorway\": [\"#636efa\", \"#EF553B\", \"#00cc96\", \"#ab63fa\", \"#FFA15A\", \"#19d3f3\", \"#FF6692\", \"#B6E880\", \"#FF97FF\", \"#FECB52\"], \"font\": {\"color\": \"#2a3f5f\"}, \"geo\": {\"bgcolor\": \"white\", \"lakecolor\": \"white\", \"landcolor\": \"#E5ECF6\", \"showlakes\": true, \"showland\": true, \"subunitcolor\": \"white\"}, \"hoverlabel\": {\"align\": \"left\"}, \"hovermode\": \"closest\", \"mapbox\": {\"style\": \"light\"}, \"paper_bgcolor\": \"white\", \"plot_bgcolor\": \"#E5ECF6\", \"polar\": {\"angularaxis\": {\"gridcolor\": \"white\", \"linecolor\": \"white\", \"ticks\": \"\"}, \"bgcolor\": \"#E5ECF6\", \"radialaxis\": {\"gridcolor\": \"white\", \"linecolor\": \"white\", \"ticks\": \"\"}}, \"scene\": {\"xaxis\": {\"backgroundcolor\": \"#E5ECF6\", \"gridcolor\": \"white\", \"gridwidth\": 2, \"linecolor\": \"white\", \"showbackground\": true, \"ticks\": \"\", \"zerolinecolor\": \"white\"}, \"yaxis\": {\"backgroundcolor\": \"#E5ECF6\", \"gridcolor\": \"white\", \"gridwidth\": 2, \"linecolor\": \"white\", \"showbackground\": true, \"ticks\": \"\", \"zerolinecolor\": \"white\"}, \"zaxis\": {\"backgroundcolor\": \"#E5ECF6\", \"gridcolor\": \"white\", \"gridwidth\": 2, \"linecolor\": \"white\", \"showbackground\": true, \"ticks\": \"\", \"zerolinecolor\": \"white\"}}, \"shapedefaults\": {\"line\": {\"color\": \"#2a3f5f\"}}, \"ternary\": {\"aaxis\": {\"gridcolor\": \"white\", \"linecolor\": \"white\", \"ticks\": \"\"}, \"baxis\": {\"gridcolor\": \"white\", \"linecolor\": \"white\", \"ticks\": \"\"}, \"bgcolor\": \"#E5ECF6\", \"caxis\": {\"gridcolor\": \"white\", \"linecolor\": \"white\", \"ticks\": \"\"}}, \"title\": {\"x\": 0.05}, \"xaxis\": {\"automargin\": true, \"gridcolor\": \"white\", \"linecolor\": \"white\", \"ticks\": \"\", \"title\": {\"standoff\": 15}, \"zerolinecolor\": \"white\", \"zerolinewidth\": 2}, \"yaxis\": {\"automargin\": true, \"gridcolor\": \"white\", \"linecolor\": \"white\", \"ticks\": \"\", \"title\": {\"standoff\": 15}, \"zerolinecolor\": \"white\", \"zerolinewidth\": 2}}}, \"title\": {\"font\": {\"size\": 16}, \"text\": \"Movement of Clusters Among High-Risk Pregnancies\"}},\n",
              "                        {\"responsive\": true}\n",
              "                    ).then(function(){\n",
              "                            \n",
              "var gd = document.getElementById('ab4fe9b5-fcf2-45fd-b599-60b7df0c8c67');\n",
              "var x = new MutationObserver(function (mutations, observer) {{\n",
              "        var display = window.getComputedStyle(gd).display;\n",
              "        if (!display || display === 'none') {{\n",
              "            console.log([gd, 'removed!']);\n",
              "            Plotly.purge(gd);\n",
              "            observer.disconnect();\n",
              "        }}\n",
              "}});\n",
              "\n",
              "// Listen for the removal of the full notebook cells\n",
              "var notebookContainer = gd.closest('#notebook-container');\n",
              "if (notebookContainer) {{\n",
              "    x.observe(notebookContainer, {childList: true});\n",
              "}}\n",
              "\n",
              "// Listen for the clearing of the current output cell\n",
              "var outputEl = gd.closest('.output');\n",
              "if (outputEl) {{\n",
              "    x.observe(outputEl, {childList: true});\n",
              "}}\n",
              "\n",
              "                        })\n",
              "                };\n",
              "                \n",
              "            </script>\n",
              "        </div>\n",
              "</body>\n",
              "</html>"
            ]
          },
          "metadata": {
            "tags": []
          }
        }
      ]
    },
    {
      "cell_type": "code",
      "metadata": {
        "id": "SkPCtQuWXIXr"
      },
      "source": [
        ""
      ],
      "execution_count": null,
      "outputs": []
    }
  ]
}